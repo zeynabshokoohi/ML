{
  "nbformat": 4,
  "nbformat_minor": 0,
  "metadata": {
    "kernelspec": {
      "display_name": "Python 3",
      "language": "python",
      "name": "python3"
    },
    "language_info": {
      "codemirror_mode": {
        "name": "ipython",
        "version": 3
      },
      "file_extension": ".py",
      "mimetype": "text/x-python",
      "name": "python",
      "nbconvert_exporter": "python",
      "pygments_lexer": "ipython3",
      "version": "3.7.6"
    },
    "colab": {
      "provenance": []
    }
  },
  "cells": [
    {
      "cell_type": "markdown",
      "metadata": {
        "id": "q3rR8XxUuaUC"
      },
      "source": [
        "# Use-case - You need to create a model that can predict the species of the flower based on the biological factor of the iris flower"
      ]
    },
    {
      "cell_type": "code",
      "metadata": {
        "id": "cIkWhyGzuaUF"
      },
      "source": [
        "import numpy as np\n",
        "import pandas as pd"
      ],
      "execution_count": null,
      "outputs": []
    },
    {
      "cell_type": "code",
      "metadata": {
        "id": "UxYisjgkuaUF"
      },
      "source": [
        "data= pd.read_csv('https://gist.githubusercontent.com/curran/a08a1080b88344b0c8a7/raw/639388c2cbc2120a14dcf466e85730eb8be498bb/iris.csv')"
      ],
      "execution_count": null,
      "outputs": []
    },
    {
      "cell_type": "code",
      "metadata": {
        "colab": {
          "base_uri": "https://localhost:8080/",
          "height": 202
        },
        "id": "f8HKSXcT-0Oy",
        "outputId": "9bddd7d5-7a44-4f6c-c116-bba64dc27833"
      },
      "source": [
        "data.head()"
      ],
      "execution_count": null,
      "outputs": [
        {
          "output_type": "execute_result",
          "data": {
            "text/html": [
              "<div>\n",
              "<style scoped>\n",
              "    .dataframe tbody tr th:only-of-type {\n",
              "        vertical-align: middle;\n",
              "    }\n",
              "\n",
              "    .dataframe tbody tr th {\n",
              "        vertical-align: top;\n",
              "    }\n",
              "\n",
              "    .dataframe thead th {\n",
              "        text-align: right;\n",
              "    }\n",
              "</style>\n",
              "<table border=\"1\" class=\"dataframe\">\n",
              "  <thead>\n",
              "    <tr style=\"text-align: right;\">\n",
              "      <th></th>\n",
              "      <th>sepal_length</th>\n",
              "      <th>sepal_width</th>\n",
              "      <th>petal_length</th>\n",
              "      <th>petal_width</th>\n",
              "      <th>species</th>\n",
              "    </tr>\n",
              "  </thead>\n",
              "  <tbody>\n",
              "    <tr>\n",
              "      <th>0</th>\n",
              "      <td>5.1</td>\n",
              "      <td>3.5</td>\n",
              "      <td>1.4</td>\n",
              "      <td>0.2</td>\n",
              "      <td>setosa</td>\n",
              "    </tr>\n",
              "    <tr>\n",
              "      <th>1</th>\n",
              "      <td>4.9</td>\n",
              "      <td>3.0</td>\n",
              "      <td>1.4</td>\n",
              "      <td>0.2</td>\n",
              "      <td>setosa</td>\n",
              "    </tr>\n",
              "    <tr>\n",
              "      <th>2</th>\n",
              "      <td>4.7</td>\n",
              "      <td>3.2</td>\n",
              "      <td>1.3</td>\n",
              "      <td>0.2</td>\n",
              "      <td>setosa</td>\n",
              "    </tr>\n",
              "    <tr>\n",
              "      <th>3</th>\n",
              "      <td>4.6</td>\n",
              "      <td>3.1</td>\n",
              "      <td>1.5</td>\n",
              "      <td>0.2</td>\n",
              "      <td>setosa</td>\n",
              "    </tr>\n",
              "    <tr>\n",
              "      <th>4</th>\n",
              "      <td>5.0</td>\n",
              "      <td>3.6</td>\n",
              "      <td>1.4</td>\n",
              "      <td>0.2</td>\n",
              "      <td>setosa</td>\n",
              "    </tr>\n",
              "  </tbody>\n",
              "</table>\n",
              "</div>"
            ],
            "text/plain": [
              "   sepal_length  sepal_width  petal_length  petal_width species\n",
              "0           5.1          3.5           1.4          0.2  setosa\n",
              "1           4.9          3.0           1.4          0.2  setosa\n",
              "2           4.7          3.2           1.3          0.2  setosa\n",
              "3           4.6          3.1           1.5          0.2  setosa\n",
              "4           5.0          3.6           1.4          0.2  setosa"
            ]
          },
          "metadata": {
            "tags": []
          },
          "execution_count": 3
        }
      ]
    },
    {
      "cell_type": "code",
      "metadata": {
        "id": "uSfE-Q_HuaUG",
        "outputId": "eb21119a-b050-4036-aa42-bf4e16abae66"
      },
      "source": [
        "data.species.value_counts() #Balanced Dataset"
      ],
      "execution_count": null,
      "outputs": [
        {
          "output_type": "execute_result",
          "data": {
            "text/plain": [
              "setosa        50\n",
              "virginica     50\n",
              "versicolor    50\n",
              "Name: species, dtype: int64"
            ]
          },
          "metadata": {
            "tags": []
          },
          "execution_count": 4
        }
      ]
    },
    {
      "cell_type": "code",
      "metadata": {
        "id": "JtBDh2WmuaUH",
        "outputId": "4b434aaf-7fdc-40a1-dcbe-bab592b51d0b"
      },
      "source": [
        "data.head()"
      ],
      "execution_count": null,
      "outputs": [
        {
          "output_type": "execute_result",
          "data": {
            "text/html": [
              "<div>\n",
              "<style scoped>\n",
              "    .dataframe tbody tr th:only-of-type {\n",
              "        vertical-align: middle;\n",
              "    }\n",
              "\n",
              "    .dataframe tbody tr th {\n",
              "        vertical-align: top;\n",
              "    }\n",
              "\n",
              "    .dataframe thead th {\n",
              "        text-align: right;\n",
              "    }\n",
              "</style>\n",
              "<table border=\"1\" class=\"dataframe\">\n",
              "  <thead>\n",
              "    <tr style=\"text-align: right;\">\n",
              "      <th></th>\n",
              "      <th>sepal_length</th>\n",
              "      <th>sepal_width</th>\n",
              "      <th>petal_length</th>\n",
              "      <th>petal_width</th>\n",
              "      <th>species</th>\n",
              "    </tr>\n",
              "  </thead>\n",
              "  <tbody>\n",
              "    <tr>\n",
              "      <th>0</th>\n",
              "      <td>5.1</td>\n",
              "      <td>3.5</td>\n",
              "      <td>1.4</td>\n",
              "      <td>0.2</td>\n",
              "      <td>setosa</td>\n",
              "    </tr>\n",
              "    <tr>\n",
              "      <th>1</th>\n",
              "      <td>4.9</td>\n",
              "      <td>3.0</td>\n",
              "      <td>1.4</td>\n",
              "      <td>0.2</td>\n",
              "      <td>setosa</td>\n",
              "    </tr>\n",
              "    <tr>\n",
              "      <th>2</th>\n",
              "      <td>4.7</td>\n",
              "      <td>3.2</td>\n",
              "      <td>1.3</td>\n",
              "      <td>0.2</td>\n",
              "      <td>setosa</td>\n",
              "    </tr>\n",
              "    <tr>\n",
              "      <th>3</th>\n",
              "      <td>4.6</td>\n",
              "      <td>3.1</td>\n",
              "      <td>1.5</td>\n",
              "      <td>0.2</td>\n",
              "      <td>setosa</td>\n",
              "    </tr>\n",
              "    <tr>\n",
              "      <th>4</th>\n",
              "      <td>5.0</td>\n",
              "      <td>3.6</td>\n",
              "      <td>1.4</td>\n",
              "      <td>0.2</td>\n",
              "      <td>setosa</td>\n",
              "    </tr>\n",
              "  </tbody>\n",
              "</table>\n",
              "</div>"
            ],
            "text/plain": [
              "   sepal_length  sepal_width  petal_length  petal_width species\n",
              "0           5.1          3.5           1.4          0.2  setosa\n",
              "1           4.9          3.0           1.4          0.2  setosa\n",
              "2           4.7          3.2           1.3          0.2  setosa\n",
              "3           4.6          3.1           1.5          0.2  setosa\n",
              "4           5.0          3.6           1.4          0.2  setosa"
            ]
          },
          "metadata": {
            "tags": []
          },
          "execution_count": 5
        }
      ]
    },
    {
      "cell_type": "code",
      "metadata": {
        "id": "1eJtRPdcuaUH"
      },
      "source": [
        "features = data.iloc[:,:-1].values\n",
        "label = data.iloc[:,-1].values"
      ],
      "execution_count": null,
      "outputs": []
    },
    {
      "cell_type": "code",
      "metadata": {
        "id": "R7-kcu9_uaUH",
        "outputId": "4f9b2e8f-e861-4b42-a266-b77ecb2e7d21"
      },
      "source": [
        "label"
      ],
      "execution_count": null,
      "outputs": [
        {
          "output_type": "execute_result",
          "data": {
            "text/plain": [
              "array(['setosa', 'setosa', 'setosa', 'setosa', 'setosa', 'setosa',\n",
              "       'setosa', 'setosa', 'setosa', 'setosa', 'setosa', 'setosa',\n",
              "       'setosa', 'setosa', 'setosa', 'setosa', 'setosa', 'setosa',\n",
              "       'setosa', 'setosa', 'setosa', 'setosa', 'setosa', 'setosa',\n",
              "       'setosa', 'setosa', 'setosa', 'setosa', 'setosa', 'setosa',\n",
              "       'setosa', 'setosa', 'setosa', 'setosa', 'setosa', 'setosa',\n",
              "       'setosa', 'setosa', 'setosa', 'setosa', 'setosa', 'setosa',\n",
              "       'setosa', 'setosa', 'setosa', 'setosa', 'setosa', 'setosa',\n",
              "       'setosa', 'setosa', 'versicolor', 'versicolor', 'versicolor',\n",
              "       'versicolor', 'versicolor', 'versicolor', 'versicolor',\n",
              "       'versicolor', 'versicolor', 'versicolor', 'versicolor',\n",
              "       'versicolor', 'versicolor', 'versicolor', 'versicolor',\n",
              "       'versicolor', 'versicolor', 'versicolor', 'versicolor',\n",
              "       'versicolor', 'versicolor', 'versicolor', 'versicolor',\n",
              "       'versicolor', 'versicolor', 'versicolor', 'versicolor',\n",
              "       'versicolor', 'versicolor', 'versicolor', 'versicolor',\n",
              "       'versicolor', 'versicolor', 'versicolor', 'versicolor',\n",
              "       'versicolor', 'versicolor', 'versicolor', 'versicolor',\n",
              "       'versicolor', 'versicolor', 'versicolor', 'versicolor',\n",
              "       'versicolor', 'versicolor', 'versicolor', 'versicolor',\n",
              "       'versicolor', 'versicolor', 'versicolor', 'virginica', 'virginica',\n",
              "       'virginica', 'virginica', 'virginica', 'virginica', 'virginica',\n",
              "       'virginica', 'virginica', 'virginica', 'virginica', 'virginica',\n",
              "       'virginica', 'virginica', 'virginica', 'virginica', 'virginica',\n",
              "       'virginica', 'virginica', 'virginica', 'virginica', 'virginica',\n",
              "       'virginica', 'virginica', 'virginica', 'virginica', 'virginica',\n",
              "       'virginica', 'virginica', 'virginica', 'virginica', 'virginica',\n",
              "       'virginica', 'virginica', 'virginica', 'virginica', 'virginica',\n",
              "       'virginica', 'virginica', 'virginica', 'virginica', 'virginica',\n",
              "       'virginica', 'virginica', 'virginica', 'virginica', 'virginica',\n",
              "       'virginica', 'virginica', 'virginica'], dtype=object)"
            ]
          },
          "metadata": {
            "tags": []
          },
          "execution_count": 13
        }
      ]
    },
    {
      "cell_type": "code",
      "metadata": {
        "id": "bYEyDVXduaUI",
        "outputId": "8831d5c7-8eca-4cdd-b37d-59ee1c80ad7c"
      },
      "source": [
        "from sklearn.model_selection import train_test_split\n",
        "from sklearn.neighbors import KNeighborsClassifier\n",
        "\n",
        "X_train,X_test,y_train,y_test = train_test_split(features,\n",
        "                                                label,\n",
        "                                                test_size=0.2,\n",
        "                                                 random_state=23)\n",
        "\n",
        "modelKNN = KNeighborsClassifier(n_neighbors=5)\n",
        "modelKNN.fit(X_train,y_train)"
      ],
      "execution_count": null,
      "outputs": [
        {
          "output_type": "execute_result",
          "data": {
            "text/plain": [
              "KNeighborsClassifier(algorithm='auto', leaf_size=30, metric='minkowski',\n",
              "                     metric_params=None, n_jobs=None, n_neighbors=5, p=2,\n",
              "                     weights='uniform')"
            ]
          },
          "metadata": {
            "tags": []
          },
          "execution_count": 7
        }
      ]
    },
    {
      "cell_type": "code",
      "metadata": {
        "id": "9nwWnRffuaUI",
        "outputId": "1dc12d64-e3c1-4be1-f1e4-337e274a7af0"
      },
      "source": [
        "print(modelKNN.score(X_train,y_train))\n",
        "print(modelKNN.score(X_test,y_test))"
      ],
      "execution_count": null,
      "outputs": [
        {
          "output_type": "stream",
          "text": [
            "0.9583333333333334\n",
            "1.0\n"
          ],
          "name": "stdout"
        }
      ]
    },
    {
      "cell_type": "code",
      "metadata": {
        "id": "Mu_q7FW_uaUJ",
        "outputId": "4189a39b-dad5-4e52-c678-a7064390c7c1"
      },
      "source": [
        "#Numerical Perspective --- Approved the model !!!\n",
        "\n",
        "modelKNN.score(features,label)"
      ],
      "execution_count": null,
      "outputs": [
        {
          "output_type": "execute_result",
          "data": {
            "text/plain": [
              "0.9666666666666667"
            ]
          },
          "metadata": {
            "tags": []
          },
          "execution_count": 10
        }
      ]
    },
    {
      "cell_type": "code",
      "metadata": {
        "id": "AChA4ZNruaUJ"
      },
      "source": [
        "# Viz perspective for this dataset --> ROC AUC\n",
        "# For demo I will show Both methods..."
      ],
      "execution_count": null,
      "outputs": []
    },
    {
      "cell_type": "markdown",
      "metadata": {
        "id": "835IPRwxuaUK"
      },
      "source": [
        "# Dealing with Multiclass Classification Problems"
      ]
    },
    {
      "cell_type": "code",
      "metadata": {
        "id": "GoBg1cdRuaUK"
      },
      "source": [
        "# WE need to convert our prb set into Binary problem set. \n",
        "# This is achievable using OneVsRestClassifier\n",
        "#\n",
        "# We need to ensure our labels follow the binary nature for ROC and PR\n",
        "# Rules for OneVsRestClassifier:\n",
        "# 1. Labels must be NUMERIC in nature\n",
        "# 2. Your model algo must support predict_proba , decision function"
      ],
      "execution_count": null,
      "outputs": []
    },
    {
      "cell_type": "code",
      "metadata": {
        "colab": {
          "base_uri": "https://localhost:8080/"
        },
        "id": "18INmygDuaUK",
        "outputId": "899f1a6e-c0ce-4ee3-b699-5da346953a99"
      },
      "source": [
        "data.species.unique().tolist()"
      ],
      "execution_count": null,
      "outputs": [
        {
          "output_type": "execute_result",
          "data": {
            "text/plain": [
              "['setosa', 'versicolor', 'virginica']"
            ]
          },
          "metadata": {
            "tags": []
          },
          "execution_count": 4
        }
      ]
    },
    {
      "cell_type": "code",
      "metadata": {
        "id": "LTAMupaVuaUK"
      },
      "source": [
        "# Step1: Encode the labels to Binary Labels\n",
        "# Ensure label is written in ascending order\n",
        "from sklearn.preprocessing import label_binarize\n",
        "\n",
        "y = label_binarize(label, classes=['setosa', 'versicolor', 'virginica'])\n"
      ],
      "execution_count": null,
      "outputs": []
    },
    {
      "cell_type": "code",
      "metadata": {
        "id": "YxgauIlfuaUL"
      },
      "source": [
        "#Step2: Create Train Test Split\n",
        "\n",
        "X_train,X_test,y_train,y_test = train_test_split(features,\n",
        "                                                y,\n",
        "                                                test_size=0.2,\n",
        "                                                 random_state=23)"
      ],
      "execution_count": null,
      "outputs": []
    },
    {
      "cell_type": "code",
      "metadata": {
        "id": "b8Jw6F6nuaUL"
      },
      "source": [
        "#Step3: Apply algo on OneVsRestClassifier\n",
        "# KNN doesnt support OneVSRestClassifier\n",
        "\n",
        "from sklearn.multiclass import OneVsRestClassifier\n",
        "from sklearn.linear_model import LogisticRegression\n",
        "\n",
        "multiClassModel = OneVsRestClassifier(LogisticRegression())\n",
        "\n",
        "y_score = multiClassModel.fit(X_train,y_train).decision_function(features)\n"
      ],
      "execution_count": null,
      "outputs": []
    },
    {
      "cell_type": "code",
      "metadata": {
        "id": "7s7ggMsnuaUL",
        "outputId": "add30c47-fbbf-4d38-b5c1-dc9272fa085d"
      },
      "source": [
        "y_score"
      ],
      "execution_count": null,
      "outputs": [
        {
          "output_type": "execute_result",
          "data": {
            "text/plain": [
              "array([[ 3.83606109e+00, -1.97392292e+00, -1.27063905e+01],\n",
              "       [ 3.50578675e+00, -9.40184808e-01, -1.24435397e+01],\n",
              "       [ 3.98086915e+00, -1.34431683e+00, -1.27340292e+01],\n",
              "       [ 3.49715100e+00, -1.00315509e+00, -1.21163308e+01],\n",
              "       [ 3.96269577e+00, -2.14609041e+00, -1.27150572e+01],\n",
              "       [ 3.19007218e+00, -2.84916735e+00, -1.17027690e+01],\n",
              "       [ 3.87695946e+00, -1.75008735e+00, -1.22903973e+01],\n",
              "       [ 3.57415597e+00, -1.69255820e+00, -1.23618484e+01],\n",
              "       [ 3.63877985e+00, -6.19816773e-01, -1.22467151e+01],\n",
              "       [ 3.45943183e+00, -9.80722892e-01, -1.24295784e+01],\n",
              "       [ 3.65116093e+00, -2.38196132e+00, -1.26073659e+01],\n",
              "       [ 3.43888553e+00, -1.58336099e+00, -1.20259729e+01],\n",
              "       [ 3.64115278e+00, -8.18952252e-01, -1.26313486e+01],\n",
              "       [ 4.52294837e+00, -8.74842909e-01, -1.32940189e+01],\n",
              "       [ 4.39360499e+00, -3.25075554e+00, -1.36723520e+01],\n",
              "       [ 3.92070128e+00, -4.02719962e+00, -1.25432918e+01],\n",
              "       [ 4.07732431e+00, -3.08835550e+00, -1.27953937e+01],\n",
              "       [ 3.74396635e+00, -2.07045538e+00, -1.24872219e+01],\n",
              "       [ 3.06898963e+00, -2.62986757e+00, -1.19759903e+01],\n",
              "       [ 3.77224348e+00, -2.60126110e+00, -1.23341447e+01],\n",
              "       [ 2.95744471e+00, -1.67176449e+00, -1.19409747e+01],\n",
              "       [ 3.59678536e+00, -2.50092598e+00, -1.20749497e+01],\n",
              "       [ 5.02303310e+00, -2.28647819e+00, -1.36822432e+01],\n",
              "       [ 2.72761102e+00, -1.69039404e+00, -1.11493635e+01],\n",
              "       [ 2.77344644e+00, -1.40396988e+00, -1.12065044e+01],\n",
              "       [ 3.01888938e+00, -8.45290827e-01, -1.19285870e+01],\n",
              "       [ 3.16815347e+00, -1.82582610e+00, -1.16503550e+01],\n",
              "       [ 3.57097675e+00, -1.93882597e+00, -1.24645940e+01],\n",
              "       [ 3.70942640e+00, -1.80175542e+00, -1.26977239e+01],\n",
              "       [ 3.31543006e+00, -1.16492573e+00, -1.19145606e+01],\n",
              "       [ 3.18879537e+00, -9.92758233e-01, -1.19058940e+01],\n",
              "       [ 3.21688130e+00, -1.98442350e+00, -1.20489498e+01],\n",
              "       [ 4.16325181e+00, -3.02349902e+00, -1.29239205e+01],\n",
              "       [ 4.24651960e+00, -3.45079637e+00, -1.31120133e+01],\n",
              "       [ 3.45943183e+00, -9.80722892e-01, -1.24295784e+01],\n",
              "       [ 4.07286829e+00, -1.47821414e+00, -1.31012643e+01],\n",
              "       [ 3.88478892e+00, -2.13252031e+00, -1.31049853e+01],\n",
              "       [ 3.45943183e+00, -9.80722892e-01, -1.24295784e+01],\n",
              "       [ 3.94395627e+00, -8.76481394e-01, -1.25598976e+01],\n",
              "       [ 3.53088467e+00, -1.71725829e+00, -1.23932081e+01],\n",
              "       [ 4.00905068e+00, -2.10555233e+00, -1.27290184e+01],\n",
              "       [ 3.22504653e+00,  3.80359149e-01, -1.20919045e+01],\n",
              "       [ 4.11068305e+00, -1.27021656e+00, -1.26399502e+01],\n",
              "       [ 3.06732739e+00, -2.21575862e+00, -1.12520441e+01],\n",
              "       [ 2.79289662e+00, -2.45860543e+00, -1.10223513e+01],\n",
              "       [ 3.45696331e+00, -1.01201718e+00, -1.21930114e+01],\n",
              "       [ 3.64252518e+00, -2.44493160e+00, -1.22801571e+01],\n",
              "       [ 3.80232742e+00, -1.25981971e+00, -1.24295133e+01],\n",
              "       [ 3.69443223e+00, -2.35726123e+00, -1.25760063e+01],\n",
              "       [ 3.71260561e+00, -1.55548765e+00, -1.25949783e+01],\n",
              "       [-5.66115061e+00, -1.03770929e+00, -1.53796800e+00],\n",
              "       [-5.04999148e+00, -1.10563529e+00, -1.67695377e+00],\n",
              "       [-6.23696349e+00, -7.93080011e-01, -7.01101070e-01],\n",
              "       [-4.11756565e+00,  7.82553545e-01, -2.83859819e+00],\n",
              "       [-5.64852937e+00, -2.83068002e-01, -1.27505204e+00],\n",
              "       [-4.89635647e+00,  4.78006149e-02, -1.73566817e+00],\n",
              "       [-5.45907759e+00, -1.25474118e+00, -9.20139449e-01],\n",
              "       [-1.94559905e+00,  6.04904649e-01, -5.26006561e+00],\n",
              "       [-5.42424781e+00, -3.11570744e-01, -1.78477524e+00],\n",
              "       [-3.52457991e+00, -8.71460293e-02, -2.95861199e+00],\n",
              "       [-2.76594996e+00,  1.48726897e+00, -4.58500770e+00],\n",
              "       [-4.33492267e+00, -7.67790775e-01, -2.25957138e+00],\n",
              "       [-4.14100134e+00,  1.14551808e+00, -3.61287604e+00],\n",
              "       [-5.52179908e+00, -2.24805726e-01, -1.13565215e+00],\n",
              "       [-2.77340450e+00, -6.62540200e-01, -4.20274038e+00],\n",
              "       [-4.94926100e+00, -9.46132543e-01, -2.22333124e+00],\n",
              "       [-4.87054787e+00, -5.14299399e-01, -1.34602388e+00],\n",
              "       [-3.85945483e+00,  2.70377367e-01, -3.47713207e+00],\n",
              "       [-5.79708276e+00,  9.12440746e-01, -1.21397140e+00],\n",
              "       [-3.58810768e+00,  4.97386181e-01, -3.66150387e+00],\n",
              "       [-5.77535828e+00, -1.09234113e+00, -4.31810944e-02],\n",
              "       [-3.96037651e+00, -3.49984922e-01, -3.22688768e+00],\n",
              "       [-6.47751603e+00,  5.36326041e-01, -2.72785283e-01],\n",
              "       [-5.42097300e+00,  1.65126792e-01, -1.53396308e+00],\n",
              "       [-4.67226612e+00, -4.41561671e-01, -2.54152444e+00],\n",
              "       [-4.98935309e+00, -7.24564867e-01, -2.15194527e+00],\n",
              "       [-6.12987459e+00, -1.41041734e-01, -1.04198729e+00],\n",
              "       [-6.63978678e+00, -6.80080143e-01,  1.13137964e-01],\n",
              "       [-5.12699645e+00, -4.16232173e-01, -1.43143622e+00],\n",
              "       [-2.56866873e+00,  1.33162830e-01, -5.04468315e+00],\n",
              "       [-3.40638674e+00,  6.59156821e-01, -3.86327408e+00],\n",
              "       [-3.09247897e+00,  6.95892252e-01, -4.35559888e+00],\n",
              "       [-3.60001824e+00, -4.22816362e-02, -3.58510719e+00],\n",
              "       [-6.71669615e+00,  2.39752745e-01,  5.06722054e-01],\n",
              "       [-4.78400527e+00, -4.64899219e-01, -1.28330456e+00],\n",
              "       [-4.80227425e+00, -1.49710257e+00, -1.41239912e+00],\n",
              "       [-5.70679483e+00, -8.63273903e-01, -1.18469410e+00],\n",
              "       [-5.35098818e+00,  8.24140968e-01, -1.99685078e+00],\n",
              "       [-3.79910627e+00, -5.60422608e-01, -2.87698581e+00],\n",
              "       [-3.95083888e+00,  3.88818374e-01, -2.91865080e+00],\n",
              "       [-4.66263289e+00,  5.27671397e-01, -2.08522103e+00],\n",
              "       [-5.21662266e+00, -4.81470347e-01, -1.44883463e+00],\n",
              "       [-3.90519466e+00,  2.14382985e-01, -3.27192471e+00],\n",
              "       [-2.07223374e+00,  7.77072145e-01, -5.25139897e+00],\n",
              "       [-4.27100947e+00,  8.99771838e-02, -2.48375073e+00],\n",
              "       [-3.97209587e+00, -4.28793196e-01, -2.85435792e+00],\n",
              "       [-4.14755399e+00, -3.28458077e-01, -2.59516299e+00],\n",
              "       [-4.58572352e+00, -3.92161491e-01, -2.47880512e+00],\n",
              "       [-1.37543390e+00,  8.27133111e-02, -5.96311114e+00],\n",
              "       [-4.00910435e+00, -1.91387527e-01, -2.82829286e+00],\n",
              "       [-9.17149961e+00, -1.34617192e+00,  4.60340837e+00],\n",
              "       [-6.90643775e+00, -4.44474418e-04,  1.22694723e+00],\n",
              "       [-9.17756820e+00, -6.26837049e-01,  3.32277936e+00],\n",
              "       [-7.97303790e+00, -1.22162451e-01,  2.13670857e+00],\n",
              "       [-8.78822210e+00, -6.34966011e-01,  3.45694977e+00],\n",
              "       [-1.09466159e+01, -3.31758250e-01,  5.07807428e+00],\n",
              "       [-5.16865518e+00,  4.49874226e-01, -4.88037502e-01],\n",
              "       [-9.95844211e+00,  4.94158980e-02,  3.73520519e+00],\n",
              "       [-8.92320271e+00,  6.86101602e-01,  2.71768750e+00],\n",
              "       [-9.53266417e+00, -2.09927845e+00,  4.47424869e+00],\n",
              "       [-6.88461464e+00, -1.25421550e+00,  1.02646670e+00],\n",
              "       [-7.60969161e+00, -2.90509430e-02,  1.58510162e+00],\n",
              "       [-8.16050217e+00, -7.91924921e-01,  2.32423365e+00],\n",
              "       [-6.90017493e+00,  2.61661285e-01,  1.28437194e+00],\n",
              "       [-7.28354803e+00, -6.79974392e-01,  2.28276401e+00],\n",
              "       [-7.56125360e+00, -1.39951874e+00,  2.26164457e+00],\n",
              "       [-7.75440408e+00, -4.28227252e-01,  1.76080677e+00],\n",
              "       [-1.06368879e+01, -1.96813445e+00,  5.21882897e+00],\n",
              "       [-1.21729693e+01,  4.17338176e-01,  6.46462560e+00],\n",
              "       [-6.81960532e+00,  1.26082610e+00,  2.14528785e-01],\n",
              "       [-8.66486223e+00, -1.28383104e+00,  3.19747096e+00],\n",
              "       [-6.38500043e+00, -3.64038417e-01,  9.22496514e-01],\n",
              "       [-1.12863323e+01,  1.93606333e-01,  5.18075478e+00],\n",
              "       [-6.58707345e+00, -1.47006529e-01,  3.04667963e-01],\n",
              "       [-8.31076677e+00, -1.23823352e+00,  2.78182674e+00],\n",
              "       [-8.99964155e+00, -6.95877875e-01,  2.82701741e+00],\n",
              "       [-6.23862573e+00, -3.78971060e-01,  2.28451441e-02],\n",
              "       [-6.25044069e+00, -6.88209106e-01,  2.47308369e-01],\n",
              "       [-8.37595678e+00, -2.39592355e-01,  2.80288107e+00],\n",
              "       [-8.53855280e+00, -2.28671842e-01,  1.92242044e+00],\n",
              "       [-9.73354547e+00,  5.45685630e-03,  3.41672810e+00],\n",
              "       [-9.87380192e+00, -2.00386081e+00,  3.89830390e+00],\n",
              "       [-8.46805152e+00, -3.36124821e-01,  3.02204969e+00],\n",
              "       [-6.67105193e+00,  6.53173557e-02,  1.53448151e-01],\n",
              "       [-7.76820653e+00,  9.03970350e-01,  1.44283233e+00],\n",
              "       [-1.00650115e+01, -8.48508450e-01,  4.11927099e+00],\n",
              "       [-8.10878936e+00, -1.68569518e+00,  3.25158876e+00],\n",
              "       [-7.62776939e+00, -6.00394748e-01,  1.75214013e+00],\n",
              "       [-5.98535636e+00, -7.23306051e-01,  5.51185488e-03],\n",
              "       [-7.89859705e+00, -1.07328963e+00,  1.97969151e+00],\n",
              "       [-8.53196472e+00, -1.19389278e+00,  3.24622903e+00],\n",
              "       [-7.41734742e+00, -1.44574567e+00,  1.59856022e+00],\n",
              "       [-6.90643775e+00, -4.44474418e-04,  1.22694723e+00],\n",
              "       [-9.06521699e+00, -1.13953688e+00,  3.77514297e+00],\n",
              "       [-8.67914571e+00, -1.62436338e+00,  3.65850121e+00],\n",
              "       [-7.63598124e+00, -1.13968087e+00,  1.97446202e+00],\n",
              "       [-7.06770799e+00,  2.09993212e-01,  8.77045364e-01],\n",
              "       [-7.27315445e+00, -8.00683291e-01,  1.37967549e+00],\n",
              "       [-7.52979726e+00, -1.68405669e+00,  2.51746745e+00],\n",
              "       [-6.60752415e+00, -5.19214855e-01,  8.56340037e-01]])"
            ]
          },
          "metadata": {
            "tags": []
          },
          "execution_count": 22
        }
      ]
    },
    {
      "cell_type": "code",
      "metadata": {
        "id": "uy9rQC_zuaUL",
        "outputId": "78258d82-27a7-4c62-ed7a-97a0ffd8a26d"
      },
      "source": [
        "#Plot ROC for each Label \n",
        "from sklearn.metrics import roc_curve\n",
        "from sklearn.metrics import roc_auc_score\n",
        "import matplotlib.pyplot as plt\n",
        "%matplotlib inline\n",
        "\n",
        "fpr = dict()\n",
        "tpr = dict()\n",
        "auc = dict()\n",
        "\n",
        "\n",
        "#Step1: Extract the prob of true value for your label (1)\n",
        "#probabilityValues = model.predict_proba(X_test)[:,1]\n",
        "\n",
        "\n",
        "for i in range(0,len(data.species.unique())):\n",
        "    #Step2: Calc AUC\n",
        "    auc[i] = roc_auc_score(y[:,i], y_score[:,i])\n",
        "    #Step4: Calc fpr tpr\n",
        "    fpr[i],tpr[i],_ = roc_curve(y[:,i], y_score[:,i])\n",
        "    \n",
        "    \n",
        "for i in range(0,len(data.species.unique())):\n",
        "    plt.figure()\n",
        "    plt.plot([0,1],[0,1] , linestyle='--')\n",
        "    plt.plot(fpr[i],tpr[i])\n",
        "    print(auc[i])"
      ],
      "execution_count": null,
      "outputs": [
        {
          "output_type": "stream",
          "text": [
            "1.0\n",
            "0.8112\n",
            "0.9975999999999999\n"
          ],
          "name": "stdout"
        },
        {
          "output_type": "display_data",
          "data": {
            "image/png": "[encoded data removed]",
            "text/plain": [
              "<Figure size 432x288 with 1 Axes>"
            ]
          },
          "metadata": {
            "tags": [],
            "needs_background": "light"
          }
        },
        {
          "output_type": "display_data",
          "data": {
            "image/png": "[encoded data removed]",
            "text/plain": [
              "<Figure size 432x288 with 1 Axes>"
            ]
          },
          "metadata": {
            "tags": [],
            "needs_background": "light"
          }
        },
        {
          "output_type": "display_data",
          "data": {
            "image/png": "[encoded data removed]",
            "text/plain": [
              "<Figure size 432x288 with 1 Axes>"
            ]
          },
          "metadata": {
            "tags": [],
            "needs_background": "light"
          }
        }
      ]
    },
    {
      "cell_type": "code",
      "metadata": {
        "id": "ZTlzgkYzuaUM",
        "outputId": "5881f8e1-4462-496a-8972-5f5ed8f333b8"
      },
      "source": [
        "#Plot ROC for each Label \n",
        "from sklearn.metrics import precision_recall_curve\n",
        "from sklearn.metrics import auc\n",
        "import matplotlib.pyplot as plt\n",
        "%matplotlib inline\n",
        "\n",
        "precision = dict()\n",
        "recall = dict()\n",
        "auc1 = dict()\n",
        "\n",
        "\n",
        "#Step1: Extract the prob of true value for your label (1)\n",
        "#probabilityValues = model.predict_proba(X_test)[:,1]\n",
        "\n",
        "\n",
        "for i in range(0,len(data.species.unique())):\n",
        "    \n",
        "    #Step4: Calc fpr tpr\n",
        "    precision[i],recall[i],_ = precision_recall_curve(y[:,i], y_score[:,i])\n",
        "    #Step2: Calc AUC\n",
        "    auc1[i] = auc(recall[i],precision[i])\n",
        "    \n",
        "    \n",
        "for i in range(0,len(data.species.unique())):\n",
        "    plt.figure()\n",
        "    plt.plot([0,1],[0.5,0.5] , linestyle='--')\n",
        "    plt.plot(recall[i],precision[i])\n",
        "    print(auc1[i])"
      ],
      "execution_count": null,
      "outputs": [
        {
          "output_type": "stream",
          "text": [
            "1.0\n",
            "0.6251095152832314\n",
            "0.9951638571214363\n"
          ],
          "name": "stdout"
        },
        {
          "output_type": "display_data",
          "data": {
            "image/png": "[encoded data removed]",
            "text/plain": [
              "<Figure size 432x288 with 1 Axes>"
            ]
          },
          "metadata": {
            "tags": [],
            "needs_background": "light"
          }
        },
        {
          "output_type": "display_data",
          "data": {
            "image/png": "[encoded data removed]",
            "text/plain": [
              "<Figure size 432x288 with 1 Axes>"
            ]
          },
          "metadata": {
            "tags": [],
            "needs_background": "light"
          }
        },
        {
          "output_type": "display_data",
          "data": {
            "image/png": "[encoded data removed]",
            "text/plain": [
              "<Figure size 432x288 with 1 Axes>"
            ]
          },
          "metadata": {
            "tags": [],
            "needs_background": "light"
          }
        }
      ]
    },
    {
      "cell_type": "code",
      "metadata": {
        "id": "mUq7oyvduaUM"
      },
      "source": [
        "#Since LogisticRegression is a good candidate for the given sample set, the trained model\n",
        "# can be deployed on the basis of ROC Curve Analysis\n"
      ],
      "execution_count": null,
      "outputs": []
    }
  ]
}