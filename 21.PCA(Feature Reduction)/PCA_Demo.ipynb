{
  "cells": [
    {
      "cell_type": "code",
      "execution_count": null,
      "metadata": {
        "id": "XehdQwvcB3DJ"
      },
      "outputs": [],
      "source": [
        "import numpy as np\n",
        "import pandas as pd"
      ]
    },
    {
      "cell_type": "code",
      "execution_count": null,
      "metadata": {
        "id": "eQXr3eLYB3DL"
      },
      "outputs": [],
      "source": [
        "data = pd.read_csv(\"iris.csv\")"
      ]
    },
    {
      "cell_type": "code",
      "execution_count": null,
      "metadata": {
        "id": "GinO-M2zB3DL",
        "outputId": "660a2cea-e4ac-404f-8490-0154863caf91"
      },
      "outputs": [
        {
          "data": {
            "text/html": [
              "<div>\n",
              "<style scoped>\n",
              "    .dataframe tbody tr th:only-of-type {\n",
              "        vertical-align: middle;\n",
              "    }\n",
              "\n",
              "    .dataframe tbody tr th {\n",
              "        vertical-align: top;\n",
              "    }\n",
              "\n",
              "    .dataframe thead th {\n",
              "        text-align: right;\n",
              "    }\n",
              "</style>\n",
              "<table border=\"1\" class=\"dataframe\">\n",
              "  <thead>\n",
              "    <tr style=\"text-align: right;\">\n",
              "      <th></th>\n",
              "      <th>sepal_length</th>\n",
              "      <th>sepal_width</th>\n",
              "      <th>petal_length</th>\n",
              "      <th>petal_width</th>\n",
              "      <th>species</th>\n",
              "    </tr>\n",
              "  </thead>\n",
              "  <tbody>\n",
              "    <tr>\n",
              "      <th>0</th>\n",
              "      <td>5.1</td>\n",
              "      <td>3.5</td>\n",
              "      <td>1.4</td>\n",
              "      <td>0.2</td>\n",
              "      <td>setosa</td>\n",
              "    </tr>\n",
              "    <tr>\n",
              "      <th>1</th>\n",
              "      <td>4.9</td>\n",
              "      <td>3.0</td>\n",
              "      <td>1.4</td>\n",
              "      <td>0.2</td>\n",
              "      <td>setosa</td>\n",
              "    </tr>\n",
              "    <tr>\n",
              "      <th>2</th>\n",
              "      <td>4.7</td>\n",
              "      <td>3.2</td>\n",
              "      <td>1.3</td>\n",
              "      <td>0.2</td>\n",
              "      <td>setosa</td>\n",
              "    </tr>\n",
              "    <tr>\n",
              "      <th>3</th>\n",
              "      <td>4.6</td>\n",
              "      <td>3.1</td>\n",
              "      <td>1.5</td>\n",
              "      <td>0.2</td>\n",
              "      <td>setosa</td>\n",
              "    </tr>\n",
              "    <tr>\n",
              "      <th>4</th>\n",
              "      <td>5.0</td>\n",
              "      <td>3.6</td>\n",
              "      <td>1.4</td>\n",
              "      <td>0.2</td>\n",
              "      <td>setosa</td>\n",
              "    </tr>\n",
              "  </tbody>\n",
              "</table>\n",
              "</div>"
            ],
            "text/plain": [
              "   sepal_length  sepal_width  petal_length  petal_width species\n",
              "0           5.1          3.5           1.4          0.2  setosa\n",
              "1           4.9          3.0           1.4          0.2  setosa\n",
              "2           4.7          3.2           1.3          0.2  setosa\n",
              "3           4.6          3.1           1.5          0.2  setosa\n",
              "4           5.0          3.6           1.4          0.2  setosa"
            ]
          },
          "execution_count": 29,
          "metadata": {},
          "output_type": "execute_result"
        }
      ],
      "source": [
        "data.head()"
      ]
    },
    {
      "cell_type": "code",
      "execution_count": null,
      "metadata": {
        "id": "1ZSsTrdtB3DM"
      },
      "outputs": [],
      "source": [
        "features = data.iloc[:,:-1].values\n",
        "label = data.iloc[:,-1].values"
      ]
    },
    {
      "cell_type": "code",
      "execution_count": null,
      "metadata": {
        "id": "TLgq4xyaB3DM"
      },
      "outputs": [],
      "source": [
        "#PCA\n",
        "# Guidelines:\n",
        "# 1. Standardization(StandardScaler) is mandatory.\n",
        "# 2. Hyperparameter for PCA (n_components <= no of features)\n",
        "# 3. n_components can be judged using :\n",
        "#          count based on variance(component value should be greater than or \n",
        "#           equal to 75%)"
      ]
    },
    {
      "cell_type": "code",
      "execution_count": null,
      "metadata": {
        "id": "NY57-b9BB3DM"
      },
      "outputs": [],
      "source": [
        "# 1. Standardization(StandardScaler) is mandatory.\n",
        "from sklearn.preprocessing import StandardScaler\n",
        "sc = StandardScaler()\n",
        "features = sc.fit_transform(features)"
      ]
    },
    {
      "cell_type": "code",
      "execution_count": null,
      "metadata": {
        "id": "5o00zEV5B3DN",
        "outputId": "262d42b6-3147-445c-de62-12bf26e78631"
      },
      "outputs": [
        {
          "data": {
            "text/plain": [
              "PCA(copy=True, iterated_power='auto', n_components=4, random_state=None,\n",
              "    svd_solver='auto', tol=0.0, whiten=False)"
            ]
          },
          "execution_count": 6,
          "metadata": {},
          "output_type": "execute_result"
        }
      ],
      "source": [
        "# using this part for explorations\n",
        "\n",
        "# 2. Initialize the PCA and detect the number of principal components\n",
        "from sklearn.decomposition import PCA\n",
        "principalComponents = PCA(n_components=4) #Here n_components = n_features\n",
        "principalComponents.fit(features,label)"
      ]
    },
    {
      "cell_type": "code",
      "execution_count": null,
      "metadata": {
        "id": "SDFfEVo5B3DN",
        "outputId": "e3c83fe5-5b15-4323-f773-a9deb1100fcd"
      },
      "outputs": [
        {
          "data": {
            "text/plain": [
              "array([0.72770452, 0.23030523, 0.03683832, 0.00515193])"
            ]
          },
          "execution_count": 7,
          "metadata": {},
          "output_type": "execute_result"
        }
      ],
      "source": [
        "#Identify the ideal n_components\n",
        "principalComponents.explained_variance_ratio_"
      ]
    },
    {
      "cell_type": "code",
      "execution_count": null,
      "metadata": {
        "id": "R2YqGL6_B3DN"
      },
      "outputs": [],
      "source": [
        "#Since none of the components are greater than or equal to 0.75, we will choose\n",
        "# n_components = 1\n",
        "#Guideline to ensure u get a high quality model\n",
        "#e.g. array([0.8988888, 0.82264637, 0.727833, 0.108765]) --> n_comp= 2"
      ]
    },
    {
      "cell_type": "code",
      "execution_count": null,
      "metadata": {
        "id": "6kRDlhueB3DN",
        "outputId": "ebeb790b-0d1e-4f7c-a296-2315e4581ada"
      },
      "outputs": [
        {
          "data": {
            "text/plain": [
              "PCA(copy=True, iterated_power='auto', n_components=1, random_state=None,\n",
              "    svd_solver='auto', tol=0.0, whiten=False)"
            ]
          },
          "execution_count": 22,
          "metadata": {},
          "output_type": "execute_result"
        }
      ],
      "source": [
        "# using this part for finalize the model\n",
        "\n",
        "#Step3: Apply PCA with correct n_components\n",
        "from sklearn.decomposition import PCA\n",
        "principalComponentsFinal = PCA(n_components=1) #Here n_components = n_features  / here we have trained PCA\n",
        "principalComponentsFinal.fit(features,label)"
      ]
    },
    {
      "cell_type": "code",
      "execution_count": null,
      "metadata": {
        "id": "8QyHkQu3B3DO",
        "outputId": "ba033cbc-2b5d-4275-f6fa-d52f13b08079"
      },
      "outputs": [
        {
          "data": {
            "text/plain": [
              "array([0.72770452])"
            ]
          },
          "execution_count": 23,
          "metadata": {},
          "output_type": "execute_result"
        }
      ],
      "source": [
        "principalComponentsFinal.explained_variance_ratio_"
      ]
    },
    {
      "cell_type": "code",
      "execution_count": null,
      "metadata": {
        "id": "_7dPeMxmB3DO"
      },
      "outputs": [],
      "source": [
        "#Step4: Transform your feature set /  usind the trained PCA, we are recreating our features\n",
        "finalFeatures = principalComponentsFinal.transform(features)  # finalFeatures is our principal component and we use it in train_test_split along with label and ...\n"
      ]
    },
    {
      "cell_type": "code",
      "execution_count": null,
      "metadata": {
        "id": "gYqj_CZPB3DO",
        "outputId": "b26e85c8-b5c9-4849-b48c-966ccf7cd3d3"
      },
      "outputs": [
        {
          "data": {
            "text/plain": [
              "<matplotlib.collections.PathCollection at 0x7fc2b3f18bd0>"
            ]
          },
          "execution_count": 25,
          "metadata": {},
          "output_type": "execute_result"
        },
        {
          "data": {
            "image/png": "[encoded data removed]",
            "text/plain": [
              "<Figure size 432x288 with 1 Axes>"
            ]
          },
          "metadata": {
            "needs_background": "light"
          },
          "output_type": "display_data"
        }
      ],
      "source": [
        "\n",
        "plt.scatter(finalFeatures[:,0],np.ones(len(finalFeatures)))"
      ]
    },
    {
      "cell_type": "code",
      "execution_count": null,
      "metadata": {
        "id": "ZlpTkpSxB3DO",
        "outputId": "1d4739dd-7168-4fcf-a9b2-9ff9be09ba74"
      },
      "outputs": [
        {
          "data": {
            "text/plain": [
              "KNeighborsClassifier(algorithm='auto', leaf_size=30, metric='minkowski',\n",
              "                     metric_params=None, n_jobs=None, n_neighbors=5, p=2,\n",
              "                     weights='uniform')"
            ]
          },
          "execution_count": 26,
          "metadata": {},
          "output_type": "execute_result"
        }
      ],
      "source": [
        "#\n",
        "from sklearn.model_selection import train_test_split\n",
        "from sklearn.neighbors import KNeighborsClassifier\n",
        "\n",
        "X_train,X_test,y_train,y_test = train_test_split(finalFeatures,  # finalFeatures is our principal component and we use it in train_test_split \n",
        "                                                label,\n",
        "                                                test_size=0.2,\n",
        "                                                random_state=9)\n",
        "\n",
        "knn = KNeighborsClassifier()\n",
        "knn.fit(X_train,y_train)"
      ]
    },
    {
      "cell_type": "code",
      "execution_count": null,
      "metadata": {
        "id": "9bwZDCeAB3DO",
        "outputId": "1d542ba2-bf37-4ea3-ee91-0e9bf426c3ac"
      },
      "outputs": [
        {
          "data": {
            "text/plain": [
              "0.9333333333333333"
            ]
          },
          "execution_count": 27,
          "metadata": {},
          "output_type": "execute_result"
        }
      ],
      "source": [
        "knn.score(X_train,y_train)"
      ]
    },
    {
      "cell_type": "code",
      "execution_count": null,
      "metadata": {
        "id": "8_yBzR6mB3DP",
        "outputId": "cb56eec3-69c3-4e8c-e639-f0cfd8cbc202"
      },
      "outputs": [
        {
          "data": {
            "text/plain": [
              "0.9666666666666667"
            ]
          },
          "execution_count": 28,
          "metadata": {},
          "output_type": "execute_result"
        }
      ],
      "source": [
        "knn.score(X_test,y_test)  # the model (knn) is a generalized model bcz test score > train score : 0.96 > 0.93"
      ]
    },
    {
      "cell_type": "code",
      "execution_count": null,
      "metadata": {
        "id": "riZ9YpHHB3DP",
        "outputId": "824a5196-994b-4fb3-a8a4-0c164fc359c5"
      },
      "outputs": [
        {
          "name": "stdout",
          "output_type": "stream",
          "text": [
            "Enter Sepal Length:  5.1\n",
            "Enter Sepal Width:  3.5\n",
            "Enter Petal Length:  1.4\n",
            "Enter Petal Width:  0.2\n"
          ]
        },
        {
          "name": "stdout",
          "output_type": "stream",
          "text": [
            "['setosa']\n"
          ]
        }
      ],
      "source": [
        "#Deployment\n",
        "\n",
        "sepalLength = float(input(\"Enter Sepal Length: \"))\n",
        "sepalWidth =float(input(\"Enter Sepal Width: \"))\n",
        "petalLength = float(input(\"Enter Petal Length: \"))\n",
        "petalWidth =float(input(\"Enter Petal Width: \"))\n",
        "\n",
        "#FeatureSet\n",
        "featureSet = np.array([[sepalLength,sepalWidth,petalLength,petalWidth]])\n",
        "\n",
        "#Standardization\n",
        "featureStandardizedSet = sc.transform(featureSet)\n",
        "\n",
        "#transform features usinG PCA\n",
        "principalCFeatures = principalComponentsFinal.transform(featureStandardizedSet)\n",
        "\n",
        "#Predict\n",
        "print(knn.predict(principalCFeatures))"
      ]
    },
    {
      "cell_type": "code",
      "execution_count": null,
      "metadata": {
        "id": "KOihMh5VB3DP"
      },
      "outputs": [],
      "source": [
        "#Pickle Code\n",
        "import pickle\n",
        "#Deploy StandardScaler Object\n",
        "pickle.dump(sc,open(\"ScalerForIrisdata.scale\",'wb'))\n",
        "#Deploy PCA object\n",
        "pickle.dump(principalComponentsFinal,open('PCA.pca','wb'))\n",
        "#Deploy Model\n",
        "pickle.dump(knn,open('ModelIris.pkl','wb'))"
      ]
    },
    {
      "cell_type": "code",
      "execution_count": null,
      "metadata": {
        "id": "PPL6H9FIB3DP"
      },
      "outputs": [],
      "source": []
    }
  ],
  "metadata": {
    "colab": {
      "provenance": []
    },
    "kernelspec": {
      "display_name": "Python 3",
      "language": "python",
      "name": "python3"
    },
    "language_info": {
      "codemirror_mode": {
        "name": "ipython",
        "version": 3
      },
      "file_extension": ".py",
      "mimetype": "text/x-python",
      "name": "python",
      "nbconvert_exporter": "python",
      "pygments_lexer": "ipython3",
      "version": "3.7.6"
    }
  },
  "nbformat": 4,
  "nbformat_minor": 0
}
