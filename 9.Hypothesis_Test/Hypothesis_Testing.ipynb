{
  "cells": [
    {
      "cell_type": "code",
      "execution_count": null,
      "metadata": {
        "id": "xoeVhANBjecd"
      },
      "outputs": [],
      "source": [
        "import numpy as np\n",
        "import pandas as pd"
      ]
    },
    {
      "cell_type": "code",
      "execution_count": null,
      "metadata": {
        "id": "V33c_fxyjecg"
      },
      "outputs": [],
      "source": [
        "data = pd.read_csv('50_Startups.csv')"
      ]
    },
    {
      "cell_type": "code",
      "execution_count": null,
      "metadata": {
        "id": "txI-pJSxjecg",
        "outputId": "0688cd1c-5b71-4f1f-892c-b44bf03d390e"
      },
      "outputs": [
        {
          "name": "stdout",
          "output_type": "stream",
          "text": [
            "<class 'pandas.core.frame.DataFrame'>\n",
            "RangeIndex: 50 entries, 0 to 49\n",
            "Data columns (total 5 columns):\n",
            " #   Column           Non-Null Count  Dtype  \n",
            "---  ------           --------------  -----  \n",
            " 0   R&D Spend        50 non-null     float64\n",
            " 1   Administration   50 non-null     float64\n",
            " 2   Marketing Spend  50 non-null     float64\n",
            " 3   State            50 non-null     object \n",
            " 4   Profit           50 non-null     float64\n",
            "dtypes: float64(4), object(1)\n",
            "memory usage: 2.1+ KB\n"
          ]
        }
      ],
      "source": [
        "data.info()"
      ]
    },
    {
      "cell_type": "markdown",
      "metadata": {
        "id": "ofFO5_Fpjech"
      },
      "source": [
        "# Correlation Test"
      ]
    },
    {
      "cell_type": "code",
      "execution_count": null,
      "metadata": {
        "id": "m4BNlMw8jech"
      },
      "outputs": [],
      "source": [
        "# 1. Pearson's Correlation Coeff Test\n",
        "\n",
        "# Step1: Create A Viable Question\n",
        "# Question: Lets Test whether R&D Spend and Profit hava a Linear Relationship?\n",
        "\n",
        "# Step2: Convert the Question into Hypothesis Types\n",
        "# \n",
        "# Null Hypothesis : R&D Spend and Profit have NO Linear Relationship\n",
        "# Alternate Hypothesis:  R&D Spend and Profit have Linear Relationship\n",
        "\n",
        "# Step3: Select The Statistical Test to Perform: ---> Pearson's Correlation Test\n",
        "\n",
        "# Step4: Select the Significance Level (SL = 0.05)\n",
        "\n",
        "# Step5: Find the p-value of R&D Spend using Pearson's Correlation Test\n"
      ]
    },
    {
      "cell_type": "code",
      "execution_count": null,
      "metadata": {
        "id": "7QYmcb43jeci",
        "outputId": "22a46f98-eabb-419f-bce6-67e6a38411c6"
      },
      "outputs": [
        {
          "name": "stdout",
          "output_type": "stream",
          "text": [
            "Alternate Hypothesis passed (H1) -- R&D Spend and Profit have Linear Relationship\n"
          ]
        }
      ],
      "source": [
        "# Scipy --> Scientific Python -- All formulaes related to Math and Stat are present in Scipy\n",
        "#\n",
        "SL = 0.05\n",
        "\n",
        "from scipy.stats import pearsonr\n",
        "\n",
        "corr, pvalue = pearsonr(data['R&D Spend'], data['Profit'])\n",
        "\n",
        "if pvalue <= SL:\n",
        "    print(\"Alternate Hypothesis passed (H1) -- R&D Spend and Profit have Linear Relationship\")\n",
        "else:\n",
        "    print(\"Null Hypothesis passed (H0) -- R&D Spend and Profit have NO Linear Relationship\")"
      ]
    },
    {
      "cell_type": "code",
      "execution_count": null,
      "metadata": {
        "id": "bNuAFHn9jeci",
        "outputId": "556ae642-a8a9-4677-df1f-b6b9cd10b3d5"
      },
      "outputs": [
        {
          "name": "stdout",
          "output_type": "stream",
          "text": [
            "Alternate Hypothesis passed (H1) -- Marketing and Profit have Linear Relationship\n"
          ]
        }
      ],
      "source": [
        "# Step1: Create A Viable Question\n",
        "# Question: Lets Test whether Marketing and Profit hava a Linear Relationship?\n",
        "\n",
        "# Step2: Convert the Question into Hypothesis Types\n",
        "# \n",
        "# Null Hypothesis : Marketing and Profit have NO Linear Relationship\n",
        "# Alternate Hypothesis:  Marketing and Profit have Linear Relationship\n",
        "\n",
        "# Step3: Select The Statistical Test to Perform: ---> Pearson's Correlation Test\n",
        "\n",
        "# Step4: Select the Significance Level (SL = 0.05)\n",
        "\n",
        "# Step5: Find the p-value of Marketing using Pearson's Correlation Test\n",
        "\n",
        "SL = 0.05\n",
        "\n",
        "from scipy.stats import pearsonr\n",
        "\n",
        "corr, pvalue = pearsonr(data['Marketing Spend'], data['Profit'])\n",
        "\n",
        "if pvalue <= SL:\n",
        "    print(\"Alternate Hypothesis passed (H1) -- Marketing and Profit have Linear Relationship\")\n",
        "else:\n",
        "    print(\"Null Hypothesis passed (H0) -- Marketing and Profit have NO Linear Relationship\")"
      ]
    },
    {
      "cell_type": "code",
      "execution_count": null,
      "metadata": {
        "id": "ppRjeVdljecj",
        "outputId": "249d7d27-a33f-44cd-ab94-9dad2769b50d"
      },
      "outputs": [
        {
          "name": "stdout",
          "output_type": "stream",
          "text": [
            "Null Hypothesis passed (H0) -- Administration and Profit have NO Linear Relationship\n"
          ]
        }
      ],
      "source": [
        "# Step1: Create A Viable Question\n",
        "# Question: Lets Test whether Administration and Profit hava a Linear Relationship?\n",
        "\n",
        "# Step2: Convert the Question into Hypothesis Types\n",
        "# \n",
        "# Null Hypothesis : Administration and Profit have NO Linear Relationship\n",
        "# Alternate Hypothesis:  Administration and Profit have Linear Relationship\n",
        "\n",
        "# Step3: Select The Statistical Test to Perform: ---> Pearson's Correlation Test\n",
        "\n",
        "# Step4: Select the Significance Level (SL = 0.05)\n",
        "\n",
        "# Step5: Find the p-value of Administration using Pearson's Correlation Test\n",
        "\n",
        "SL = 0.05\n",
        "\n",
        "from scipy.stats import pearsonr\n",
        "\n",
        "corr, pvalue = pearsonr(data['Administration'], data['Profit'])\n",
        "\n",
        "if pvalue <= SL:\n",
        "    print(\"Alternate Hypothesis passed (H1) -- Administration and Profit have Linear Relationship\")\n",
        "else:\n",
        "    print(\"Null Hypothesis passed (H0) -- Administration and Profit have NO Linear Relationship\")"
      ]
    },
    {
      "cell_type": "code",
      "execution_count": null,
      "metadata": {
        "id": "DwSfo1Yrjecj",
        "outputId": "652efbd4-513d-4791-ac70-e28bf7d42b46"
      },
      "outputs": [
        {
          "name": "stdout",
          "output_type": "stream",
          "text": [
            "Null Hypothesis passed (H0) -- Administration and Profit have NO Linear Relationship\n"
          ]
        }
      ],
      "source": [
        "# 2. Spearman Rank Test\n",
        "\n",
        "# Step1: Create A Viable Question\n",
        "# Question: Lets Test whether R&D Spend and Profit hava a Linear Relationship?\n",
        "\n",
        "# Step2: Convert the Question into Hypothesis Types\n",
        "# \n",
        "# Null Hypothesis : R&D Spend and Profit have NO Linear Relationship\n",
        "# Alternate Hypothesis:  R&D Spend and Profit have Linear Relationship\n",
        "\n",
        "# Step3: Select The Statistical Test to Perform: ---> Spearman RankTest \n",
        "\n",
        "# Step4: Select the Significance Level (SL = 0.05)\n",
        "\n",
        "# Step5: Find the p-value of R&D Spend using Spearman Rank Test\n",
        "\n",
        "SL = 0.05\n",
        "\n",
        "from scipy.stats import spearmanr\n",
        "\n",
        "corr, pvalue = spearmanr(data['Administration'], data['Profit'])\n",
        "\n",
        "if pvalue <= SL:\n",
        "    print(\"Alternate Hypothesis passed (H1) -- Administration and Profit have Linear Relationship\")\n",
        "else:\n",
        "    print(\"Null Hypothesis passed (H0) -- Administration and Profit have NO Linear Relationship\")"
      ]
    },
    {
      "cell_type": "code",
      "execution_count": null,
      "metadata": {
        "id": "5wDsVPVhjeck",
        "outputId": "fe2dfc21-4d56-4175-8b7a-54241dcfcd58"
      },
      "outputs": [
        {
          "name": "stdout",
          "output_type": "stream",
          "text": [
            "Null Hypothesis passed (H0) -- Administration and Profit have NO Linear Relationship\n"
          ]
        }
      ],
      "source": [
        "# 3. Kendall tau Test\n",
        "\n",
        "# Step1: Create A Viable Question\n",
        "# Question: Lets Test whether R&D Spend and Profit hava a Linear Relationship?\n",
        "\n",
        "# Step2: Convert the Question into Hypothesis Types\n",
        "# \n",
        "# Null Hypothesis : R&D Spend and Profit have NO Linear Relationship\n",
        "# Alternate Hypothesis:  R&D Spend and Profit have Linear Relationship\n",
        "\n",
        "# Step3: Select The Statistical Test to Perform: ---> Kendall Test \n",
        "\n",
        "# Step4: Select the Significance Level (SL = 0.05)\n",
        "\n",
        "# Step5: Find the p-value of R&D Spend using Kendall Test\n",
        "\n",
        "SL = 0.05\n",
        "\n",
        "from scipy.stats import kendalltau\n",
        "\n",
        "corr, pvalue = kendalltau(data['Administration'], data['Profit'])\n",
        "\n",
        "if pvalue <= SL:\n",
        "    print(\"Alternate Hypothesis passed (H1) -- Administration and Profit have Linear Relationship\")\n",
        "else:\n",
        "    print(\"Null Hypothesis passed (H0) -- Administration and Profit have NO Linear Relationship\")"
      ]
    },
    {
      "cell_type": "markdown",
      "metadata": {
        "id": "rapYqtwEjeck"
      },
      "source": [
        "# Normality Test"
      ]
    },
    {
      "cell_type": "code",
      "execution_count": null,
      "metadata": {
        "id": "30RxCrVUjeck",
        "outputId": "573b8a28-eee1-4ea3-ba11-7b82f8c78c12"
      },
      "outputs": [
        {
          "name": "stdout",
          "output_type": "stream",
          "text": [
            "Alternate Hypothesis passed (H1) -- R&D Spend is normally distributed\n",
            "Confidence Level for R&D by Shapiro : 0.8199481666088104\n"
          ]
        }
      ],
      "source": [
        "# to check whether the given column is normally distributed or not\n",
        "# Shapiro\n",
        "# Step1: Create A Viable Question\n",
        "# Question: Lets Test whether R&D Spend is normally distributed?\n",
        "\n",
        "# Step2: Convert the Question into Hypothesis Types\n",
        "# \n",
        "# Null Hypothesis : R&D Spend is NOT normally distributed\n",
        "# Alternate Hypothesis:  R&D Spend is normally distributed\n",
        "\n",
        "# Step3: Select The Statistical Test to Perform: ---> Shapiro Test \n",
        "\n",
        "# Step4: Select the Significance Level (SL = 0.05)\n",
        "\n",
        "# Step5: Find the p-value of R&D Spend using Shapiro Test\n",
        "\n",
        "SL = 0.05\n",
        "\n",
        "from scipy.stats import shapiro\n",
        "#from scipy.stats import anderson\n",
        "#from scipy.stats import normaltest\n",
        "\n",
        "corr, pvalue = shapiro(data['R&D Spend'])\n",
        "\n",
        "if pvalue >= SL:\n",
        "    print(\"Alternate Hypothesis passed (H1) -- R&D Spend is normally distributed\")\n",
        "else:\n",
        "    print(\"Null Hypothesis passed (H0) -- R&D Spend is NOT normally distributed\")\n",
        "    \n",
        "#print(\"Confidence Level for R&D by Shapiro : {}\".format(1-pvalue))"
      ]
    },
    {
      "cell_type": "code",
      "execution_count": null,
      "metadata": {
        "id": "YV5j-UP2jeck",
        "outputId": "4052ac19-54e8-4156-d66d-7a4cbb2a7aca"
      },
      "outputs": [
        {
          "data": {
            "text/plain": [
              "<matplotlib.axes._subplots.AxesSubplot at 0x1a227fe150>"
            ]
          },
          "execution_count": 16,
          "metadata": {},
          "output_type": "execute_result"
        },
        {
          "data": {
            "image/png": "[encoded data removed]",
            "text/plain": [
              "<Figure size 432x288 with 1 Axes>"
            ]
          },
          "metadata": {
            "needs_background": "light"
          },
          "output_type": "display_data"
        }
      ],
      "source": [
        "import seaborn as sns\n",
        "%matplotlib inline\n",
        "sns.distplot(data['R&D Spend'])"
      ]
    },
    {
      "cell_type": "code",
      "execution_count": null,
      "metadata": {
        "id": "OCavk5--jeck",
        "outputId": "d7bc5765-8058-46d9-b483-763ddde8dff5"
      },
      "outputs": [
        {
          "name": "stdout",
          "output_type": "stream",
          "text": [
            "Alternate Hypothesis passed (H1) -- R&D Spend and Administration are Unequal(No multicollinearity)\n"
          ]
        }
      ],
      "source": [
        "#Non-parametric Test / Parametric Test Goal  !!!!\n",
        "\n",
        "SL = 0.05\n",
        "\n",
        "from scipy.stats import wilcoxon\n",
        "#from scipy.stats import mannwhitneyu\n",
        "#from scipy.stats import kruskal\n",
        "#from scipy.stats import friedmanchisquare\n",
        "\n",
        "corr, pvalue = wilcoxon(data['R&D Spend'], data['Administration'])\n",
        "\n",
        "if pvalue <= SL:\n",
        "    print(\"Alternate Hypothesis passed (H1) -- R&D Spend and Administration are Unequal\")\n",
        "else:\n",
        "    print(\"Null Hypothesis passed (H0) -- R&D Spend and Administration are NOT Unequal\")"
      ]
    },
    {
      "cell_type": "code",
      "execution_count": null,
      "metadata": {
        "id": "W8rBtLDfjecl",
        "outputId": "d02b01f2-62ba-4347-b309-3786ced1a831"
      },
      "outputs": [
        {
          "name": "stdout",
          "output_type": "stream",
          "text": [
            "Alternate Hypothesis passed (H1) -- R&D Spend and Administration are Unequal(No multicollinearity)\n"
          ]
        }
      ],
      "source": [
        "#Parametric Test\n",
        "\n",
        "SL = 0.05\n",
        "\n",
        "from scipy.stats import ttest_ind\n",
        "from scipy.stats import ttest_rel\n",
        "from scipy.stats import f_oneway\n",
        "\n",
        "#from scipy.stats import mannwhitneyu\n",
        "#from scipy.stats import kruskal\n",
        "#from scipy.stats import friedmanchisquare\n",
        "\n",
        "corr, pvalue = ttest_ind(data['R&D Spend'], data['Administration'])\n",
        "\n",
        "if pvalue <= SL:\n",
        "    print(\"Alternate Hypothesis passed (H1) -- R&D Spend and Administration are Unequal\")\n",
        "else:\n",
        "    print(\"Null Hypothesis passed (H0) -- R&D Spend and Administration are NOT Unequal\")"
      ]
    },
    {
      "cell_type": "markdown",
      "metadata": {
        "id": "RcOqh450jecl"
      },
      "source": [
        "# Chi-square Test"
      ]
    },
    {
      "cell_type": "code",
      "execution_count": null,
      "metadata": {
        "id": "29Rm5Bt7jecl"
      },
      "outputs": [],
      "source": [
        "# Use chisquare test in the following conditions\n",
        "# Feature and Label\n",
        "# a. Feature is Categorical and Label is Numerical\n",
        "# b. Feature is Categorical and Label is cAtegorical\n",
        "# c. Feature is Numerical and Label is Categorical\n",
        "# Goal is to test whether there exists any relationship between feature and label\n",
        "# if Relationship exists maintain the feature else eliminate it !!!!"
      ]
    },
    {
      "cell_type": "code",
      "execution_count": null,
      "metadata": {
        "id": "AIayJ2izjecl",
        "outputId": "7ba2fe4d-911c-4bf8-f3e3-638fdedcccf5"
      },
      "outputs": [
        {
          "name": "stdout",
          "output_type": "stream",
          "text": [
            "Null Hypothesis passed (H0) -- State and Profit DOESNOT have some form of relationship\n"
          ]
        }
      ],
      "source": [
        "# Checking the relationship between State(Feature- Categorical) and Profit(Label - Numerical)\n",
        "# Step1: Prepare your data to make it compatible for Chisqurae function\n",
        "\n",
        "#Create Contigency Table\n",
        "\n",
        "c_t = pd.crosstab(data['State'], data['Profit'])\n",
        "\n",
        "# Apply CS Test\n",
        "\n",
        "from scipy.stats import chi2_contingency\n",
        "\n",
        "s,pvalue,a,b = chi2_contingency(c_t)\n",
        "\n",
        "if pvalue <= SL:\n",
        "    print(\"Alternate Hypothesis passed (H1) -- State and Profit have some form of relationship\")\n",
        "else:\n",
        "    print(\"Null Hypothesis passed (H0) -- State and Profit DOESNOT have some form of relationship\")"
      ]
    },
    {
      "cell_type": "code",
      "execution_count": null,
      "metadata": {
        "id": "YF4yoEjBjecl"
      },
      "outputs": [],
      "source": []
    }
  ],
  "metadata": {
    "kernelspec": {
      "display_name": "Python 3",
      "language": "python",
      "name": "python3"
    },
    "language_info": {
      "codemirror_mode": {
        "name": "ipython",
        "version": 3
      },
      "file_extension": ".py",
      "mimetype": "text/x-python",
      "name": "python",
      "nbconvert_exporter": "python",
      "pygments_lexer": "ipython3",
      "version": "3.7.6"
    },
    "colab": {
      "provenance": []
    }
  },
  "nbformat": 4,
  "nbformat_minor": 0
}