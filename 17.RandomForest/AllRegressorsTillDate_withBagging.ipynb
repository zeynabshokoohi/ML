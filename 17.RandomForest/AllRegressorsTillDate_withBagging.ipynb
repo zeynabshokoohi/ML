{
  "cells": [
    {
      "cell_type": "code",
      "execution_count": 14,
      "metadata": {
        "id": "og33zNFtMY8Q"
      },
      "outputs": [],
      "source": [
        "import pandas as pd\n",
        "import numpy as np"
      ]
    },
    {
      "cell_type": "code",
      "execution_count": 15,
      "metadata": {
        "id": "cDCQJo5hMdtA"
      },
      "outputs": [],
      "source": [
        "data = pd.read_csv(\"50_Startups.csv\")"
      ]
    },
    {
      "cell_type": "code",
      "execution_count": 16,
      "metadata": {
        "colab": {
          "base_uri": "https://localhost:8080/"
        },
        "id": "RnJVxNGzMoeP",
        "outputId": "d7db1199-2d74-405d-ea52-f635ac0b9cc5"
      },
      "outputs": [
        {
          "name": "stdout",
          "output_type": "stream",
          "text": [
            "<class 'pandas.core.frame.DataFrame'>\n",
            "RangeIndex: 50 entries, 0 to 49\n",
            "Data columns (total 5 columns):\n",
            " #   Column           Non-Null Count  Dtype  \n",
            "---  ------           --------------  -----  \n",
            " 0   R&D Spend        50 non-null     float64\n",
            " 1   Administration   50 non-null     float64\n",
            " 2   Marketing Spend  50 non-null     float64\n",
            " 3   State            50 non-null     object \n",
            " 4   Profit           50 non-null     float64\n",
            "dtypes: float64(4), object(1)\n",
            "memory usage: 2.1+ KB\n"
          ]
        }
      ],
      "source": [
        "data.info()"
      ]
    },
    {
      "cell_type": "code",
      "execution_count": 17,
      "metadata": {},
      "outputs": [
        {
          "data": {
            "text/html": [
              "<div>\n",
              "<style scoped>\n",
              "    .dataframe tbody tr th:only-of-type {\n",
              "        vertical-align: middle;\n",
              "    }\n",
              "\n",
              "    .dataframe tbody tr th {\n",
              "        vertical-align: top;\n",
              "    }\n",
              "\n",
              "    .dataframe thead th {\n",
              "        text-align: right;\n",
              "    }\n",
              "</style>\n",
              "<table border=\"1\" class=\"dataframe\">\n",
              "  <thead>\n",
              "    <tr style=\"text-align: right;\">\n",
              "      <th></th>\n",
              "      <th>R&amp;D Spend</th>\n",
              "      <th>Administration</th>\n",
              "      <th>Marketing Spend</th>\n",
              "      <th>State</th>\n",
              "      <th>Profit</th>\n",
              "    </tr>\n",
              "  </thead>\n",
              "  <tbody>\n",
              "    <tr>\n",
              "      <th>0</th>\n",
              "      <td>165349.20</td>\n",
              "      <td>136897.80</td>\n",
              "      <td>471784.10</td>\n",
              "      <td>New York</td>\n",
              "      <td>192261.83</td>\n",
              "    </tr>\n",
              "    <tr>\n",
              "      <th>1</th>\n",
              "      <td>162597.70</td>\n",
              "      <td>151377.59</td>\n",
              "      <td>443898.53</td>\n",
              "      <td>California</td>\n",
              "      <td>191792.06</td>\n",
              "    </tr>\n",
              "    <tr>\n",
              "      <th>2</th>\n",
              "      <td>153441.51</td>\n",
              "      <td>101145.55</td>\n",
              "      <td>407934.54</td>\n",
              "      <td>Florida</td>\n",
              "      <td>191050.39</td>\n",
              "    </tr>\n",
              "    <tr>\n",
              "      <th>3</th>\n",
              "      <td>144372.41</td>\n",
              "      <td>118671.85</td>\n",
              "      <td>383199.62</td>\n",
              "      <td>New York</td>\n",
              "      <td>182901.99</td>\n",
              "    </tr>\n",
              "    <tr>\n",
              "      <th>4</th>\n",
              "      <td>142107.34</td>\n",
              "      <td>91391.77</td>\n",
              "      <td>366168.42</td>\n",
              "      <td>Florida</td>\n",
              "      <td>166187.94</td>\n",
              "    </tr>\n",
              "  </tbody>\n",
              "</table>\n",
              "</div>"
            ],
            "text/plain": [
              "   R&D Spend  Administration  Marketing Spend       State     Profit\n",
              "0  165349.20       136897.80        471784.10    New York  192261.83\n",
              "1  162597.70       151377.59        443898.53  California  191792.06\n",
              "2  153441.51       101145.55        407934.54     Florida  191050.39\n",
              "3  144372.41       118671.85        383199.62    New York  182901.99\n",
              "4  142107.34        91391.77        366168.42     Florida  166187.94"
            ]
          },
          "execution_count": 17,
          "metadata": {},
          "output_type": "execute_result"
        }
      ],
      "source": [
        "data.head()"
      ]
    },
    {
      "cell_type": "code",
      "execution_count": 18,
      "metadata": {
        "id": "WFNesC9bMqC-"
      },
      "outputs": [],
      "source": [
        "features = data.iloc[:,[0,1,2]].values\n",
        "label = data.iloc[:,4].values"
      ]
    },
    {
      "cell_type": "code",
      "execution_count": 50,
      "metadata": {
        "id": "FhlJStXePg5l"
      },
      "outputs": [],
      "source": [
        "from sklearn.model_selection import train_test_split\n",
        "X_train,X_test,y_train,y_test = train_test_split(features,\n",
        "                                                label,\n",
        "                                                test_size=0.2,\n",
        "                                                random_state=1)"
      ]
    },
    {
      "attachments": {},
      "cell_type": "markdown",
      "metadata": {
        "id": "iMKAA1DDQCFI"
      },
      "source": [
        "# RandomForest Regressor"
      ]
    },
    {
      "cell_type": "code",
      "execution_count": 51,
      "metadata": {
        "colab": {
          "base_uri": "https://localhost:8080/",
          "height": 74
        },
        "id": "dTkwlJ81Ponb",
        "outputId": "d174d3c3-1a81-4126-efcd-45e898edc416"
      },
      "outputs": [
        {
          "data": {
            "text/html": [
              "<style>#sk-container-id-4 {color: black;}#sk-container-id-4 pre{padding: 0;}#sk-container-id-4 div.sk-toggleable {background-color: white;}#sk-container-id-4 label.sk-toggleable__label {cursor: pointer;display: block;width: 100%;margin-bottom: 0;padding: 0.3em;box-sizing: border-box;text-align: center;}#sk-container-id-4 label.sk-toggleable__label-arrow:before {content: \"▸\";float: left;margin-right: 0.25em;color: #696969;}#sk-container-id-4 label.sk-toggleable__label-arrow:hover:before {color: black;}#sk-container-id-4 div.sk-estimator:hover label.sk-toggleable__label-arrow:before {color: black;}#sk-container-id-4 div.sk-toggleable__content {max-height: 0;max-width: 0;overflow: hidden;text-align: left;background-color: #f0f8ff;}#sk-container-id-4 div.sk-toggleable__content pre {margin: 0.2em;color: black;border-radius: 0.25em;background-color: #f0f8ff;}#sk-container-id-4 input.sk-toggleable__control:checked~div.sk-toggleable__content {max-height: 200px;max-width: 100%;overflow: auto;}#sk-container-id-4 input.sk-toggleable__control:checked~label.sk-toggleable__label-arrow:before {content: \"▾\";}#sk-container-id-4 div.sk-estimator input.sk-toggleable__control:checked~label.sk-toggleable__label {background-color: #d4ebff;}#sk-container-id-4 div.sk-label input.sk-toggleable__control:checked~label.sk-toggleable__label {background-color: #d4ebff;}#sk-container-id-4 input.sk-hidden--visually {border: 0;clip: rect(1px 1px 1px 1px);clip: rect(1px, 1px, 1px, 1px);height: 1px;margin: -1px;overflow: hidden;padding: 0;position: absolute;width: 1px;}#sk-container-id-4 div.sk-estimator {font-family: monospace;background-color: #f0f8ff;border: 1px dotted black;border-radius: 0.25em;box-sizing: border-box;margin-bottom: 0.5em;}#sk-container-id-4 div.sk-estimator:hover {background-color: #d4ebff;}#sk-container-id-4 div.sk-parallel-item::after {content: \"\";width: 100%;border-bottom: 1px solid gray;flex-grow: 1;}#sk-container-id-4 div.sk-label:hover label.sk-toggleable__label {background-color: #d4ebff;}#sk-container-id-4 div.sk-serial::before {content: \"\";position: absolute;border-left: 1px solid gray;box-sizing: border-box;top: 0;bottom: 0;left: 50%;z-index: 0;}#sk-container-id-4 div.sk-serial {display: flex;flex-direction: column;align-items: center;background-color: white;padding-right: 0.2em;padding-left: 0.2em;position: relative;}#sk-container-id-4 div.sk-item {position: relative;z-index: 1;}#sk-container-id-4 div.sk-parallel {display: flex;align-items: stretch;justify-content: center;background-color: white;position: relative;}#sk-container-id-4 div.sk-item::before, #sk-container-id-4 div.sk-parallel-item::before {content: \"\";position: absolute;border-left: 1px solid gray;box-sizing: border-box;top: 0;bottom: 0;left: 50%;z-index: -1;}#sk-container-id-4 div.sk-parallel-item {display: flex;flex-direction: column;z-index: 1;position: relative;background-color: white;}#sk-container-id-4 div.sk-parallel-item:first-child::after {align-self: flex-end;width: 50%;}#sk-container-id-4 div.sk-parallel-item:last-child::after {align-self: flex-start;width: 50%;}#sk-container-id-4 div.sk-parallel-item:only-child::after {width: 0;}#sk-container-id-4 div.sk-dashed-wrapped {border: 1px dashed gray;margin: 0 0.4em 0.5em 0.4em;box-sizing: border-box;padding-bottom: 0.4em;background-color: white;}#sk-container-id-4 div.sk-label label {font-family: monospace;font-weight: bold;display: inline-block;line-height: 1.2em;}#sk-container-id-4 div.sk-label-container {text-align: center;}#sk-container-id-4 div.sk-container {/* jupyter's `normalize.less` sets `[hidden] { display: none; }` but bootstrap.min.css set `[hidden] { display: none !important; }` so we also need the `!important` here to be able to override the default hidden behavior on the sphinx rendered scikit-learn.org. See: https://github.com/scikit-learn/scikit-learn/issues/21755 */display: inline-block !important;position: relative;}#sk-container-id-4 div.sk-text-repr-fallback {display: none;}</style><div id=\"sk-container-id-4\" class=\"sk-top-container\"><div class=\"sk-text-repr-fallback\"><pre>RandomForestRegressor()</pre><b>In a Jupyter environment, please rerun this cell to show the HTML representation or trust the notebook. <br />On GitHub, the HTML representation is unable to render, please try loading this page with nbviewer.org.</b></div><div class=\"sk-container\" hidden><div class=\"sk-item\"><div class=\"sk-estimator sk-toggleable\"><input class=\"sk-toggleable__control sk-hidden--visually\" id=\"sk-estimator-id-4\" type=\"checkbox\" checked><label for=\"sk-estimator-id-4\" class=\"sk-toggleable__label sk-toggleable__label-arrow\">RandomForestRegressor</label><div class=\"sk-toggleable__content\"><pre>RandomForestRegressor()</pre></div></div></div></div></div>"
            ],
            "text/plain": [
              "RandomForestRegressor()"
            ]
          },
          "execution_count": 51,
          "metadata": {},
          "output_type": "execute_result"
        }
      ],
      "source": [
        "from sklearn.ensemble import RandomForestRegressor\n",
        "model = RandomForestRegressor()\n",
        "model.fit(X_train,y_train)"
      ]
    },
    {
      "cell_type": "code",
      "execution_count": 52,
      "metadata": {
        "colab": {
          "base_uri": "https://localhost:8080/"
        },
        "id": "Ubmkep2fPwMm",
        "outputId": "d2281f60-cccd-4ecb-ebe5-32e7959457fb"
      },
      "outputs": [
        {
          "name": "stdout",
          "output_type": "stream",
          "text": [
            "0.9856487605055101\n",
            "0.9389168382672549\n"
          ]
        }
      ],
      "source": [
        "print(model.score(X_train,y_train))\n",
        "print(model.score(X_test,y_test))"
      ]
    },
    {
      "attachments": {},
      "cell_type": "markdown",
      "metadata": {},
      "source": [
        "The RandomForest Regressor model is an overfitted model because train_score > Test_score\n",
        "\n",
        "SO We need to use Bagging to fix overfitting"
      ]
    },
    {
      "cell_type": "code",
      "execution_count": null,
      "metadata": {},
      "outputs": [],
      "source": []
    },
    {
      "attachments": {},
      "cell_type": "markdown",
      "metadata": {},
      "source": [
        "# Implement Bagging for RandomForestRegressor"
      ]
    },
    {
      "attachments": {},
      "cell_type": "markdown",
      "metadata": {},
      "source": [
        " Use For Loop for find the best random_state which test_score > Train_Score"
      ]
    },
    {
      "cell_type": "code",
      "execution_count": 109,
      "metadata": {},
      "outputs": [
        {
          "name": "stdout",
          "output_type": "stream",
          "text": [
            "Test Score:  0.9045756097070546 , Train Score:  0.9414948222196652 , random_state: 1\n",
            "Test Score:  0.9358194404447482 , Train Score:  0.950811818627504 , random_state: 2\n",
            "Test Score:  0.9158112556784328 , Train Score:  0.9524582670569921 , random_state: 3\n",
            "Test Score:  0.930987607170005 , Train Score:  0.9530258292204988 , random_state: 4\n",
            "Test Score:  0.909279383610048 , Train Score:  0.9441185892939037 , random_state: 5\n",
            "Test Score:  0.8666843024113267 , Train Score:  0.953332802921455 , random_state: 6\n",
            "Test Score:  0.8967070254607301 , Train Score:  0.954159393822789 , random_state: 7\n",
            "Test Score:  0.7912052127591649 , Train Score:  0.9554464627137847 , random_state: 8\n",
            "Test Score:  0.8647011638059997 , Train Score:  0.9519366446374021 , random_state: 9\n",
            "Test Score:  0.9157344196896153 , Train Score:  0.9500674664867865 , random_state: 10\n",
            "Test Score:  0.9291259720679179 , Train Score:  0.9529669356691896 , random_state: 11\n",
            "Test Score:  0.8781521718482207 , Train Score:  0.9557873329609329 , random_state: 12\n",
            "Test Score:  0.9263785997978258 , Train Score:  0.9571028611766547 , random_state: 13\n",
            "Test Score:  0.9112856033492995 , Train Score:  0.9415213001171157 , random_state: 14\n",
            "Test Score:  0.8925462494508273 , Train Score:  0.949971827879973 , random_state: 15\n",
            "Test Score:  0.8909241432160786 , Train Score:  0.9464008552109353 , random_state: 16\n",
            "Test Score:  0.7170876254739934 , Train Score:  0.9499436619813605 , random_state: 17\n",
            "Test Score:  0.6173104711790771 , Train Score:  0.9596363033252449 , random_state: 18\n",
            "Test Score:  0.8640826422594943 , Train Score:  0.9524197051738688 , random_state: 19\n",
            "Test Score:  0.9294979857104038 , Train Score:  0.9495669984675268 , random_state: 20\n",
            "Test Score:  0.932194978030217 , Train Score:  0.9421930446356245 , random_state: 21\n",
            "Test Score:  0.9422067393403637 , Train Score:  0.947772194339645 , random_state: 22\n",
            "Test Score:  0.6703094556415521 , Train Score:  0.9571988045165281 , random_state: 23\n",
            "Test Score:  0.9124930001687043 , Train Score:  0.9565622421964841 , random_state: 24\n",
            "Test Score:  0.8581955187458412 , Train Score:  0.9572424521182996 , random_state: 25\n",
            "Test Score:  0.9444304391802896 , Train Score:  0.9450733070232535 , random_state: 26\n",
            "Test Score:  0.8722911819866144 , Train Score:  0.9520535457890719 , random_state: 27\n",
            "Test Score:  0.7510193866153518 , Train Score:  0.9563125912907214 , random_state: 28\n",
            "Test Score:  0.9411260504933299 , Train Score:  0.9428541718496691 , random_state: 29\n",
            "Test Score:  0.8828017469675239 , Train Score:  0.9620269404569558 , random_state: 30\n",
            "Test Score:  0.8474002913691238 , Train Score:  0.9420919114980724 , random_state: 31\n",
            "Test Score:  0.8518293984323955 , Train Score:  0.9554011905394971 , random_state: 32\n",
            "Test Score:  0.9320988981330275 , Train Score:  0.9522121206003826 , random_state: 33\n",
            "Test Score:  0.7531141304641443 , Train Score:  0.9424372608631095 , random_state: 34\n",
            "Test Score:  0.7468558587852537 , Train Score:  0.9591747248699132 , random_state: 35\n",
            "Test Score:  0.8612726736147439 , Train Score:  0.951479187092935 , random_state: 36\n",
            "Test Score:  0.8860538241837136 , Train Score:  0.9565573788434955 , random_state: 37\n",
            "Test Score:  0.9169924670022607 , Train Score:  0.9583275690837355 , random_state: 38\n",
            "Test Score:  0.85982686139985 , Train Score:  0.9369569694765806 , random_state: 39\n",
            "Test Score:  0.8834619327870974 , Train Score:  0.9403700859257053 , random_state: 40\n",
            "Test Score:  0.8020005929535213 , Train Score:  0.9550990872575088 , random_state: 41\n",
            "Test Score:  0.8856752594484593 , Train Score:  0.9565292403594231 , random_state: 42\n",
            "Test Score:  0.8360641103203458 , Train Score:  0.9612167903128618 , random_state: 43\n",
            "Test Score:  0.9415695135195841 , Train Score:  0.9543083822791293 , random_state: 44\n",
            "Test Score:  0.9387513549324419 , Train Score:  0.9277095085570659 , random_state: 45\n",
            "45\n",
            "Test Score 0.9387513549324419, Train Score 0.9277095085570659, Random_state 45\n",
            "Test Score:  0.9048356759293932 , Train Score:  0.9492121828722535 , random_state: 46\n",
            "Test Score:  0.7323897620809915 , Train Score:  0.9636333405098414 , random_state: 47\n",
            "Test Score:  0.9328024382607301 , Train Score:  0.945668384482314 , random_state: 48\n",
            "Test Score:  0.8474957231615173 , Train Score:  0.9518192056545663 , random_state: 49\n",
            "Test Score:  0.8971400391452401 , Train Score:  0.9589389526180414 , random_state: 50\n",
            "Test Score:  0.9181763773102185 , Train Score:  0.9345392888984423 , random_state: 51\n",
            "Test Score:  0.9121339737074328 , Train Score:  0.9549005862740639 , random_state: 52\n",
            "Test Score:  0.8694821071297546 , Train Score:  0.9427473275673508 , random_state: 53\n",
            "Test Score:  0.6967851358838532 , Train Score:  0.9642049487141039 , random_state: 54\n",
            "Test Score:  0.8545421645823279 , Train Score:  0.9342431535770687 , random_state: 55\n",
            "Test Score:  0.8222866075179114 , Train Score:  0.9535550578219274 , random_state: 56\n",
            "Test Score:  0.74864468046721 , Train Score:  0.9574889735380834 , random_state: 57\n",
            "Test Score:  0.9058022544391882 , Train Score:  0.9401339161314523 , random_state: 58\n",
            "Test Score:  0.9230141601296247 , Train Score:  0.9397062636938459 , random_state: 59\n",
            "Test Score:  0.9012182366156845 , Train Score:  0.9527370413825292 , random_state: 60\n",
            "Test Score:  0.8702968427001624 , Train Score:  0.9497094068543337 , random_state: 61\n",
            "Test Score:  0.9105969668142779 , Train Score:  0.9465187222465177 , random_state: 62\n",
            "Test Score:  0.8259446609303484 , Train Score:  0.9518753434920133 , random_state: 63\n",
            "Test Score:  0.8340973359653994 , Train Score:  0.9513666440184448 , random_state: 64\n",
            "Test Score:  0.7606385515910689 , Train Score:  0.9582088187604174 , random_state: 65\n",
            "Test Score:  0.8569591816645731 , Train Score:  0.9503716047858866 , random_state: 66\n",
            "Test Score:  0.8964456969920878 , Train Score:  0.9462616338651784 , random_state: 67\n",
            "Test Score:  0.8733249209119698 , Train Score:  0.9465466011062477 , random_state: 68\n",
            "Test Score:  0.9508905961044406 , Train Score:  0.941530768398143 , random_state: 69\n",
            "69\n",
            "Test Score 0.9508905961044406, Train Score 0.941530768398143, Random_state 69\n",
            "Test Score:  0.9013056646373981 , Train Score:  0.9510895412819713 , random_state: 70\n",
            "Test Score:  0.911545247819911 , Train Score:  0.9606247898563602 , random_state: 71\n",
            "Test Score:  0.8010664287092835 , Train Score:  0.9539539610098492 , random_state: 72\n",
            "Test Score:  0.82584515579929 , Train Score:  0.943709730519796 , random_state: 73\n",
            "Test Score:  0.8520590048527155 , Train Score:  0.9537708860467138 , random_state: 74\n",
            "Test Score:  0.9377005516594493 , Train Score:  0.9551856286376283 , random_state: 75\n",
            "Test Score:  0.7126476213191781 , Train Score:  0.9544627115487623 , random_state: 76\n",
            "Test Score:  0.8801522446183204 , Train Score:  0.9555407488657859 , random_state: 77\n",
            "Test Score:  0.8647927474695147 , Train Score:  0.9616227270157256 , random_state: 78\n",
            "Test Score:  0.8556307510548131 , Train Score:  0.95397247957197 , random_state: 79\n",
            "Test Score:  0.8766767500497246 , Train Score:  0.9577921438404091 , random_state: 80\n",
            "Test Score:  0.8735745202870921 , Train Score:  0.9558311893089428 , random_state: 81\n",
            "Test Score:  0.907839601025991 , Train Score:  0.9594035468605312 , random_state: 82\n",
            "Test Score:  0.9098485792610781 , Train Score:  0.9541062186582493 , random_state: 83\n",
            "Test Score:  0.9308046561864473 , Train Score:  0.9580219267925248 , random_state: 84\n",
            "Test Score:  0.8877285984218378 , Train Score:  0.942498994029237 , random_state: 85\n",
            "Test Score:  0.902558968614666 , Train Score:  0.9531737988860738 , random_state: 86\n",
            "Test Score:  0.7712720835430467 , Train Score:  0.9456255212036092 , random_state: 87\n",
            "Test Score:  0.8070070214144409 , Train Score:  0.9476967724071081 , random_state: 88\n",
            "Test Score:  0.9238585258449499 , Train Score:  0.9548554237644222 , random_state: 89\n",
            "Test Score:  0.7251558228320463 , Train Score:  0.9535238225272012 , random_state: 90\n",
            "Test Score:  0.9102806664266746 , Train Score:  0.948690234444022 , random_state: 91\n",
            "Test Score:  0.8979166701724798 , Train Score:  0.9419393044235665 , random_state: 92\n",
            "Test Score:  0.8944286554973855 , Train Score:  0.9401687251287205 , random_state: 93\n",
            "Test Score:  0.8188633257017351 , Train Score:  0.9566040984111819 , random_state: 94\n",
            "Test Score:  0.9107139647240946 , Train Score:  0.9537155546584145 , random_state: 95\n",
            "Test Score:  0.8534942608943701 , Train Score:  0.9576271315334931 , random_state: 96\n",
            "Test Score:  0.7611128336207309 , Train Score:  0.9462050751822227 , random_state: 97\n",
            "Test Score:  0.9069756494606033 , Train Score:  0.9531745608218715 , random_state: 98\n",
            "Test Score:  0.8727873663974883 , Train Score:  0.9611333875253851 , random_state: 99\n"
          ]
        }
      ],
      "source": [
        "CL = 0.7\n",
        "\n",
        "from sklearn.ensemble import RandomForestRegressor\n",
        "\n",
        "\n",
        "for i in range(1, 100):\n",
        "    X_train,X_test,y_train,y_test = train_test_split(features,\n",
        "                                                     label,\n",
        "                                                     test_size=0.2,\n",
        "                                                     random_state=i)\n",
        "    modelRF = RandomForestRegressor(max_depth=2)\n",
        "    modelRF.fit(X_train, y_train)\n",
        "    \n",
        "    train_score = modelRF.score(X_train,y_train)\n",
        "    test_score = modelRF.score(X_test,y_test)\n",
        "    print(\"Test Score: \" ,test_score ,\", Train Score: \" , train_score , \", random_state:\", i )\n",
        "    \n",
        "    if test_score > train_score and test_score > CL:\n",
        "        print(i)\n",
        "        print(\"Test Score {}, Train Score {}, Random_state {}\".format(test_score,train_score,i))"
      ]
    },
    {
      "attachments": {},
      "cell_type": "markdown",
      "metadata": {},
      "source": [
        "### the best random_state = 69 which test_score > Train_Score\n",
        "\n",
        "let's create the final model "
      ]
    },
    {
      "cell_type": "code",
      "execution_count": 112,
      "metadata": {},
      "outputs": [
        {
          "data": {
            "text/html": [
              "<style>#sk-container-id-23 {color: black;}#sk-container-id-23 pre{padding: 0;}#sk-container-id-23 div.sk-toggleable {background-color: white;}#sk-container-id-23 label.sk-toggleable__label {cursor: pointer;display: block;width: 100%;margin-bottom: 0;padding: 0.3em;box-sizing: border-box;text-align: center;}#sk-container-id-23 label.sk-toggleable__label-arrow:before {content: \"▸\";float: left;margin-right: 0.25em;color: #696969;}#sk-container-id-23 label.sk-toggleable__label-arrow:hover:before {color: black;}#sk-container-id-23 div.sk-estimator:hover label.sk-toggleable__label-arrow:before {color: black;}#sk-container-id-23 div.sk-toggleable__content {max-height: 0;max-width: 0;overflow: hidden;text-align: left;background-color: #f0f8ff;}#sk-container-id-23 div.sk-toggleable__content pre {margin: 0.2em;color: black;border-radius: 0.25em;background-color: #f0f8ff;}#sk-container-id-23 input.sk-toggleable__control:checked~div.sk-toggleable__content {max-height: 200px;max-width: 100%;overflow: auto;}#sk-container-id-23 input.sk-toggleable__control:checked~label.sk-toggleable__label-arrow:before {content: \"▾\";}#sk-container-id-23 div.sk-estimator input.sk-toggleable__control:checked~label.sk-toggleable__label {background-color: #d4ebff;}#sk-container-id-23 div.sk-label input.sk-toggleable__control:checked~label.sk-toggleable__label {background-color: #d4ebff;}#sk-container-id-23 input.sk-hidden--visually {border: 0;clip: rect(1px 1px 1px 1px);clip: rect(1px, 1px, 1px, 1px);height: 1px;margin: -1px;overflow: hidden;padding: 0;position: absolute;width: 1px;}#sk-container-id-23 div.sk-estimator {font-family: monospace;background-color: #f0f8ff;border: 1px dotted black;border-radius: 0.25em;box-sizing: border-box;margin-bottom: 0.5em;}#sk-container-id-23 div.sk-estimator:hover {background-color: #d4ebff;}#sk-container-id-23 div.sk-parallel-item::after {content: \"\";width: 100%;border-bottom: 1px solid gray;flex-grow: 1;}#sk-container-id-23 div.sk-label:hover label.sk-toggleable__label {background-color: #d4ebff;}#sk-container-id-23 div.sk-serial::before {content: \"\";position: absolute;border-left: 1px solid gray;box-sizing: border-box;top: 0;bottom: 0;left: 50%;z-index: 0;}#sk-container-id-23 div.sk-serial {display: flex;flex-direction: column;align-items: center;background-color: white;padding-right: 0.2em;padding-left: 0.2em;position: relative;}#sk-container-id-23 div.sk-item {position: relative;z-index: 1;}#sk-container-id-23 div.sk-parallel {display: flex;align-items: stretch;justify-content: center;background-color: white;position: relative;}#sk-container-id-23 div.sk-item::before, #sk-container-id-23 div.sk-parallel-item::before {content: \"\";position: absolute;border-left: 1px solid gray;box-sizing: border-box;top: 0;bottom: 0;left: 50%;z-index: -1;}#sk-container-id-23 div.sk-parallel-item {display: flex;flex-direction: column;z-index: 1;position: relative;background-color: white;}#sk-container-id-23 div.sk-parallel-item:first-child::after {align-self: flex-end;width: 50%;}#sk-container-id-23 div.sk-parallel-item:last-child::after {align-self: flex-start;width: 50%;}#sk-container-id-23 div.sk-parallel-item:only-child::after {width: 0;}#sk-container-id-23 div.sk-dashed-wrapped {border: 1px dashed gray;margin: 0 0.4em 0.5em 0.4em;box-sizing: border-box;padding-bottom: 0.4em;background-color: white;}#sk-container-id-23 div.sk-label label {font-family: monospace;font-weight: bold;display: inline-block;line-height: 1.2em;}#sk-container-id-23 div.sk-label-container {text-align: center;}#sk-container-id-23 div.sk-container {/* jupyter's `normalize.less` sets `[hidden] { display: none; }` but bootstrap.min.css set `[hidden] { display: none !important; }` so we also need the `!important` here to be able to override the default hidden behavior on the sphinx rendered scikit-learn.org. See: https://github.com/scikit-learn/scikit-learn/issues/21755 */display: inline-block !important;position: relative;}#sk-container-id-23 div.sk-text-repr-fallback {display: none;}</style><div id=\"sk-container-id-23\" class=\"sk-top-container\"><div class=\"sk-text-repr-fallback\"><pre>RandomForestRegressor()</pre><b>In a Jupyter environment, please rerun this cell to show the HTML representation or trust the notebook. <br />On GitHub, the HTML representation is unable to render, please try loading this page with nbviewer.org.</b></div><div class=\"sk-container\" hidden><div class=\"sk-item\"><div class=\"sk-estimator sk-toggleable\"><input class=\"sk-toggleable__control sk-hidden--visually\" id=\"sk-estimator-id-57\" type=\"checkbox\" checked><label for=\"sk-estimator-id-57\" class=\"sk-toggleable__label sk-toggleable__label-arrow\">RandomForestRegressor</label><div class=\"sk-toggleable__content\"><pre>RandomForestRegressor()</pre></div></div></div></div></div>"
            ],
            "text/plain": [
              "RandomForestRegressor()"
            ]
          },
          "execution_count": 112,
          "metadata": {},
          "output_type": "execute_result"
        }
      ],
      "source": [
        "#  final model for RandomForestRegressor\n",
        "from sklearn.ensemble import RandomForestRegressor\n",
        "\n",
        "#Final Model\n",
        "X_train,X_test,y_train,y_test = train_test_split(features,label,test_size=0.1,random_state=386)\n",
        "\n",
        "final_model = RandomForestRegressor()\n",
        "final_model.fit(X_train,y_train)"
      ]
    },
    {
      "cell_type": "code",
      "execution_count": 113,
      "metadata": {},
      "outputs": [
        {
          "name": "stdout",
          "output_type": "stream",
          "text": [
            "Train score: 0.9880377723675039\n",
            "Test score: 0.9910906818691356\n"
          ]
        }
      ],
      "source": [
        "print(\"Train score:\", final_model.score(X_train,y_train))\n",
        "print(\"Test score:\", final_model.score(X_test,y_test))"
      ]
    },
    {
      "cell_type": "code",
      "execution_count": null,
      "metadata": {},
      "outputs": [],
      "source": []
    },
    {
      "attachments": {},
      "cell_type": "markdown",
      "metadata": {},
      "source": [
        "# Linear Regression"
      ]
    },
    {
      "cell_type": "code",
      "execution_count": 114,
      "metadata": {},
      "outputs": [
        {
          "data": {
            "text/html": [
              "<style>#sk-container-id-24 {color: black;}#sk-container-id-24 pre{padding: 0;}#sk-container-id-24 div.sk-toggleable {background-color: white;}#sk-container-id-24 label.sk-toggleable__label {cursor: pointer;display: block;width: 100%;margin-bottom: 0;padding: 0.3em;box-sizing: border-box;text-align: center;}#sk-container-id-24 label.sk-toggleable__label-arrow:before {content: \"▸\";float: left;margin-right: 0.25em;color: #696969;}#sk-container-id-24 label.sk-toggleable__label-arrow:hover:before {color: black;}#sk-container-id-24 div.sk-estimator:hover label.sk-toggleable__label-arrow:before {color: black;}#sk-container-id-24 div.sk-toggleable__content {max-height: 0;max-width: 0;overflow: hidden;text-align: left;background-color: #f0f8ff;}#sk-container-id-24 div.sk-toggleable__content pre {margin: 0.2em;color: black;border-radius: 0.25em;background-color: #f0f8ff;}#sk-container-id-24 input.sk-toggleable__control:checked~div.sk-toggleable__content {max-height: 200px;max-width: 100%;overflow: auto;}#sk-container-id-24 input.sk-toggleable__control:checked~label.sk-toggleable__label-arrow:before {content: \"▾\";}#sk-container-id-24 div.sk-estimator input.sk-toggleable__control:checked~label.sk-toggleable__label {background-color: #d4ebff;}#sk-container-id-24 div.sk-label input.sk-toggleable__control:checked~label.sk-toggleable__label {background-color: #d4ebff;}#sk-container-id-24 input.sk-hidden--visually {border: 0;clip: rect(1px 1px 1px 1px);clip: rect(1px, 1px, 1px, 1px);height: 1px;margin: -1px;overflow: hidden;padding: 0;position: absolute;width: 1px;}#sk-container-id-24 div.sk-estimator {font-family: monospace;background-color: #f0f8ff;border: 1px dotted black;border-radius: 0.25em;box-sizing: border-box;margin-bottom: 0.5em;}#sk-container-id-24 div.sk-estimator:hover {background-color: #d4ebff;}#sk-container-id-24 div.sk-parallel-item::after {content: \"\";width: 100%;border-bottom: 1px solid gray;flex-grow: 1;}#sk-container-id-24 div.sk-label:hover label.sk-toggleable__label {background-color: #d4ebff;}#sk-container-id-24 div.sk-serial::before {content: \"\";position: absolute;border-left: 1px solid gray;box-sizing: border-box;top: 0;bottom: 0;left: 50%;z-index: 0;}#sk-container-id-24 div.sk-serial {display: flex;flex-direction: column;align-items: center;background-color: white;padding-right: 0.2em;padding-left: 0.2em;position: relative;}#sk-container-id-24 div.sk-item {position: relative;z-index: 1;}#sk-container-id-24 div.sk-parallel {display: flex;align-items: stretch;justify-content: center;background-color: white;position: relative;}#sk-container-id-24 div.sk-item::before, #sk-container-id-24 div.sk-parallel-item::before {content: \"\";position: absolute;border-left: 1px solid gray;box-sizing: border-box;top: 0;bottom: 0;left: 50%;z-index: -1;}#sk-container-id-24 div.sk-parallel-item {display: flex;flex-direction: column;z-index: 1;position: relative;background-color: white;}#sk-container-id-24 div.sk-parallel-item:first-child::after {align-self: flex-end;width: 50%;}#sk-container-id-24 div.sk-parallel-item:last-child::after {align-self: flex-start;width: 50%;}#sk-container-id-24 div.sk-parallel-item:only-child::after {width: 0;}#sk-container-id-24 div.sk-dashed-wrapped {border: 1px dashed gray;margin: 0 0.4em 0.5em 0.4em;box-sizing: border-box;padding-bottom: 0.4em;background-color: white;}#sk-container-id-24 div.sk-label label {font-family: monospace;font-weight: bold;display: inline-block;line-height: 1.2em;}#sk-container-id-24 div.sk-label-container {text-align: center;}#sk-container-id-24 div.sk-container {/* jupyter's `normalize.less` sets `[hidden] { display: none; }` but bootstrap.min.css set `[hidden] { display: none !important; }` so we also need the `!important` here to be able to override the default hidden behavior on the sphinx rendered scikit-learn.org. See: https://github.com/scikit-learn/scikit-learn/issues/21755 */display: inline-block !important;position: relative;}#sk-container-id-24 div.sk-text-repr-fallback {display: none;}</style><div id=\"sk-container-id-24\" class=\"sk-top-container\"><div class=\"sk-text-repr-fallback\"><pre>BaggingRegressor(estimator=LinearRegression(), n_estimators=100)</pre><b>In a Jupyter environment, please rerun this cell to show the HTML representation or trust the notebook. <br />On GitHub, the HTML representation is unable to render, please try loading this page with nbviewer.org.</b></div><div class=\"sk-container\" hidden><div class=\"sk-item sk-dashed-wrapped\"><div class=\"sk-label-container\"><div class=\"sk-label sk-toggleable\"><input class=\"sk-toggleable__control sk-hidden--visually\" id=\"sk-estimator-id-58\" type=\"checkbox\" ><label for=\"sk-estimator-id-58\" class=\"sk-toggleable__label sk-toggleable__label-arrow\">BaggingRegressor</label><div class=\"sk-toggleable__content\"><pre>BaggingRegressor(estimator=LinearRegression(), n_estimators=100)</pre></div></div></div><div class=\"sk-parallel\"><div class=\"sk-parallel-item\"><div class=\"sk-item\"><div class=\"sk-label-container\"><div class=\"sk-label sk-toggleable\"><input class=\"sk-toggleable__control sk-hidden--visually\" id=\"sk-estimator-id-59\" type=\"checkbox\" ><label for=\"sk-estimator-id-59\" class=\"sk-toggleable__label sk-toggleable__label-arrow\">estimator: LinearRegression</label><div class=\"sk-toggleable__content\"><pre>LinearRegression()</pre></div></div></div><div class=\"sk-serial\"><div class=\"sk-item\"><div class=\"sk-estimator sk-toggleable\"><input class=\"sk-toggleable__control sk-hidden--visually\" id=\"sk-estimator-id-60\" type=\"checkbox\" ><label for=\"sk-estimator-id-60\" class=\"sk-toggleable__label sk-toggleable__label-arrow\">LinearRegression</label><div class=\"sk-toggleable__content\"><pre>LinearRegression()</pre></div></div></div></div></div></div></div></div></div></div>"
            ],
            "text/plain": [
              "BaggingRegressor(estimator=LinearRegression(), n_estimators=100)"
            ]
          },
          "execution_count": 114,
          "metadata": {},
          "output_type": "execute_result"
        }
      ],
      "source": [
        "# Linear Regression\n",
        "from sklearn.ensemble import BaggingRegressor\n",
        "from sklearn.linear_model import LinearRegression\n",
        "algorithm = LinearRegression()\n",
        "\n",
        "#Final Model\n",
        "X_train,X_test,y_train,y_test = train_test_split(features,label,test_size=0.1,random_state=386)\n",
        "final_model = BaggingRegressor(n_estimators=100,\n",
        "                               estimator=algorithm)\n",
        "final_model.fit(X_train,y_train)"
      ]
    },
    {
      "cell_type": "code",
      "execution_count": 115,
      "metadata": {},
      "outputs": [
        {
          "name": "stdout",
          "output_type": "stream",
          "text": [
            "Train score: 0.9446186124036206\n",
            "Test score: 0.9857689583025511\n"
          ]
        }
      ],
      "source": [
        "print(\"Train score:\", final_model.score(X_train,y_train))\n",
        "print(\"Test score:\", final_model.score(X_test,y_test))"
      ]
    },
    {
      "cell_type": "code",
      "execution_count": 23,
      "metadata": {
        "colab": {
          "base_uri": "https://localhost:8080/",
          "height": 74
        },
        "id": "Knq7fe4LP8-w",
        "outputId": "51b8fee8-cf2d-44ef-9747-20971d026b41"
      },
      "outputs": [
        {
          "data": {
            "text/html": [
              "<style>#sk-container-id-3 {color: black;}#sk-container-id-3 pre{padding: 0;}#sk-container-id-3 div.sk-toggleable {background-color: white;}#sk-container-id-3 label.sk-toggleable__label {cursor: pointer;display: block;width: 100%;margin-bottom: 0;padding: 0.3em;box-sizing: border-box;text-align: center;}#sk-container-id-3 label.sk-toggleable__label-arrow:before {content: \"▸\";float: left;margin-right: 0.25em;color: #696969;}#sk-container-id-3 label.sk-toggleable__label-arrow:hover:before {color: black;}#sk-container-id-3 div.sk-estimator:hover label.sk-toggleable__label-arrow:before {color: black;}#sk-container-id-3 div.sk-toggleable__content {max-height: 0;max-width: 0;overflow: hidden;text-align: left;background-color: #f0f8ff;}#sk-container-id-3 div.sk-toggleable__content pre {margin: 0.2em;color: black;border-radius: 0.25em;background-color: #f0f8ff;}#sk-container-id-3 input.sk-toggleable__control:checked~div.sk-toggleable__content {max-height: 200px;max-width: 100%;overflow: auto;}#sk-container-id-3 input.sk-toggleable__control:checked~label.sk-toggleable__label-arrow:before {content: \"▾\";}#sk-container-id-3 div.sk-estimator input.sk-toggleable__control:checked~label.sk-toggleable__label {background-color: #d4ebff;}#sk-container-id-3 div.sk-label input.sk-toggleable__control:checked~label.sk-toggleable__label {background-color: #d4ebff;}#sk-container-id-3 input.sk-hidden--visually {border: 0;clip: rect(1px 1px 1px 1px);clip: rect(1px, 1px, 1px, 1px);height: 1px;margin: -1px;overflow: hidden;padding: 0;position: absolute;width: 1px;}#sk-container-id-3 div.sk-estimator {font-family: monospace;background-color: #f0f8ff;border: 1px dotted black;border-radius: 0.25em;box-sizing: border-box;margin-bottom: 0.5em;}#sk-container-id-3 div.sk-estimator:hover {background-color: #d4ebff;}#sk-container-id-3 div.sk-parallel-item::after {content: \"\";width: 100%;border-bottom: 1px solid gray;flex-grow: 1;}#sk-container-id-3 div.sk-label:hover label.sk-toggleable__label {background-color: #d4ebff;}#sk-container-id-3 div.sk-serial::before {content: \"\";position: absolute;border-left: 1px solid gray;box-sizing: border-box;top: 0;bottom: 0;left: 50%;z-index: 0;}#sk-container-id-3 div.sk-serial {display: flex;flex-direction: column;align-items: center;background-color: white;padding-right: 0.2em;padding-left: 0.2em;position: relative;}#sk-container-id-3 div.sk-item {position: relative;z-index: 1;}#sk-container-id-3 div.sk-parallel {display: flex;align-items: stretch;justify-content: center;background-color: white;position: relative;}#sk-container-id-3 div.sk-item::before, #sk-container-id-3 div.sk-parallel-item::before {content: \"\";position: absolute;border-left: 1px solid gray;box-sizing: border-box;top: 0;bottom: 0;left: 50%;z-index: -1;}#sk-container-id-3 div.sk-parallel-item {display: flex;flex-direction: column;z-index: 1;position: relative;background-color: white;}#sk-container-id-3 div.sk-parallel-item:first-child::after {align-self: flex-end;width: 50%;}#sk-container-id-3 div.sk-parallel-item:last-child::after {align-self: flex-start;width: 50%;}#sk-container-id-3 div.sk-parallel-item:only-child::after {width: 0;}#sk-container-id-3 div.sk-dashed-wrapped {border: 1px dashed gray;margin: 0 0.4em 0.5em 0.4em;box-sizing: border-box;padding-bottom: 0.4em;background-color: white;}#sk-container-id-3 div.sk-label label {font-family: monospace;font-weight: bold;display: inline-block;line-height: 1.2em;}#sk-container-id-3 div.sk-label-container {text-align: center;}#sk-container-id-3 div.sk-container {/* jupyter's `normalize.less` sets `[hidden] { display: none; }` but bootstrap.min.css set `[hidden] { display: none !important; }` so we also need the `!important` here to be able to override the default hidden behavior on the sphinx rendered scikit-learn.org. See: https://github.com/scikit-learn/scikit-learn/issues/21755 */display: inline-block !important;position: relative;}#sk-container-id-3 div.sk-text-repr-fallback {display: none;}</style><div id=\"sk-container-id-3\" class=\"sk-top-container\"><div class=\"sk-text-repr-fallback\"><pre>DecisionTreeRegressor()</pre><b>In a Jupyter environment, please rerun this cell to show the HTML representation or trust the notebook. <br />On GitHub, the HTML representation is unable to render, please try loading this page with nbviewer.org.</b></div><div class=\"sk-container\" hidden><div class=\"sk-item\"><div class=\"sk-estimator sk-toggleable\"><input class=\"sk-toggleable__control sk-hidden--visually\" id=\"sk-estimator-id-3\" type=\"checkbox\" checked><label for=\"sk-estimator-id-3\" class=\"sk-toggleable__label sk-toggleable__label-arrow\">DecisionTreeRegressor</label><div class=\"sk-toggleable__content\"><pre>DecisionTreeRegressor()</pre></div></div></div></div></div>"
            ],
            "text/plain": [
              "DecisionTreeRegressor()"
            ]
          },
          "execution_count": 23,
          "metadata": {},
          "output_type": "execute_result"
        }
      ],
      "source": [
        "#For DecisionTree Regressor\n",
        "\n",
        "from sklearn.tree import DecisionTreeRegressor\n",
        "model = DecisionTreeRegressor()\n",
        "model.fit(X_train,y_train)"
      ]
    },
    {
      "cell_type": "code",
      "execution_count": 25,
      "metadata": {
        "colab": {
          "base_uri": "https://localhost:8080/"
        },
        "id": "C4PRHU_OQVti",
        "outputId": "dd57f760-00f3-43b8-853c-39f8de078a55"
      },
      "outputs": [
        {
          "name": "stdout",
          "output_type": "stream",
          "text": [
            "1.0\n",
            "0.9075390847645278\n"
          ]
        }
      ],
      "source": [
        "print(model.score(X_train,y_train))\n",
        "print(model.score(X_test,y_test))"
      ]
    },
    {
      "attachments": {},
      "cell_type": "markdown",
      "metadata": {},
      "source": [
        "# Implement Bagging for DecisionTreeRegressor"
      ]
    },
    {
      "attachments": {},
      "cell_type": "markdown",
      "metadata": {},
      "source": [
        "### First paly with different numbers of max_depth"
      ]
    },
    {
      "cell_type": "code",
      "execution_count": 56,
      "metadata": {},
      "outputs": [
        {
          "name": "stdout",
          "output_type": "stream",
          "text": [
            "0.9995234721822988\n",
            "0.8680820280696606\n"
          ]
        }
      ],
      "source": [
        "# max_depth=6\n",
        "from sklearn.tree import DecisionTreeRegressor\n",
        "modelTree = DecisionTreeRegressor(max_depth=6)\n",
        "modelTree.fit(X_train, y_train)\n",
        "\n",
        "print(modelTree.score(X_train, y_train))\n",
        "print(modelTree.score(X_test, y_test))"
      ]
    },
    {
      "cell_type": "code",
      "execution_count": 58,
      "metadata": {},
      "outputs": [
        {
          "name": "stdout",
          "output_type": "stream",
          "text": [
            "0.9934376264484845\n",
            "0.8669439246190596\n"
          ]
        }
      ],
      "source": [
        "# max_depth=4\n",
        "from sklearn.tree import DecisionTreeRegressor\n",
        "modelTree = DecisionTreeRegressor(max_depth=4)\n",
        "modelTree.fit(X_train, y_train)\n",
        "\n",
        "print(modelTree.score(X_train, y_train))\n",
        "print(modelTree.score(X_test, y_test))"
      ]
    },
    {
      "attachments": {},
      "cell_type": "markdown",
      "metadata": {},
      "source": [
        "### Use For Loop for find the best random_stat which test_score > Train_Score"
      ]
    },
    {
      "cell_type": "code",
      "execution_count": 118,
      "metadata": {},
      "outputs": [
        {
          "name": "stdout",
          "output_type": "stream",
          "text": [
            "Test Score:  0.8747620245248842 , Train Score:  0.9951370822760783 , Seed: 1\n",
            "Test Score:  0.9262604661498693 , Train Score:  0.9944414461022885 , Seed: 2\n",
            "Test Score:  0.7394422908145897 , Train Score:  0.9929948156880168 , Seed: 3\n",
            "Test Score:  0.8613639832577783 , Train Score:  0.9897838849353029 , Seed: 4\n",
            "Test Score:  0.8957958887563272 , Train Score:  0.9935999250627728 , Seed: 5\n",
            "Test Score:  0.8421629365591704 , Train Score:  0.987577133320526 , Seed: 6\n",
            "Test Score:  0.9098448949104948 , Train Score:  0.9969312248099499 , Seed: 7\n",
            "Test Score:  0.9101830009957975 , Train Score:  0.9913255055860554 , Seed: 8\n",
            "Test Score:  0.8591945811767214 , Train Score:  0.9945841382837339 , Seed: 9\n",
            "Test Score:  0.8927138487378913 , Train Score:  0.9903058326621965 , Seed: 10\n",
            "Test Score:  0.8879780671320869 , Train Score:  0.9907244366789251 , Seed: 11\n",
            "Test Score:  0.7489695215026807 , Train Score:  0.9967603942104811 , Seed: 12\n",
            "Test Score:  0.8685813462929564 , Train Score:  0.9902085669170086 , Seed: 13\n",
            "Test Score:  0.8614875118804969 , Train Score:  0.9926654690890528 , Seed: 14\n",
            "Test Score:  0.8320034444048274 , Train Score:  0.9892829958754903 , Seed: 15\n",
            "Test Score:  0.8375789781487625 , Train Score:  0.9924098948675915 , Seed: 16\n",
            "Test Score:  0.8222021364878478 , Train Score:  0.9961301470471368 , Seed: 17\n",
            "Test Score:  0.7600891548012444 , Train Score:  0.9909800142375061 , Seed: 18\n",
            "Test Score:  0.8005206715031434 , Train Score:  0.9902614052768071 , Seed: 19\n",
            "Test Score:  0.7616124295771113 , Train Score:  0.9941688806994106 , Seed: 20\n",
            "Test Score:  0.860285604390971 , Train Score:  0.9920267637713956 , Seed: 21\n",
            "Test Score:  0.8812618783722713 , Train Score:  0.9929870263281338 , Seed: 22\n",
            "Test Score:  0.6744127498675717 , Train Score:  0.9933164121533172 , Seed: 23\n",
            "Test Score:  0.8303763123735759 , Train Score:  0.9932607805618575 , Seed: 24\n",
            "Test Score:  0.711584458241642 , Train Score:  0.9944830881123976 , Seed: 25\n",
            "Test Score:  0.8618889531257432 , Train Score:  0.9882027748422856 , Seed: 26\n",
            "Test Score:  0.7886031723549483 , Train Score:  0.9917616818669932 , Seed: 27\n",
            "Test Score:  0.8194176218387929 , Train Score:  0.9947931982504893 , Seed: 28\n",
            "Test Score:  0.9034038376474154 , Train Score:  0.9882928857514401 , Seed: 29\n",
            "Test Score:  0.8817996756420197 , Train Score:  0.9929894424746356 , Seed: 30\n",
            "Test Score:  0.8743904311146667 , Train Score:  0.9899032312774448 , Seed: 31\n",
            "Test Score:  0.8945254123972611 , Train Score:  0.9919931604920155 , Seed: 32\n",
            "Test Score:  0.8756960954946549 , Train Score:  0.9896000782702488 , Seed: 33\n",
            "Test Score:  0.9509885270111459 , Train Score:  0.99008761963348 , Seed: 34\n",
            "Test Score:  0.7852567250113142 , Train Score:  0.9912013248750564 , Seed: 35\n",
            "Test Score:  0.7454360202210621 , Train Score:  0.9952155206034634 , Seed: 36\n",
            "Test Score:  0.9430383500713422 , Train Score:  0.993128645828572 , Seed: 37\n",
            "Test Score:  0.9128280117259885 , Train Score:  0.9913142107719068 , Seed: 38\n",
            "Test Score:  0.8210020077520491 , Train Score:  0.9921765126728288 , Seed: 39\n",
            "Test Score:  0.9430122163958218 , Train Score:  0.9936697748445339 , Seed: 40\n",
            "Test Score:  0.8844461709862077 , Train Score:  0.9916280903144236 , Seed: 41\n",
            "Test Score:  0.7153378786023553 , Train Score:  0.9876876614905055 , Seed: 42\n",
            "Test Score:  0.7921085304665434 , Train Score:  0.9918079745337067 , Seed: 43\n",
            "Test Score:  0.8772671990540808 , Train Score:  0.9918296075435822 , Seed: 44\n",
            "Test Score:  0.9431449351422305 , Train Score:  0.9910940311203059 , Seed: 45\n",
            "Test Score:  0.9132306682748773 , Train Score:  0.9905178986992065 , Seed: 46\n",
            "Test Score:  0.7515573606592649 , Train Score:  0.9944179390675061 , Seed: 47\n",
            "Test Score:  0.8305207953756844 , Train Score:  0.9948190511111779 , Seed: 48\n",
            "Test Score:  0.9245683575932878 , Train Score:  0.9918956827036557 , Seed: 49\n",
            "Test Score:  0.819437919715695 , Train Score:  0.9930917397692735 , Seed: 50\n",
            "Test Score:  0.8924884298482594 , Train Score:  0.9881062482022597 , Seed: 51\n",
            "Test Score:  0.3960474599849896 , Train Score:  0.9953843795830121 , Seed: 52\n",
            "Test Score:  0.9381073865768171 , Train Score:  0.9945653253079126 , Seed: 53\n",
            "Test Score:  0.573225899445746 , Train Score:  0.9919493123075201 , Seed: 54\n",
            "Test Score:  0.8184707024117187 , Train Score:  0.9895061604635199 , Seed: 55\n",
            "Test Score:  0.9293255793523351 , Train Score:  0.9931420086051606 , Seed: 56\n",
            "Test Score:  0.8132923669076368 , Train Score:  0.9950685320108602 , Seed: 57\n",
            "Test Score:  0.8575988616915784 , Train Score:  0.9903734413095729 , Seed: 58\n",
            "Test Score:  0.8523587807706323 , Train Score:  0.9880125976832569 , Seed: 59\n",
            "Test Score:  0.7223087948299483 , Train Score:  0.9941530958163441 , Seed: 60\n",
            "Test Score:  0.8103819414234936 , Train Score:  0.9916611820724018 , Seed: 61\n",
            "Test Score:  0.8719342817068902 , Train Score:  0.9894054276244866 , Seed: 62\n",
            "Test Score:  0.7211158488069387 , Train Score:  0.9933613693755712 , Seed: 63\n",
            "Test Score:  0.9120714476543055 , Train Score:  0.9911799799699879 , Seed: 64\n",
            "Test Score:  0.46237722399642966 , Train Score:  0.9930541729361635 , Seed: 65\n",
            "Test Score:  0.9211283464436124 , Train Score:  0.9877600588076598 , Seed: 66\n",
            "Test Score:  0.8895643762603996 , Train Score:  0.9909633444327515 , Seed: 67\n",
            "Test Score:  0.8743240802400131 , Train Score:  0.9853087068026207 , Seed: 68\n",
            "Test Score:  0.9312911695788384 , Train Score:  0.9906399702608303 , Seed: 69\n",
            "Test Score:  0.7519492081088681 , Train Score:  0.9936921655780243 , Seed: 70\n",
            "Test Score:  0.5738595519745557 , Train Score:  0.9930178295955223 , Seed: 71\n",
            "Test Score:  0.8832290811787352 , Train Score:  0.992306729282823 , Seed: 72\n",
            "Test Score:  0.9002515381736887 , Train Score:  0.9925742994855916 , Seed: 73\n",
            "Test Score:  0.8381096590124353 , Train Score:  0.993466377590299 , Seed: 74\n",
            "Test Score:  0.8603400387871145 , Train Score:  0.9911598541386032 , Seed: 75\n",
            "Test Score:  0.8513101356951259 , Train Score:  0.9933611149321053 , Seed: 76\n",
            "Test Score:  0.7847628361281621 , Train Score:  0.9876869403939212 , Seed: 77\n",
            "Test Score:  0.551564986936053 , Train Score:  0.9941290809549346 , Seed: 78\n",
            "Test Score:  0.7431195047569399 , Train Score:  0.9950173242078265 , Seed: 79\n",
            "Test Score:  0.7871203572018289 , Train Score:  0.9906103794202883 , Seed: 80\n",
            "Test Score:  0.9034912953116296 , Train Score:  0.991560388584119 , Seed: 81\n",
            "Test Score:  0.9532164360311933 , Train Score:  0.988533457871729 , Seed: 82\n",
            "Test Score:  0.9258343422797962 , Train Score:  0.994796858205744 , Seed: 83\n",
            "Test Score:  0.9403746001461258 , Train Score:  0.9921433069592127 , Seed: 84\n",
            "Test Score:  0.9409954660099434 , Train Score:  0.9906146458665473 , Seed: 85\n",
            "Test Score:  0.8605456638693257 , Train Score:  0.9865160207247092 , Seed: 86\n",
            "Test Score:  0.8505093580617413 , Train Score:  0.9911260032999651 , Seed: 87\n",
            "Test Score:  0.9263703026674661 , Train Score:  0.9927709565958618 , Seed: 88\n",
            "Test Score:  0.8946664737826259 , Train Score:  0.9905465864148265 , Seed: 89\n",
            "Test Score:  0.832086402206365 , Train Score:  0.9942697380109057 , Seed: 90\n",
            "Test Score:  0.9544384032721458 , Train Score:  0.9912474274792331 , Seed: 91\n",
            "Test Score:  0.8273221367332044 , Train Score:  0.9950857059948082 , Seed: 92\n",
            "Test Score:  0.7517115730760244 , Train Score:  0.9968222564994602 , Seed: 93\n",
            "Test Score:  0.8077735063459692 , Train Score:  0.9948362378800121 , Seed: 94\n",
            "Test Score:  0.9287468639499227 , Train Score:  0.9972227356740386 , Seed: 95\n",
            "Test Score:  0.8967380117361425 , Train Score:  0.991810954329526 , Seed: 96\n",
            "Test Score:  0.9176667119620953 , Train Score:  0.9929713155978004 , Seed: 97\n",
            "Test Score:  0.9319495264453505 , Train Score:  0.9929931069560043 , Seed: 98\n",
            "Test Score:  0.8414618724880228 , Train Score:  0.9934376264484845 , Seed: 99\n"
          ]
        }
      ],
      "source": [
        "CL = 0.7\n",
        "\n",
        "from sklearn.tree import DecisionTreeRegressor\n",
        "\n",
        "\n",
        "for i in range(1, 100):\n",
        "    X_train,X_test,y_train,y_test = train_test_split(features,\n",
        "                                                     label,\n",
        "                                                     test_size=0.2,\n",
        "                                                     random_state=i)\n",
        "    modelTreeRegressor = DecisionTreeRegressor(max_depth=4)\n",
        "    modelTreeRegressor.fit(X_train, y_train)\n",
        "    \n",
        "    train_score = modelTreeRegressor.score(X_train,y_train)\n",
        "    test_score = modelTreeRegressor.score(X_test,y_test)\n",
        "    print(\"Test Score: \" ,test_score ,\", Train Score: \" , train_score , \", Seed:\", i )  # all are overfitted bcz train_score > test_score\n",
        "    \n",
        "    if test_score > train_score and test_score > CL:\n",
        "        print(i)\n",
        "        print(\"Test Score {}, Train Score {}, Random_state {}\".format(test_score,train_score,i))\n",
        "\n"
      ]
    },
    {
      "attachments": {},
      "cell_type": "markdown",
      "metadata": {},
      "source": [
        " In DecisionTreeRegressor\n",
        "\n",
        " all model are overfitted bcz train_score > test_score"
      ]
    },
    {
      "attachments": {},
      "cell_type": "markdown",
      "metadata": {},
      "source": []
    },
    {
      "cell_type": "code",
      "execution_count": 87,
      "metadata": {
        "colab": {
          "base_uri": "https://localhost:8080/",
          "height": 171
        },
        "id": "XD5WBP1gQXd0",
        "outputId": "b85ce8a0-f0c2-4e78-f63c-ab550b4c10c4"
      },
      "outputs": [
        {
          "name": "stderr",
          "output_type": "stream",
          "text": [
            "/Users/maryam/miniconda3/lib/python3.10/site-packages/sklearn/ensemble/_base.py:156: FutureWarning: `base_estimator` was renamed to `estimator` in version 1.2 and will be removed in 1.4.\n",
            "  warnings.warn(\n"
          ]
        },
        {
          "data": {
            "text/html": [
              "<style>#sk-container-id-16 {color: black;}#sk-container-id-16 pre{padding: 0;}#sk-container-id-16 div.sk-toggleable {background-color: white;}#sk-container-id-16 label.sk-toggleable__label {cursor: pointer;display: block;width: 100%;margin-bottom: 0;padding: 0.3em;box-sizing: border-box;text-align: center;}#sk-container-id-16 label.sk-toggleable__label-arrow:before {content: \"▸\";float: left;margin-right: 0.25em;color: #696969;}#sk-container-id-16 label.sk-toggleable__label-arrow:hover:before {color: black;}#sk-container-id-16 div.sk-estimator:hover label.sk-toggleable__label-arrow:before {color: black;}#sk-container-id-16 div.sk-toggleable__content {max-height: 0;max-width: 0;overflow: hidden;text-align: left;background-color: #f0f8ff;}#sk-container-id-16 div.sk-toggleable__content pre {margin: 0.2em;color: black;border-radius: 0.25em;background-color: #f0f8ff;}#sk-container-id-16 input.sk-toggleable__control:checked~div.sk-toggleable__content {max-height: 200px;max-width: 100%;overflow: auto;}#sk-container-id-16 input.sk-toggleable__control:checked~label.sk-toggleable__label-arrow:before {content: \"▾\";}#sk-container-id-16 div.sk-estimator input.sk-toggleable__control:checked~label.sk-toggleable__label {background-color: #d4ebff;}#sk-container-id-16 div.sk-label input.sk-toggleable__control:checked~label.sk-toggleable__label {background-color: #d4ebff;}#sk-container-id-16 input.sk-hidden--visually {border: 0;clip: rect(1px 1px 1px 1px);clip: rect(1px, 1px, 1px, 1px);height: 1px;margin: -1px;overflow: hidden;padding: 0;position: absolute;width: 1px;}#sk-container-id-16 div.sk-estimator {font-family: monospace;background-color: #f0f8ff;border: 1px dotted black;border-radius: 0.25em;box-sizing: border-box;margin-bottom: 0.5em;}#sk-container-id-16 div.sk-estimator:hover {background-color: #d4ebff;}#sk-container-id-16 div.sk-parallel-item::after {content: \"\";width: 100%;border-bottom: 1px solid gray;flex-grow: 1;}#sk-container-id-16 div.sk-label:hover label.sk-toggleable__label {background-color: #d4ebff;}#sk-container-id-16 div.sk-serial::before {content: \"\";position: absolute;border-left: 1px solid gray;box-sizing: border-box;top: 0;bottom: 0;left: 50%;z-index: 0;}#sk-container-id-16 div.sk-serial {display: flex;flex-direction: column;align-items: center;background-color: white;padding-right: 0.2em;padding-left: 0.2em;position: relative;}#sk-container-id-16 div.sk-item {position: relative;z-index: 1;}#sk-container-id-16 div.sk-parallel {display: flex;align-items: stretch;justify-content: center;background-color: white;position: relative;}#sk-container-id-16 div.sk-item::before, #sk-container-id-16 div.sk-parallel-item::before {content: \"\";position: absolute;border-left: 1px solid gray;box-sizing: border-box;top: 0;bottom: 0;left: 50%;z-index: -1;}#sk-container-id-16 div.sk-parallel-item {display: flex;flex-direction: column;z-index: 1;position: relative;background-color: white;}#sk-container-id-16 div.sk-parallel-item:first-child::after {align-self: flex-end;width: 50%;}#sk-container-id-16 div.sk-parallel-item:last-child::after {align-self: flex-start;width: 50%;}#sk-container-id-16 div.sk-parallel-item:only-child::after {width: 0;}#sk-container-id-16 div.sk-dashed-wrapped {border: 1px dashed gray;margin: 0 0.4em 0.5em 0.4em;box-sizing: border-box;padding-bottom: 0.4em;background-color: white;}#sk-container-id-16 div.sk-label label {font-family: monospace;font-weight: bold;display: inline-block;line-height: 1.2em;}#sk-container-id-16 div.sk-label-container {text-align: center;}#sk-container-id-16 div.sk-container {/* jupyter's `normalize.less` sets `[hidden] { display: none; }` but bootstrap.min.css set `[hidden] { display: none !important; }` so we also need the `!important` here to be able to override the default hidden behavior on the sphinx rendered scikit-learn.org. See: https://github.com/scikit-learn/scikit-learn/issues/21755 */display: inline-block !important;position: relative;}#sk-container-id-16 div.sk-text-repr-fallback {display: none;}</style><div id=\"sk-container-id-16\" class=\"sk-top-container\"><div class=\"sk-text-repr-fallback\"><pre>BaggingRegressor(base_estimator=LinearRegression(), n_estimators=5)</pre><b>In a Jupyter environment, please rerun this cell to show the HTML representation or trust the notebook. <br />On GitHub, the HTML representation is unable to render, please try loading this page with nbviewer.org.</b></div><div class=\"sk-container\" hidden><div class=\"sk-item sk-dashed-wrapped\"><div class=\"sk-label-container\"><div class=\"sk-label sk-toggleable\"><input class=\"sk-toggleable__control sk-hidden--visually\" id=\"sk-estimator-id-38\" type=\"checkbox\" ><label for=\"sk-estimator-id-38\" class=\"sk-toggleable__label sk-toggleable__label-arrow\">BaggingRegressor</label><div class=\"sk-toggleable__content\"><pre>BaggingRegressor(base_estimator=LinearRegression(), n_estimators=5)</pre></div></div></div><div class=\"sk-parallel\"><div class=\"sk-parallel-item\"><div class=\"sk-item\"><div class=\"sk-label-container\"><div class=\"sk-label sk-toggleable\"><input class=\"sk-toggleable__control sk-hidden--visually\" id=\"sk-estimator-id-39\" type=\"checkbox\" ><label for=\"sk-estimator-id-39\" class=\"sk-toggleable__label sk-toggleable__label-arrow\">base_estimator: LinearRegression</label><div class=\"sk-toggleable__content\"><pre>LinearRegression()</pre></div></div></div><div class=\"sk-serial\"><div class=\"sk-item\"><div class=\"sk-estimator sk-toggleable\"><input class=\"sk-toggleable__control sk-hidden--visually\" id=\"sk-estimator-id-40\" type=\"checkbox\" ><label for=\"sk-estimator-id-40\" class=\"sk-toggleable__label sk-toggleable__label-arrow\">LinearRegression</label><div class=\"sk-toggleable__content\"><pre>LinearRegression()</pre></div></div></div></div></div></div></div></div></div></div>"
            ],
            "text/plain": [
              "BaggingRegressor(base_estimator=LinearRegression(), n_estimators=5)"
            ]
          },
          "execution_count": 87,
          "metadata": {},
          "output_type": "execute_result"
        }
      ],
      "source": [
        "#For BaggingRegressor\n",
        "\n",
        "from sklearn.ensemble import BaggingRegressor\n",
        "from sklearn.linear_model import LinearRegression\n",
        "algo = LinearRegression()\n",
        "model = BaggingRegressor(n_estimators=5 , base_estimator=algo)\n",
        "model.fit(X_train,y_train)\n"
      ]
    },
    {
      "cell_type": "code",
      "execution_count": 88,
      "metadata": {
        "colab": {
          "base_uri": "https://localhost:8080/"
        },
        "id": "8EcD7-0SQuOd",
        "outputId": "ff695af2-9b35-4fb9-e08e-a7e63946ca72"
      },
      "outputs": [
        {
          "name": "stdout",
          "output_type": "stream",
          "text": [
            "0.9567215751116146\n",
            "0.8432345636682756\n"
          ]
        }
      ],
      "source": [
        "print(model.score(X_train,y_train))\n",
        "print(model.score(X_test,y_test))"
      ]
    },
    {
      "attachments": {},
      "cell_type": "markdown",
      "metadata": {},
      "source": [
        "# Implement Bagging Regressor with LinearRegression\n"
      ]
    },
    {
      "cell_type": "code",
      "execution_count": 120,
      "metadata": {},
      "outputs": [
        {
          "name": "stdout",
          "output_type": "stream",
          "text": [
            "Test Score 0.9791654476394289, Train Score 0.9742232291975802, random_state 13\n",
            "Test Score 0.994576102495818, Train Score 0.9834471538146604, random_state 61\n",
            "Test Score 0.9922737037716218, Train Score 0.9849671241035491, random_state 64\n",
            "Test Score 0.9899468248505828, Train Score 0.9842947580798049, random_state 84\n",
            "Test Score 0.9867700085512772, Train Score 0.9825407789701901, random_state 105\n",
            "Test Score 0.9919520390905915, Train Score 0.9820106326264576, random_state 119\n",
            "Test Score 0.9830309099333694, Train Score 0.978983285649871, random_state 130\n",
            "Test Score 0.9818624295977617, Train Score 0.9735166362118528, random_state 149\n",
            "Test Score 0.9909343560724292, Train Score 0.984455184298524, random_state 151\n",
            "Test Score 0.9849012787231791, Train Score 0.9847734326880526, random_state 162\n",
            "Test Score 0.9863379453428124, Train Score 0.9853234692200221, random_state 170\n",
            "Test Score 0.9875533442822865, Train Score 0.9852171985271272, random_state 180\n",
            "Test Score 0.9885236979445728, Train Score 0.9830137345316324, random_state 190\n",
            "Test Score 0.994442656028512, Train Score 0.9859759044852586, random_state 199\n",
            "Test Score 0.9884800456882349, Train Score 0.9808510668733771, random_state 225\n",
            "Test Score 0.9747610957644521, Train Score 0.9648053426280349, random_state 246\n",
            "Test Score 0.9904661224966077, Train Score 0.9902091807672966, random_state 253\n",
            "Test Score 0.9850902668131202, Train Score 0.9843438651478956, random_state 271\n",
            "Test Score 0.9909419244586652, Train Score 0.9826164440630968, random_state 309\n",
            "Test Score 0.9937704050501204, Train Score 0.989264745354792, random_state 320\n",
            "Test Score 0.9885945788437871, Train Score 0.9822893747060782, random_state 336\n",
            "Test Score 0.9933086583818251, Train Score 0.9863304860225787, random_state 386\n"
          ]
        }
      ],
      "source": [
        "from sklearn.ensemble import BaggingRegressor\n",
        "from sklearn.model_selection import train_test_split\n",
        "\n",
        "\n",
        "CL = 0.7\n",
        "for i in range(1,401):\n",
        "    X_train,X_test,y_train,y_test = train_test_split(features,label,test_size=0.1,random_state=i)\n",
        "    model = BaggingRegressor()\n",
        "    model.fit(X_train,y_train)\n",
        "    train_score = model.score(X_train,y_train)\n",
        "    test_score = model.score(X_test,y_test)\n",
        "    \n",
        "    if test_score > train_score and test_score > CL:\n",
        "        print(\"Test Score {}, Train Score {}, random_state {}\".format(test_score,train_score,i))\n",
        "       "
      ]
    },
    {
      "attachments": {},
      "cell_type": "markdown",
      "metadata": {},
      "source": [
        "### the best random_state = 386 which test_score > Train_Score\n",
        "\n",
        "let's create the final model "
      ]
    },
    {
      "cell_type": "code",
      "execution_count": 103,
      "metadata": {},
      "outputs": [
        {
          "data": {
            "text/html": [
              "<style>#sk-container-id-21 {color: black;}#sk-container-id-21 pre{padding: 0;}#sk-container-id-21 div.sk-toggleable {background-color: white;}#sk-container-id-21 label.sk-toggleable__label {cursor: pointer;display: block;width: 100%;margin-bottom: 0;padding: 0.3em;box-sizing: border-box;text-align: center;}#sk-container-id-21 label.sk-toggleable__label-arrow:before {content: \"▸\";float: left;margin-right: 0.25em;color: #696969;}#sk-container-id-21 label.sk-toggleable__label-arrow:hover:before {color: black;}#sk-container-id-21 div.sk-estimator:hover label.sk-toggleable__label-arrow:before {color: black;}#sk-container-id-21 div.sk-toggleable__content {max-height: 0;max-width: 0;overflow: hidden;text-align: left;background-color: #f0f8ff;}#sk-container-id-21 div.sk-toggleable__content pre {margin: 0.2em;color: black;border-radius: 0.25em;background-color: #f0f8ff;}#sk-container-id-21 input.sk-toggleable__control:checked~div.sk-toggleable__content {max-height: 200px;max-width: 100%;overflow: auto;}#sk-container-id-21 input.sk-toggleable__control:checked~label.sk-toggleable__label-arrow:before {content: \"▾\";}#sk-container-id-21 div.sk-estimator input.sk-toggleable__control:checked~label.sk-toggleable__label {background-color: #d4ebff;}#sk-container-id-21 div.sk-label input.sk-toggleable__control:checked~label.sk-toggleable__label {background-color: #d4ebff;}#sk-container-id-21 input.sk-hidden--visually {border: 0;clip: rect(1px 1px 1px 1px);clip: rect(1px, 1px, 1px, 1px);height: 1px;margin: -1px;overflow: hidden;padding: 0;position: absolute;width: 1px;}#sk-container-id-21 div.sk-estimator {font-family: monospace;background-color: #f0f8ff;border: 1px dotted black;border-radius: 0.25em;box-sizing: border-box;margin-bottom: 0.5em;}#sk-container-id-21 div.sk-estimator:hover {background-color: #d4ebff;}#sk-container-id-21 div.sk-parallel-item::after {content: \"\";width: 100%;border-bottom: 1px solid gray;flex-grow: 1;}#sk-container-id-21 div.sk-label:hover label.sk-toggleable__label {background-color: #d4ebff;}#sk-container-id-21 div.sk-serial::before {content: \"\";position: absolute;border-left: 1px solid gray;box-sizing: border-box;top: 0;bottom: 0;left: 50%;z-index: 0;}#sk-container-id-21 div.sk-serial {display: flex;flex-direction: column;align-items: center;background-color: white;padding-right: 0.2em;padding-left: 0.2em;position: relative;}#sk-container-id-21 div.sk-item {position: relative;z-index: 1;}#sk-container-id-21 div.sk-parallel {display: flex;align-items: stretch;justify-content: center;background-color: white;position: relative;}#sk-container-id-21 div.sk-item::before, #sk-container-id-21 div.sk-parallel-item::before {content: \"\";position: absolute;border-left: 1px solid gray;box-sizing: border-box;top: 0;bottom: 0;left: 50%;z-index: -1;}#sk-container-id-21 div.sk-parallel-item {display: flex;flex-direction: column;z-index: 1;position: relative;background-color: white;}#sk-container-id-21 div.sk-parallel-item:first-child::after {align-self: flex-end;width: 50%;}#sk-container-id-21 div.sk-parallel-item:last-child::after {align-self: flex-start;width: 50%;}#sk-container-id-21 div.sk-parallel-item:only-child::after {width: 0;}#sk-container-id-21 div.sk-dashed-wrapped {border: 1px dashed gray;margin: 0 0.4em 0.5em 0.4em;box-sizing: border-box;padding-bottom: 0.4em;background-color: white;}#sk-container-id-21 div.sk-label label {font-family: monospace;font-weight: bold;display: inline-block;line-height: 1.2em;}#sk-container-id-21 div.sk-label-container {text-align: center;}#sk-container-id-21 div.sk-container {/* jupyter's `normalize.less` sets `[hidden] { display: none; }` but bootstrap.min.css set `[hidden] { display: none !important; }` so we also need the `!important` here to be able to override the default hidden behavior on the sphinx rendered scikit-learn.org. See: https://github.com/scikit-learn/scikit-learn/issues/21755 */display: inline-block !important;position: relative;}#sk-container-id-21 div.sk-text-repr-fallback {display: none;}</style><div id=\"sk-container-id-21\" class=\"sk-top-container\"><div class=\"sk-text-repr-fallback\"><pre>BaggingRegressor(estimator=LinearRegression(), n_estimators=100)</pre><b>In a Jupyter environment, please rerun this cell to show the HTML representation or trust the notebook. <br />On GitHub, the HTML representation is unable to render, please try loading this page with nbviewer.org.</b></div><div class=\"sk-container\" hidden><div class=\"sk-item sk-dashed-wrapped\"><div class=\"sk-label-container\"><div class=\"sk-label sk-toggleable\"><input class=\"sk-toggleable__control sk-hidden--visually\" id=\"sk-estimator-id-53\" type=\"checkbox\" ><label for=\"sk-estimator-id-53\" class=\"sk-toggleable__label sk-toggleable__label-arrow\">BaggingRegressor</label><div class=\"sk-toggleable__content\"><pre>BaggingRegressor(estimator=LinearRegression(), n_estimators=100)</pre></div></div></div><div class=\"sk-parallel\"><div class=\"sk-parallel-item\"><div class=\"sk-item\"><div class=\"sk-label-container\"><div class=\"sk-label sk-toggleable\"><input class=\"sk-toggleable__control sk-hidden--visually\" id=\"sk-estimator-id-54\" type=\"checkbox\" ><label for=\"sk-estimator-id-54\" class=\"sk-toggleable__label sk-toggleable__label-arrow\">estimator: LinearRegression</label><div class=\"sk-toggleable__content\"><pre>LinearRegression()</pre></div></div></div><div class=\"sk-serial\"><div class=\"sk-item\"><div class=\"sk-estimator sk-toggleable\"><input class=\"sk-toggleable__control sk-hidden--visually\" id=\"sk-estimator-id-55\" type=\"checkbox\" ><label for=\"sk-estimator-id-55\" class=\"sk-toggleable__label sk-toggleable__label-arrow\">LinearRegression</label><div class=\"sk-toggleable__content\"><pre>LinearRegression()</pre></div></div></div></div></div></div></div></div></div></div>"
            ],
            "text/plain": [
              "BaggingRegressor(estimator=LinearRegression(), n_estimators=100)"
            ]
          },
          "execution_count": 103,
          "metadata": {},
          "output_type": "execute_result"
        }
      ],
      "source": [
        "# Linear Regression\n",
        "from sklearn.ensemble import BaggingRegressor\n",
        "from sklearn.linear_model import LinearRegression\n",
        "algorithm = LinearRegression()\n",
        "\n",
        "#Final Model\n",
        "X_train,X_test,y_train,y_test = train_test_split(features,label,test_size=0.1,random_state=386)\n",
        "final_model = BaggingRegressor(n_estimators=100,\n",
        "                               estimator=algorithm)\n",
        "final_model.fit(X_train,y_train)\n"
      ]
    },
    {
      "cell_type": "code",
      "execution_count": 104,
      "metadata": {},
      "outputs": [
        {
          "name": "stdout",
          "output_type": "stream",
          "text": [
            "Train score: 0.9448112171075878\n",
            "Test score: 0.9853557250182389\n"
          ]
        }
      ],
      "source": [
        "print(\"Train score:\", final_model.score(X_train,y_train))\n",
        "print(\"Test score:\", final_model.score(X_test,y_test))"
      ]
    },
    {
      "cell_type": "code",
      "execution_count": 61,
      "metadata": {
        "colab": {
          "base_uri": "https://localhost:8080/",
          "height": 171
        },
        "id": "tOetAQz0QxMv",
        "outputId": "45200e3a-8073-495c-d22e-76cc4e46f711"
      },
      "outputs": [
        {
          "name": "stderr",
          "output_type": "stream",
          "text": [
            "/Users/maryam/miniconda3/lib/python3.10/site-packages/sklearn/ensemble/_base.py:156: FutureWarning: `base_estimator` was renamed to `estimator` in version 1.2 and will be removed in 1.4.\n",
            "  warnings.warn(\n"
          ]
        },
        {
          "data": {
            "text/html": [
              "<style>#sk-container-id-5 {color: black;}#sk-container-id-5 pre{padding: 0;}#sk-container-id-5 div.sk-toggleable {background-color: white;}#sk-container-id-5 label.sk-toggleable__label {cursor: pointer;display: block;width: 100%;margin-bottom: 0;padding: 0.3em;box-sizing: border-box;text-align: center;}#sk-container-id-5 label.sk-toggleable__label-arrow:before {content: \"▸\";float: left;margin-right: 0.25em;color: #696969;}#sk-container-id-5 label.sk-toggleable__label-arrow:hover:before {color: black;}#sk-container-id-5 div.sk-estimator:hover label.sk-toggleable__label-arrow:before {color: black;}#sk-container-id-5 div.sk-toggleable__content {max-height: 0;max-width: 0;overflow: hidden;text-align: left;background-color: #f0f8ff;}#sk-container-id-5 div.sk-toggleable__content pre {margin: 0.2em;color: black;border-radius: 0.25em;background-color: #f0f8ff;}#sk-container-id-5 input.sk-toggleable__control:checked~div.sk-toggleable__content {max-height: 200px;max-width: 100%;overflow: auto;}#sk-container-id-5 input.sk-toggleable__control:checked~label.sk-toggleable__label-arrow:before {content: \"▾\";}#sk-container-id-5 div.sk-estimator input.sk-toggleable__control:checked~label.sk-toggleable__label {background-color: #d4ebff;}#sk-container-id-5 div.sk-label input.sk-toggleable__control:checked~label.sk-toggleable__label {background-color: #d4ebff;}#sk-container-id-5 input.sk-hidden--visually {border: 0;clip: rect(1px 1px 1px 1px);clip: rect(1px, 1px, 1px, 1px);height: 1px;margin: -1px;overflow: hidden;padding: 0;position: absolute;width: 1px;}#sk-container-id-5 div.sk-estimator {font-family: monospace;background-color: #f0f8ff;border: 1px dotted black;border-radius: 0.25em;box-sizing: border-box;margin-bottom: 0.5em;}#sk-container-id-5 div.sk-estimator:hover {background-color: #d4ebff;}#sk-container-id-5 div.sk-parallel-item::after {content: \"\";width: 100%;border-bottom: 1px solid gray;flex-grow: 1;}#sk-container-id-5 div.sk-label:hover label.sk-toggleable__label {background-color: #d4ebff;}#sk-container-id-5 div.sk-serial::before {content: \"\";position: absolute;border-left: 1px solid gray;box-sizing: border-box;top: 0;bottom: 0;left: 50%;z-index: 0;}#sk-container-id-5 div.sk-serial {display: flex;flex-direction: column;align-items: center;background-color: white;padding-right: 0.2em;padding-left: 0.2em;position: relative;}#sk-container-id-5 div.sk-item {position: relative;z-index: 1;}#sk-container-id-5 div.sk-parallel {display: flex;align-items: stretch;justify-content: center;background-color: white;position: relative;}#sk-container-id-5 div.sk-item::before, #sk-container-id-5 div.sk-parallel-item::before {content: \"\";position: absolute;border-left: 1px solid gray;box-sizing: border-box;top: 0;bottom: 0;left: 50%;z-index: -1;}#sk-container-id-5 div.sk-parallel-item {display: flex;flex-direction: column;z-index: 1;position: relative;background-color: white;}#sk-container-id-5 div.sk-parallel-item:first-child::after {align-self: flex-end;width: 50%;}#sk-container-id-5 div.sk-parallel-item:last-child::after {align-self: flex-start;width: 50%;}#sk-container-id-5 div.sk-parallel-item:only-child::after {width: 0;}#sk-container-id-5 div.sk-dashed-wrapped {border: 1px dashed gray;margin: 0 0.4em 0.5em 0.4em;box-sizing: border-box;padding-bottom: 0.4em;background-color: white;}#sk-container-id-5 div.sk-label label {font-family: monospace;font-weight: bold;display: inline-block;line-height: 1.2em;}#sk-container-id-5 div.sk-label-container {text-align: center;}#sk-container-id-5 div.sk-container {/* jupyter's `normalize.less` sets `[hidden] { display: none; }` but bootstrap.min.css set `[hidden] { display: none !important; }` so we also need the `!important` here to be able to override the default hidden behavior on the sphinx rendered scikit-learn.org. See: https://github.com/scikit-learn/scikit-learn/issues/21755 */display: inline-block !important;position: relative;}#sk-container-id-5 div.sk-text-repr-fallback {display: none;}</style><div id=\"sk-container-id-5\" class=\"sk-top-container\"><div class=\"sk-text-repr-fallback\"><pre>BaggingRegressor(base_estimator=KNeighborsRegressor(), n_estimators=5)</pre><b>In a Jupyter environment, please rerun this cell to show the HTML representation or trust the notebook. <br />On GitHub, the HTML representation is unable to render, please try loading this page with nbviewer.org.</b></div><div class=\"sk-container\" hidden><div class=\"sk-item sk-dashed-wrapped\"><div class=\"sk-label-container\"><div class=\"sk-label sk-toggleable\"><input class=\"sk-toggleable__control sk-hidden--visually\" id=\"sk-estimator-id-5\" type=\"checkbox\" ><label for=\"sk-estimator-id-5\" class=\"sk-toggleable__label sk-toggleable__label-arrow\">BaggingRegressor</label><div class=\"sk-toggleable__content\"><pre>BaggingRegressor(base_estimator=KNeighborsRegressor(), n_estimators=5)</pre></div></div></div><div class=\"sk-parallel\"><div class=\"sk-parallel-item\"><div class=\"sk-item\"><div class=\"sk-label-container\"><div class=\"sk-label sk-toggleable\"><input class=\"sk-toggleable__control sk-hidden--visually\" id=\"sk-estimator-id-6\" type=\"checkbox\" ><label for=\"sk-estimator-id-6\" class=\"sk-toggleable__label sk-toggleable__label-arrow\">base_estimator: KNeighborsRegressor</label><div class=\"sk-toggleable__content\"><pre>KNeighborsRegressor()</pre></div></div></div><div class=\"sk-serial\"><div class=\"sk-item\"><div class=\"sk-estimator sk-toggleable\"><input class=\"sk-toggleable__control sk-hidden--visually\" id=\"sk-estimator-id-7\" type=\"checkbox\" ><label for=\"sk-estimator-id-7\" class=\"sk-toggleable__label sk-toggleable__label-arrow\">KNeighborsRegressor</label><div class=\"sk-toggleable__content\"><pre>KNeighborsRegressor()</pre></div></div></div></div></div></div></div></div></div></div>"
            ],
            "text/plain": [
              "BaggingRegressor(base_estimator=KNeighborsRegressor(), n_estimators=5)"
            ]
          },
          "execution_count": 61,
          "metadata": {},
          "output_type": "execute_result"
        }
      ],
      "source": [
        "from sklearn.ensemble import BaggingRegressor\n",
        "from sklearn.neighbors import KNeighborsRegressor\n",
        "algo = KNeighborsRegressor()\n",
        "model = BaggingRegressor(n_estimators=5 , base_estimator=algo)\n",
        "model.fit(X_train,y_train)"
      ]
    },
    {
      "cell_type": "code",
      "execution_count": 63,
      "metadata": {
        "colab": {
          "base_uri": "https://localhost:8080/"
        },
        "id": "IUa7DhB1RDUG",
        "outputId": "6deb1b9d-cf9e-44a9-c2f6-d4906a15a605"
      },
      "outputs": [
        {
          "name": "stdout",
          "output_type": "stream",
          "text": [
            "0.8489406869420635\n",
            "0.8733520112312088\n"
          ]
        }
      ],
      "source": [
        "print(model.score(X_train,y_train))\n",
        "print(model.score(X_test,y_test))"
      ]
    },
    {
      "attachments": {},
      "cell_type": "markdown",
      "metadata": {},
      "source": [
        "In BaggingRegressor with KNeighborsRegressor , we already have a generalized model because 0.87(test_score) > 0.84(train_score)"
      ]
    },
    {
      "cell_type": "code",
      "execution_count": null,
      "metadata": {},
      "outputs": [],
      "source": []
    },
    {
      "cell_type": "code",
      "execution_count": 65,
      "metadata": {
        "colab": {
          "base_uri": "https://localhost:8080/"
        },
        "id": "PXcIIZeORE75",
        "outputId": "e9cd078d-5a3c-4478-d221-ae0c9d98a460"
      },
      "outputs": [
        {
          "name": "stdout",
          "output_type": "stream",
          "text": [
            "0.8514971166446111\n",
            "0.8494249206435975\n"
          ]
        }
      ],
      "source": [
        "from sklearn.neighbors import KNeighborsRegressor\n",
        "model = KNeighborsRegressor()\n",
        "model.fit(X_train,y_train)\n",
        "print(model.score(X_train,y_train))\n",
        "print(model.score(X_test,y_test))"
      ]
    },
    {
      "attachments": {},
      "cell_type": "markdown",
      "metadata": {},
      "source": [
        "# Implement Bagging for KNeighborsRegressor"
      ]
    },
    {
      "cell_type": "code",
      "execution_count": 68,
      "metadata": {
        "id": "7VWdEVu9RMu2"
      },
      "outputs": [
        {
          "data": {
            "text/html": [
              "<style>#sk-container-id-8 {color: black;}#sk-container-id-8 pre{padding: 0;}#sk-container-id-8 div.sk-toggleable {background-color: white;}#sk-container-id-8 label.sk-toggleable__label {cursor: pointer;display: block;width: 100%;margin-bottom: 0;padding: 0.3em;box-sizing: border-box;text-align: center;}#sk-container-id-8 label.sk-toggleable__label-arrow:before {content: \"▸\";float: left;margin-right: 0.25em;color: #696969;}#sk-container-id-8 label.sk-toggleable__label-arrow:hover:before {color: black;}#sk-container-id-8 div.sk-estimator:hover label.sk-toggleable__label-arrow:before {color: black;}#sk-container-id-8 div.sk-toggleable__content {max-height: 0;max-width: 0;overflow: hidden;text-align: left;background-color: #f0f8ff;}#sk-container-id-8 div.sk-toggleable__content pre {margin: 0.2em;color: black;border-radius: 0.25em;background-color: #f0f8ff;}#sk-container-id-8 input.sk-toggleable__control:checked~div.sk-toggleable__content {max-height: 200px;max-width: 100%;overflow: auto;}#sk-container-id-8 input.sk-toggleable__control:checked~label.sk-toggleable__label-arrow:before {content: \"▾\";}#sk-container-id-8 div.sk-estimator input.sk-toggleable__control:checked~label.sk-toggleable__label {background-color: #d4ebff;}#sk-container-id-8 div.sk-label input.sk-toggleable__control:checked~label.sk-toggleable__label {background-color: #d4ebff;}#sk-container-id-8 input.sk-hidden--visually {border: 0;clip: rect(1px 1px 1px 1px);clip: rect(1px, 1px, 1px, 1px);height: 1px;margin: -1px;overflow: hidden;padding: 0;position: absolute;width: 1px;}#sk-container-id-8 div.sk-estimator {font-family: monospace;background-color: #f0f8ff;border: 1px dotted black;border-radius: 0.25em;box-sizing: border-box;margin-bottom: 0.5em;}#sk-container-id-8 div.sk-estimator:hover {background-color: #d4ebff;}#sk-container-id-8 div.sk-parallel-item::after {content: \"\";width: 100%;border-bottom: 1px solid gray;flex-grow: 1;}#sk-container-id-8 div.sk-label:hover label.sk-toggleable__label {background-color: #d4ebff;}#sk-container-id-8 div.sk-serial::before {content: \"\";position: absolute;border-left: 1px solid gray;box-sizing: border-box;top: 0;bottom: 0;left: 50%;z-index: 0;}#sk-container-id-8 div.sk-serial {display: flex;flex-direction: column;align-items: center;background-color: white;padding-right: 0.2em;padding-left: 0.2em;position: relative;}#sk-container-id-8 div.sk-item {position: relative;z-index: 1;}#sk-container-id-8 div.sk-parallel {display: flex;align-items: stretch;justify-content: center;background-color: white;position: relative;}#sk-container-id-8 div.sk-item::before, #sk-container-id-8 div.sk-parallel-item::before {content: \"\";position: absolute;border-left: 1px solid gray;box-sizing: border-box;top: 0;bottom: 0;left: 50%;z-index: -1;}#sk-container-id-8 div.sk-parallel-item {display: flex;flex-direction: column;z-index: 1;position: relative;background-color: white;}#sk-container-id-8 div.sk-parallel-item:first-child::after {align-self: flex-end;width: 50%;}#sk-container-id-8 div.sk-parallel-item:last-child::after {align-self: flex-start;width: 50%;}#sk-container-id-8 div.sk-parallel-item:only-child::after {width: 0;}#sk-container-id-8 div.sk-dashed-wrapped {border: 1px dashed gray;margin: 0 0.4em 0.5em 0.4em;box-sizing: border-box;padding-bottom: 0.4em;background-color: white;}#sk-container-id-8 div.sk-label label {font-family: monospace;font-weight: bold;display: inline-block;line-height: 1.2em;}#sk-container-id-8 div.sk-label-container {text-align: center;}#sk-container-id-8 div.sk-container {/* jupyter's `normalize.less` sets `[hidden] { display: none; }` but bootstrap.min.css set `[hidden] { display: none !important; }` so we also need the `!important` here to be able to override the default hidden behavior on the sphinx rendered scikit-learn.org. See: https://github.com/scikit-learn/scikit-learn/issues/21755 */display: inline-block !important;position: relative;}#sk-container-id-8 div.sk-text-repr-fallback {display: none;}</style><div id=\"sk-container-id-8\" class=\"sk-top-container\"><div class=\"sk-text-repr-fallback\"><pre>BaggingRegressor(estimator=KNeighborsRegressor(), n_estimators=100)</pre><b>In a Jupyter environment, please rerun this cell to show the HTML representation or trust the notebook. <br />On GitHub, the HTML representation is unable to render, please try loading this page with nbviewer.org.</b></div><div class=\"sk-container\" hidden><div class=\"sk-item sk-dashed-wrapped\"><div class=\"sk-label-container\"><div class=\"sk-label sk-toggleable\"><input class=\"sk-toggleable__control sk-hidden--visually\" id=\"sk-estimator-id-14\" type=\"checkbox\" ><label for=\"sk-estimator-id-14\" class=\"sk-toggleable__label sk-toggleable__label-arrow\">BaggingRegressor</label><div class=\"sk-toggleable__content\"><pre>BaggingRegressor(estimator=KNeighborsRegressor(), n_estimators=100)</pre></div></div></div><div class=\"sk-parallel\"><div class=\"sk-parallel-item\"><div class=\"sk-item\"><div class=\"sk-label-container\"><div class=\"sk-label sk-toggleable\"><input class=\"sk-toggleable__control sk-hidden--visually\" id=\"sk-estimator-id-15\" type=\"checkbox\" ><label for=\"sk-estimator-id-15\" class=\"sk-toggleable__label sk-toggleable__label-arrow\">estimator: KNeighborsRegressor</label><div class=\"sk-toggleable__content\"><pre>KNeighborsRegressor()</pre></div></div></div><div class=\"sk-serial\"><div class=\"sk-item\"><div class=\"sk-estimator sk-toggleable\"><input class=\"sk-toggleable__control sk-hidden--visually\" id=\"sk-estimator-id-16\" type=\"checkbox\" ><label for=\"sk-estimator-id-16\" class=\"sk-toggleable__label sk-toggleable__label-arrow\">KNeighborsRegressor</label><div class=\"sk-toggleable__content\"><pre>KNeighborsRegressor()</pre></div></div></div></div></div></div></div></div></div></div>"
            ],
            "text/plain": [
              "BaggingRegressor(estimator=KNeighborsRegressor(), n_estimators=100)"
            ]
          },
          "execution_count": 68,
          "metadata": {},
          "output_type": "execute_result"
        }
      ],
      "source": [
        "# K-Neighbors Regressor\n",
        "from sklearn.ensemble import BaggingRegressor\n",
        "from sklearn.neighbors import KNeighborsRegressor\n",
        "algorithm = KNeighborsRegressor()\n",
        "\n",
        "model = BaggingRegressor(n_estimators=100, #No of weak learners\n",
        "                         estimator=algorithm) #The algo to be used for learning\n",
        "\n",
        "model.fit(X_train,y_train)"
      ]
    },
    {
      "cell_type": "code",
      "execution_count": 71,
      "metadata": {},
      "outputs": [
        {
          "name": "stdout",
          "output_type": "stream",
          "text": [
            "Train Score:  0.8404758733116813\n",
            "Test Score:  0.8646121959858224\n"
          ]
        }
      ],
      "source": [
        "print(\"Train Score: \", model.score(X_train,y_train))\n",
        "print(\"Test Score: \",model.score(X_test,y_test))"
      ]
    },
    {
      "attachments": {},
      "cell_type": "markdown",
      "metadata": {},
      "source": [
        "we could get a generalized model with Bagging Regressor with KNeighborsRegressor \n",
        "\n",
        "because test_score > train_score "
      ]
    }
  ],
  "metadata": {
    "colab": {
      "provenance": []
    },
    "kernelspec": {
      "display_name": "Python 3",
      "name": "python3"
    },
    "language_info": {
      "codemirror_mode": {
        "name": "ipython",
        "version": 3
      },
      "file_extension": ".py",
      "mimetype": "text/x-python",
      "name": "python",
      "nbconvert_exporter": "python",
      "pygments_lexer": "ipython3",
      "version": "3.10.11"
    }
  },
  "nbformat": 4,
  "nbformat_minor": 0
}
