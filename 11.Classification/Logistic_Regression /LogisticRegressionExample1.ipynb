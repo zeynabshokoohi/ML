{
  "cells": [
    {
      "cell_type": "markdown",
      "metadata": {
        "id": "2g_M4tPSCFix"
      },
      "source": [
        "# Use-case: An Online Shopping Mall has provided this dataset. Your job is to create a model that can predict whether the customer will shop or not based on customer's age and estimated salary"
      ]
    },
    {
      "cell_type": "code",
      "execution_count": 1,
      "metadata": {
        "id": "N1OvkbhJCFiz"
      },
      "outputs": [],
      "source": [
        "import numpy as np\n",
        "import pandas as pd"
      ]
    },
    {
      "cell_type": "code",
      "execution_count": 2,
      "metadata": {
        "id": "5TpsCq8aCFi1"
      },
      "outputs": [],
      "source": [
        "data = pd.read_csv('Social_Network_Ads.csv')"
      ]
    },
    {
      "cell_type": "code",
      "execution_count": 3,
      "metadata": {
        "id": "g6CIrkviCFi1",
        "outputId": "5a80e292-794f-45c2-f4de-0b606697c3aa",
        "colab": {
          "base_uri": "https://localhost:8080/"
        }
      },
      "outputs": [
        {
          "output_type": "stream",
          "name": "stdout",
          "text": [
            "<class 'pandas.core.frame.DataFrame'>\n",
            "RangeIndex: 400 entries, 0 to 399\n",
            "Data columns (total 5 columns):\n",
            " #   Column           Non-Null Count  Dtype \n",
            "---  ------           --------------  ----- \n",
            " 0   User ID          400 non-null    int64 \n",
            " 1   Gender           400 non-null    object\n",
            " 2   Age              400 non-null    int64 \n",
            " 3   EstimatedSalary  400 non-null    int64 \n",
            " 4   Purchased        400 non-null    int64 \n",
            "dtypes: int64(4), object(1)\n",
            "memory usage: 15.8+ KB\n"
          ]
        }
      ],
      "source": [
        "data.info()"
      ]
    },
    {
      "cell_type": "code",
      "source": [
        "data.head()"
      ],
      "metadata": {
        "colab": {
          "base_uri": "https://localhost:8080/",
          "height": 206
        },
        "id": "SLJzpTICQwsE",
        "outputId": "469c3032-2bed-4c07-bd15-3a67b41164b6"
      },
      "execution_count": 4,
      "outputs": [
        {
          "output_type": "execute_result",
          "data": {
            "text/plain": [
              "    User ID  Gender  Age  EstimatedSalary  Purchased\n",
              "0  15624510    Male   19            19000          0\n",
              "1  15810944    Male   35            20000          0\n",
              "2  15668575  Female   26            43000          0\n",
              "3  15603246  Female   27            57000          0\n",
              "4  15804002    Male   19            76000          0"
            ],
            "text/html": [
              "\n",
              "  <div id=\"df-e08c9296-7eda-4166-967e-fe5cd49602e7\">\n",
              "    <div class=\"colab-df-container\">\n",
              "      <div>\n",
              "<style scoped>\n",
              "    .dataframe tbody tr th:only-of-type {\n",
              "        vertical-align: middle;\n",
              "    }\n",
              "\n",
              "    .dataframe tbody tr th {\n",
              "        vertical-align: top;\n",
              "    }\n",
              "\n",
              "    .dataframe thead th {\n",
              "        text-align: right;\n",
              "    }\n",
              "</style>\n",
              "<table border=\"1\" class=\"dataframe\">\n",
              "  <thead>\n",
              "    <tr style=\"text-align: right;\">\n",
              "      <th></th>\n",
              "      <th>User ID</th>\n",
              "      <th>Gender</th>\n",
              "      <th>Age</th>\n",
              "      <th>EstimatedSalary</th>\n",
              "      <th>Purchased</th>\n",
              "    </tr>\n",
              "  </thead>\n",
              "  <tbody>\n",
              "    <tr>\n",
              "      <th>0</th>\n",
              "      <td>15624510</td>\n",
              "      <td>Male</td>\n",
              "      <td>19</td>\n",
              "      <td>19000</td>\n",
              "      <td>0</td>\n",
              "    </tr>\n",
              "    <tr>\n",
              "      <th>1</th>\n",
              "      <td>15810944</td>\n",
              "      <td>Male</td>\n",
              "      <td>35</td>\n",
              "      <td>20000</td>\n",
              "      <td>0</td>\n",
              "    </tr>\n",
              "    <tr>\n",
              "      <th>2</th>\n",
              "      <td>15668575</td>\n",
              "      <td>Female</td>\n",
              "      <td>26</td>\n",
              "      <td>43000</td>\n",
              "      <td>0</td>\n",
              "    </tr>\n",
              "    <tr>\n",
              "      <th>3</th>\n",
              "      <td>15603246</td>\n",
              "      <td>Female</td>\n",
              "      <td>27</td>\n",
              "      <td>57000</td>\n",
              "      <td>0</td>\n",
              "    </tr>\n",
              "    <tr>\n",
              "      <th>4</th>\n",
              "      <td>15804002</td>\n",
              "      <td>Male</td>\n",
              "      <td>19</td>\n",
              "      <td>76000</td>\n",
              "      <td>0</td>\n",
              "    </tr>\n",
              "  </tbody>\n",
              "</table>\n",
              "</div>\n",
              "      <button class=\"colab-df-convert\" onclick=\"convertToInteractive('df-e08c9296-7eda-4166-967e-fe5cd49602e7')\"\n",
              "              title=\"Convert this dataframe to an interactive table.\"\n",
              "              style=\"display:none;\">\n",
              "        \n",
              "  <svg xmlns=\"http://www.w3.org/2000/svg\" height=\"24px\"viewBox=\"0 0 24 24\"\n",
              "       width=\"24px\">\n",
              "    <path d=\"M0 0h24v24H0V0z\" fill=\"none\"/>\n",
              "    <path d=\"M18.56 5.44l.94 2.06.94-2.06 2.06-.94-2.06-.94-.94-2.06-.94 2.06-2.06.94zm-11 1L8.5 8.5l.94-2.06 2.06-.94-2.06-.94L8.5 2.5l-.94 2.06-2.06.94zm10 10l.94 2.06.94-2.06 2.06-.94-2.06-.94-.94-2.06-.94 2.06-2.06.94z\"/><path d=\"M17.41 7.96l-1.37-1.37c-.4-.4-.92-.59-1.43-.59-.52 0-1.04.2-1.43.59L10.3 9.45l-7.72 7.72c-.78.78-.78 2.05 0 2.83L4 21.41c.39.39.9.59 1.41.59.51 0 1.02-.2 1.41-.59l7.78-7.78 2.81-2.81c.8-.78.8-2.07 0-2.86zM5.41 20L4 18.59l7.72-7.72 1.47 1.35L5.41 20z\"/>\n",
              "  </svg>\n",
              "      </button>\n",
              "      \n",
              "  <style>\n",
              "    .colab-df-container {\n",
              "      display:flex;\n",
              "      flex-wrap:wrap;\n",
              "      gap: 12px;\n",
              "    }\n",
              "\n",
              "    .colab-df-convert {\n",
              "      background-color: #E8F0FE;\n",
              "      border: none;\n",
              "      border-radius: 50%;\n",
              "      cursor: pointer;\n",
              "      display: none;\n",
              "      fill: #1967D2;\n",
              "      height: 32px;\n",
              "      padding: 0 0 0 0;\n",
              "      width: 32px;\n",
              "    }\n",
              "\n",
              "    .colab-df-convert:hover {\n",
              "      background-color: #E2EBFA;\n",
              "      box-shadow: 0px 1px 2px rgba(60, 64, 67, 0.3), 0px 1px 3px 1px rgba(60, 64, 67, 0.15);\n",
              "      fill: #174EA6;\n",
              "    }\n",
              "\n",
              "    [theme=dark] .colab-df-convert {\n",
              "      background-color: #3B4455;\n",
              "      fill: #D2E3FC;\n",
              "    }\n",
              "\n",
              "    [theme=dark] .colab-df-convert:hover {\n",
              "      background-color: #434B5C;\n",
              "      box-shadow: 0px 1px 3px 1px rgba(0, 0, 0, 0.15);\n",
              "      filter: drop-shadow(0px 1px 2px rgba(0, 0, 0, 0.3));\n",
              "      fill: #FFFFFF;\n",
              "    }\n",
              "  </style>\n",
              "\n",
              "      <script>\n",
              "        const buttonEl =\n",
              "          document.querySelector('#df-e08c9296-7eda-4166-967e-fe5cd49602e7 button.colab-df-convert');\n",
              "        buttonEl.style.display =\n",
              "          google.colab.kernel.accessAllowed ? 'block' : 'none';\n",
              "\n",
              "        async function convertToInteractive(key) {\n",
              "          const element = document.querySelector('#df-e08c9296-7eda-4166-967e-fe5cd49602e7');\n",
              "          const dataTable =\n",
              "            await google.colab.kernel.invokeFunction('convertToInteractive',\n",
              "                                                     [key], {});\n",
              "          if (!dataTable) return;\n",
              "\n",
              "          const docLinkHtml = 'Like what you see? Visit the ' +\n",
              "            '<a target=\"_blank\" href=https://colab.research.google.com/notebooks/data_table.ipynb>data table notebook</a>'\n",
              "            + ' to learn more about interactive tables.';\n",
              "          element.innerHTML = '';\n",
              "          dataTable['output_type'] = 'display_data';\n",
              "          await google.colab.output.renderOutput(dataTable, element);\n",
              "          const docLink = document.createElement('div');\n",
              "          docLink.innerHTML = docLinkHtml;\n",
              "          element.appendChild(docLink);\n",
              "        }\n",
              "      </script>\n",
              "    </div>\n",
              "  </div>\n",
              "  "
            ]
          },
          "metadata": {},
          "execution_count": 4
        }
      ]
    },
    {
      "cell_type": "code",
      "execution_count": null,
      "metadata": {
        "id": "GlFY2TjkCFi1",
        "outputId": "d8b96b27-1a86-421d-f2cb-f780cc5f8165"
      },
      "outputs": [
        {
          "data": {
            "text/plain": [
              "0    257\n",
              "1    143\n",
              "Name: Purchased, dtype: int64"
            ]
          },
          "execution_count": 4,
          "metadata": {},
          "output_type": "execute_result"
        }
      ],
      "source": [
        "#Assumption is: Data Preprocesssing is DONE\n",
        "# Check whether the dataset is a balanced dataset or not\n",
        "# 0 --- bad customer (no purchase)\n",
        "# 1 --- good customer (purchase)\n",
        "\n",
        "data.Purchased.value_counts()\n",
        "\n",
        "#Binary Classification Usecase"
      ]
    },
    {
      "cell_type": "code",
      "execution_count": null,
      "metadata": {
        "id": "kd_hLYynCFi2"
      },
      "outputs": [],
      "source": [
        "#Here the dataset is Unbalanced"
      ]
    },
    {
      "cell_type": "code",
      "execution_count": null,
      "metadata": {
        "id": "yMhbTrr3CFi2"
      },
      "outputs": [],
      "source": [
        "# Rules for Classification (From Sklearn)\n",
        "# 1. Data must be complete\n",
        "# 2. Data must be strictly numeric\n",
        "# 3. Features must be in the form of 2d numpy array\n",
        "# 4. Label must be in the form of 1d numpy array"
      ]
    },
    {
      "cell_type": "code",
      "execution_count": null,
      "metadata": {
        "id": "uWRGkEYdCFi2"
      },
      "outputs": [],
      "source": [
        "#Features ad Label\n",
        "features = data.iloc[:,[2,3]].values\n",
        "label = data.iloc[:,4].values"
      ]
    },
    {
      "cell_type": "code",
      "execution_count": null,
      "metadata": {
        "id": "vtYxHOnMCFi3",
        "outputId": "60c5c4ff-0178-4029-a4c9-2b47543d809f"
      },
      "outputs": [
        {
          "name": "stdout",
          "output_type": "stream",
          "text": [
            "Test 0.6875 Train 0.63125 RS 3\n",
            "Test 0.7375 Train 0.61875 RS 4\n",
            "Test 0.6625 Train 0.6375 RS 5\n",
            "Test 0.65 Train 0.640625 RS 6\n",
            "Test 0.675 Train 0.634375 RS 7\n",
            "Test 0.675 Train 0.634375 RS 8\n",
            "Test 0.65 Train 0.640625 RS 10\n",
            "Test 0.6625 Train 0.6375 RS 11\n",
            "Test 0.7125 Train 0.625 RS 13\n",
            "Test 0.675 Train 0.634375 RS 16\n",
            "Test 0.7 Train 0.628125 RS 17\n",
            "Test 0.7 Train 0.628125 RS 21\n",
            "Test 0.65 Train 0.640625 RS 24\n",
            "Test 0.6625 Train 0.6375 RS 25\n",
            "Test 0.75 Train 0.615625 RS 26\n",
            "Test 0.675 Train 0.634375 RS 27\n",
            "Test 0.7 Train 0.628125 RS 28\n",
            "Test 0.6875 Train 0.63125 RS 29\n",
            "Test 0.6875 Train 0.63125 RS 31\n",
            "Test 0.6625 Train 0.6375 RS 37\n",
            "Test 0.7 Train 0.628125 RS 39\n",
            "Test 0.7 Train 0.628125 RS 40\n",
            "Test 0.65 Train 0.640625 RS 42\n",
            "Test 0.725 Train 0.621875 RS 46\n",
            "Test 0.65 Train 0.640625 RS 48\n",
            "Test 0.675 Train 0.634375 RS 50\n",
            "Test 0.65 Train 0.640625 RS 51\n",
            "Test 0.65 Train 0.640625 RS 54\n",
            "Test 0.7 Train 0.634375 RS 55\n",
            "Test 0.65 Train 0.640625 RS 56\n",
            "Test 0.6625 Train 0.6375 RS 58\n",
            "Test 0.6875 Train 0.63125 RS 59\n",
            "Test 0.7 Train 0.628125 RS 60\n",
            "Test 0.6625 Train 0.6375 RS 62\n",
            "Test 0.6875 Train 0.63125 RS 63\n",
            "Test 0.65 Train 0.640625 RS 66\n",
            "Test 0.7 Train 0.628125 RS 70\n",
            "Test 0.65 Train 0.640625 RS 74\n",
            "Test 0.65 Train 0.640625 RS 75\n",
            "Test 0.6875 Train 0.63125 RS 76\n",
            "Test 0.6875 Train 0.63125 RS 80\n",
            "Test 0.675 Train 0.634375 RS 81\n",
            "Test 0.875 Train 0.8375 RS 82\n",
            "Test 0.7 Train 0.628125 RS 83\n",
            "Test 0.675 Train 0.634375 RS 84\n",
            "Test 0.675 Train 0.634375 RS 86\n",
            "Test 0.65 Train 0.640625 RS 87\n",
            "Test 0.675 Train 0.634375 RS 90\n",
            "Test 0.65 Train 0.640625 RS 91\n",
            "Test 0.7 Train 0.628125 RS 93\n",
            "Test 0.7375 Train 0.61875 RS 94\n",
            "Test 0.65 Train 0.640625 RS 97\n",
            "Test 0.7 Train 0.628125 RS 99\n",
            "Test 0.675 Train 0.634375 RS 101\n",
            "Test 0.6625 Train 0.6375 RS 102\n",
            "Test 0.725 Train 0.621875 RS 103\n",
            "Test 0.65 Train 0.640625 RS 106\n",
            "Test 0.65 Train 0.640625 RS 109\n",
            "Test 0.75 Train 0.615625 RS 114\n",
            "Test 0.675 Train 0.634375 RS 116\n",
            "Test 0.65 Train 0.640625 RS 117\n",
            "Test 0.675 Train 0.634375 RS 119\n",
            "Test 0.65 Train 0.640625 RS 120\n",
            "Test 0.6625 Train 0.6375 RS 121\n",
            "Test 0.725 Train 0.621875 RS 125\n",
            "Test 0.65 Train 0.640625 RS 127\n",
            "Test 0.65 Train 0.640625 RS 128\n",
            "Test 0.6875 Train 0.63125 RS 129\n",
            "Test 0.6875 Train 0.63125 RS 130\n",
            "Test 0.6625 Train 0.6375 RS 132\n",
            "Test 0.6875 Train 0.63125 RS 133\n",
            "Test 0.675 Train 0.634375 RS 134\n",
            "Test 0.675 Train 0.634375 RS 138\n",
            "Test 0.7 Train 0.628125 RS 139\n",
            "Test 0.7125 Train 0.63125 RS 141\n",
            "Test 0.725 Train 0.621875 RS 142\n",
            "Test 0.6625 Train 0.6375 RS 143\n",
            "Test 0.6625 Train 0.6375 RS 145\n",
            "Test 0.7125 Train 0.625 RS 150\n",
            "Test 0.65 Train 0.640625 RS 152\n",
            "Test 0.6625 Train 0.6375 RS 154\n",
            "Test 0.675 Train 0.634375 RS 155\n",
            "Test 0.8875 Train 0.834375 RS 158\n",
            "Test 0.6625 Train 0.6375 RS 159\n",
            "Test 0.7125 Train 0.625 RS 161\n",
            "Test 0.675 Train 0.634375 RS 162\n",
            "Test 0.6625 Train 0.6375 RS 163\n",
            "Test 0.65 Train 0.640625 RS 165\n",
            "Test 0.6625 Train 0.6375 RS 169\n",
            "Test 0.675 Train 0.634375 RS 170\n",
            "Test 0.7125 Train 0.625 RS 173\n",
            "Test 0.65 Train 0.640625 RS 176\n",
            "Test 0.6625 Train 0.6375 RS 178\n",
            "Test 0.6625 Train 0.6375 RS 179\n",
            "Test 0.6625 Train 0.6375 RS 180\n",
            "Test 0.6625 Train 0.6375 RS 181\n",
            "Test 0.65 Train 0.640625 RS 184\n",
            "Test 0.6625 Train 0.6375 RS 185\n",
            "Test 0.675 Train 0.634375 RS 188\n",
            "Test 0.7375 Train 0.61875 RS 189\n",
            "Test 0.7 Train 0.628125 RS 192\n",
            "Test 0.65 Train 0.640625 RS 193\n",
            "Test 0.7 Train 0.628125 RS 194\n",
            "Test 0.65 Train 0.640625 RS 195\n",
            "Test 0.6625 Train 0.6375 RS 196\n",
            "Test 0.675 Train 0.634375 RS 198\n",
            "Test 0.8875 Train 0.8375 RS 199\n",
            "Test 0.6875 Train 0.63125 RS 204\n",
            "Test 0.6625 Train 0.6375 RS 209\n",
            "Test 0.7 Train 0.628125 RS 211\n",
            "Test 0.65 Train 0.640625 RS 212\n",
            "Test 0.6625 Train 0.6375 RS 215\n",
            "Test 0.6625 Train 0.6375 RS 217\n",
            "Test 0.6875 Train 0.63125 RS 220\n",
            "Test 0.6625 Train 0.6375 RS 223\n",
            "Test 0.6625 Train 0.6375 RS 225\n",
            "Test 0.6625 Train 0.6375 RS 226\n",
            "Test 0.6875 Train 0.63125 RS 229\n",
            "Test 0.65 Train 0.640625 RS 232\n",
            "Test 0.7125 Train 0.625 RS 233\n",
            "Test 0.6625 Train 0.6375 RS 234\n",
            "Test 0.6625 Train 0.6375 RS 235\n",
            "Test 0.6875 Train 0.63125 RS 238\n",
            "Test 0.725 Train 0.621875 RS 239\n",
            "Test 0.65 Train 0.640625 RS 241\n",
            "Test 0.725 Train 0.621875 RS 242\n",
            "Test 0.6625 Train 0.6375 RS 244\n",
            "Test 0.675 Train 0.634375 RS 245\n",
            "Test 0.6875 Train 0.63125 RS 246\n",
            "Test 0.7 Train 0.628125 RS 247\n",
            "Test 0.6875 Train 0.63125 RS 248\n",
            "Test 0.65 Train 0.640625 RS 251\n",
            "Test 0.7 Train 0.628125 RS 252\n",
            "Test 0.65 Train 0.640625 RS 253\n",
            "Test 0.675 Train 0.634375 RS 255\n",
            "Test 0.75 Train 0.615625 RS 257\n",
            "Test 0.7 Train 0.628125 RS 260\n",
            "Test 0.6625 Train 0.6375 RS 261\n",
            "Test 0.65 Train 0.640625 RS 263\n",
            "Test 0.6625 Train 0.6375 RS 265\n",
            "Test 0.8625 Train 0.840625 RS 266\n",
            "Test 0.6875 Train 0.63125 RS 269\n",
            "Test 0.6625 Train 0.6375 RS 275\n",
            "Test 0.7 Train 0.628125 RS 276\n",
            "Test 0.6625 Train 0.6375 RS 277\n",
            "Test 0.7 Train 0.628125 RS 278\n",
            "Test 0.7125 Train 0.625 RS 279\n",
            "Test 0.6875 Train 0.63125 RS 282\n",
            "Test 0.6875 Train 0.63125 RS 283\n",
            "Test 0.7125 Train 0.625 RS 287\n",
            "Test 0.6625 Train 0.6375 RS 292\n",
            "Test 0.65 Train 0.640625 RS 293\n",
            "Test 0.6625 Train 0.6375 RS 294\n",
            "Test 0.675 Train 0.634375 RS 296\n",
            "Test 0.675 Train 0.634375 RS 300\n",
            "Test 0.675 Train 0.634375 RS 302\n",
            "Test 0.6625 Train 0.6375 RS 303\n",
            "Test 0.8625 Train 0.834375 RS 305\n",
            "Test 0.6875 Train 0.63125 RS 306\n",
            "Test 0.7 Train 0.628125 RS 310\n",
            "Test 0.7125 Train 0.625 RS 311\n",
            "Test 0.8625 Train 0.834375 RS 313\n",
            "Test 0.9125 Train 0.834375 RS 314\n",
            "Test 0.7 Train 0.628125 RS 315\n",
            "Test 0.6625 Train 0.6375 RS 317\n",
            "Test 0.7625 Train 0.6125 RS 318\n",
            "Test 0.6625 Train 0.6375 RS 319\n",
            "Test 0.65 Train 0.640625 RS 321\n",
            "Test 0.7125 Train 0.625 RS 322\n",
            "Test 0.675 Train 0.634375 RS 323\n",
            "Test 0.6625 Train 0.6375 RS 325\n",
            "Test 0.7125 Train 0.625 RS 327\n",
            "Test 0.6625 Train 0.6375 RS 328\n",
            "Test 0.7 Train 0.628125 RS 329\n",
            "Test 0.65 Train 0.640625 RS 330\n",
            "Test 0.65 Train 0.640625 RS 332\n",
            "Test 0.675 Train 0.634375 RS 336\n",
            "Test 0.6875 Train 0.63125 RS 340\n",
            "Test 0.65 Train 0.640625 RS 344\n",
            "Test 0.6625 Train 0.6375 RS 345\n",
            "Test 0.7 Train 0.628125 RS 346\n",
            "Test 0.65 Train 0.640625 RS 348\n",
            "Test 0.725 Train 0.621875 RS 349\n",
            "Test 0.6875 Train 0.63125 RS 350\n",
            "Test 0.675 Train 0.634375 RS 352\n",
            "Test 0.725 Train 0.621875 RS 353\n",
            "Test 0.675 Train 0.634375 RS 354\n",
            "Test 0.6875 Train 0.63125 RS 355\n",
            "Test 0.6625 Train 0.6375 RS 356\n",
            "Test 0.7375 Train 0.61875 RS 357\n",
            "Test 0.6625 Train 0.6375 RS 358\n",
            "Test 0.6625 Train 0.6375 RS 359\n",
            "Test 0.7 Train 0.628125 RS 360\n",
            "Test 0.65 Train 0.640625 RS 361\n",
            "Test 0.6625 Train 0.6375 RS 362\n",
            "Test 0.65 Train 0.640625 RS 363\n",
            "Test 0.6625 Train 0.6375 RS 364\n",
            "Test 0.6875 Train 0.63125 RS 365\n",
            "Test 0.6625 Train 0.6375 RS 366\n",
            "Test 0.6625 Train 0.6375 RS 368\n",
            "Test 0.65 Train 0.640625 RS 370\n",
            "Test 0.725 Train 0.621875 RS 371\n",
            "Test 0.65 Train 0.640625 RS 373\n",
            "Test 0.7 Train 0.628125 RS 376\n",
            "Test 0.6875 Train 0.63125 RS 378\n",
            "Test 0.675 Train 0.634375 RS 379\n",
            "Test 0.65 Train 0.640625 RS 387\n",
            "Test 0.6625 Train 0.6375 RS 393\n",
            "Test 0.675 Train 0.634375 RS 396\n",
            "Test 0.7 Train 0.628125 RS 397\n",
            "Test 0.7125 Train 0.625 RS 400\n"
          ]
        }
      ],
      "source": [
        "#Create Good Model\n",
        "# Finding a Generalized Model\n",
        "\n",
        "from sklearn.model_selection import train_test_split\n",
        "from sklearn.linear_model import LogisticRegression\n",
        "\n",
        "for i in range(1,401):\n",
        "    X_train,X_test,y_train,y_test = train_test_split(features,label,test_size=0.2,random_state=i)\n",
        "    model = LogisticRegression()\n",
        "    model.fit(X_train,y_train)\n",
        "    \n",
        "    train_score = model.score(X_train,y_train)\n",
        "    test_score = model.score(X_test,y_test)\n",
        "    \n",
        "    if test_score > train_score:\n",
        "        print(\"Test {} Train {} RS {}\".format(test_score,train_score,i))"
      ]
    },
    {
      "cell_type": "code",
      "execution_count": null,
      "metadata": {
        "id": "8DaORaNECFi3",
        "outputId": "94b47ee3-61f0-43e6-8197-f2828a4c3a57"
      },
      "outputs": [
        {
          "data": {
            "text/plain": [
              "LogisticRegression(C=1.0, class_weight=None, dual=False, fit_intercept=True,\n",
              "                   intercept_scaling=1, l1_ratio=None, max_iter=100,\n",
              "                   multi_class='auto', n_jobs=None, penalty='l2',\n",
              "                   random_state=None, solver='lbfgs', tol=0.0001, verbose=0,\n",
              "                   warm_start=False)"
            ]
          },
          "execution_count": 11,
          "metadata": {},
          "output_type": "execute_result"
        }
      ],
      "source": [
        "X_train,X_test,y_train,y_test = train_test_split(features,label,test_size=0.2,random_state=199)\n",
        "finalModel = LogisticRegression()\n",
        "finalModel.fit(X_train,y_train)"
      ]
    },
    {
      "cell_type": "code",
      "execution_count": null,
      "metadata": {
        "id": "3tjIPdewCFi4",
        "outputId": "bfa82126-331f-42f0-ecdd-86f6c78f0ab8"
      },
      "outputs": [
        {
          "name": "stdout",
          "output_type": "stream",
          "text": [
            "0.8375\n",
            "0.8875\n"
          ]
        }
      ],
      "source": [
        "print(finalModel.score(X_train,y_train))\n",
        "print(finalModel.score(X_test,y_test))"
      ]
    },
    {
      "cell_type": "code",
      "execution_count": null,
      "metadata": {
        "id": "2UioM29OCFi4"
      },
      "outputs": [],
      "source": [
        "#Check whether to Accept or Reject the Model\n",
        "# Since the dataset is Unbalanced You need to Check for Non-Tolerable Areas\n",
        "#\n",
        "# 0 ---> Bad Customer\n",
        "# 1 ---> Good Customer\n",
        "#\n",
        "#\n",
        "# GC 1  ----> BC 0(Non-Tolerable)\n",
        "# BC ----> GC ()\n",
        "\n",
        "#\n",
        "# Precision()\n",
        "# Recall ()\n",
        "#"
      ]
    },
    {
      "cell_type": "code",
      "execution_count": null,
      "metadata": {
        "id": "mmraeDiuCFi4",
        "outputId": "f88c92e4-49db-4288-f4ca-f272f21c372d"
      },
      "outputs": [
        {
          "data": {
            "text/plain": [
              "array([[237,  20],\n",
              "       [ 41, 102]])"
            ]
          },
          "execution_count": 14,
          "metadata": {},
          "output_type": "execute_result"
        }
      ],
      "source": [
        "from sklearn.metrics import confusion_matrix\n",
        "\n",
        "#confusion_matrix(actualLabel, predictedLabel)\n",
        "confusion_matrix(label,finalModel.predict(features))"
      ]
    },
    {
      "cell_type": "code",
      "execution_count": null,
      "metadata": {
        "id": "TRH8wFwlCFi5",
        "outputId": "d3a7d05d-7a28-4b59-b17e-18fcd81d94a2"
      },
      "outputs": [
        {
          "name": "stdout",
          "output_type": "stream",
          "text": [
            "              precision    recall  f1-score   support\n",
            "\n",
            "           0       0.85      0.92      0.89       257\n",
            "           1       0.84      0.71      0.77       143\n",
            "\n",
            "    accuracy                           0.85       400\n",
            "   macro avg       0.84      0.82      0.83       400\n",
            "weighted avg       0.85      0.85      0.84       400\n",
            "\n"
          ]
        }
      ],
      "source": [
        "from sklearn.metrics import classification_report\n",
        "print(classification_report(label,finalModel.predict(features)))"
      ]
    },
    {
      "cell_type": "code",
      "execution_count": null,
      "metadata": {
        "id": "AicDD2VyCFi5"
      },
      "outputs": [],
      "source": [
        "0.78 >= CL ---- approve model else reject model"
      ]
    }
  ],
  "metadata": {
    "kernelspec": {
      "display_name": "Python 3",
      "language": "python",
      "name": "python3"
    },
    "language_info": {
      "codemirror_mode": {
        "name": "ipython",
        "version": 3
      },
      "file_extension": ".py",
      "mimetype": "text/x-python",
      "name": "python",
      "nbconvert_exporter": "python",
      "pygments_lexer": "ipython3",
      "version": "3.7.6"
    },
    "colab": {
      "provenance": []
    }
  },
  "nbformat": 4,
  "nbformat_minor": 0
}