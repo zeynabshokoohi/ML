{
 "cells": [
  {
   "cell_type": "markdown",
   "metadata": {},
   "source": [
    "# 50 Startups dataset - K-Neighbors Regressor Example"
   ]
  },
  {
   "cell_type": "code",
   "execution_count": 1,
   "metadata": {},
   "outputs": [],
   "source": [
    "import numpy as np\n",
    "import pandas as pd"
   ]
  },
  {
   "cell_type": "code",
   "execution_count": 2,
   "metadata": {},
   "outputs": [],
   "source": [
    "data = pd.read_csv('50_Startups.csv')"
   ]
  },
  {
   "cell_type": "code",
   "execution_count": 3,
   "metadata": {},
   "outputs": [
    {
     "name": "stdout",
     "output_type": "stream",
     "text": [
      "<class 'pandas.core.frame.DataFrame'>\n",
      "RangeIndex: 50 entries, 0 to 49\n",
      "Data columns (total 5 columns):\n",
      " #   Column           Non-Null Count  Dtype  \n",
      "---  ------           --------------  -----  \n",
      " 0   R&D Spend        50 non-null     float64\n",
      " 1   Administration   50 non-null     float64\n",
      " 2   Marketing Spend  50 non-null     float64\n",
      " 3   State            50 non-null     object \n",
      " 4   Profit           50 non-null     float64\n",
      "dtypes: float64(4), object(1)\n",
      "memory usage: 2.1+ KB\n"
     ]
    }
   ],
   "source": [
    "data.info()"
   ]
  },
  {
   "cell_type": "markdown",
   "metadata": {},
   "source": [
    "# Data Preprocessing"
   ]
  },
  {
   "cell_type": "code",
   "execution_count": 4,
   "metadata": {},
   "outputs": [
    {
     "data": {
      "text/plain": [
       "R&D Spend          0\n",
       "Administration     0\n",
       "Marketing Spend    0\n",
       "State              0\n",
       "Profit             0\n",
       "dtype: int64"
      ]
     },
     "execution_count": 4,
     "metadata": {},
     "output_type": "execute_result"
    }
   ],
   "source": [
    "data.isna().sum()"
   ]
  },
  {
   "cell_type": "code",
   "execution_count": 5,
   "metadata": {},
   "outputs": [
    {
     "name": "stdout",
     "output_type": "stream",
     "text": [
      "<class 'pandas.core.frame.DataFrame'>\n",
      "RangeIndex: 50 entries, 0 to 49\n",
      "Data columns (total 5 columns):\n",
      " #   Column           Non-Null Count  Dtype  \n",
      "---  ------           --------------  -----  \n",
      " 0   R&D Spend        50 non-null     float64\n",
      " 1   Administration   50 non-null     float64\n",
      " 2   Marketing Spend  50 non-null     float64\n",
      " 3   State            50 non-null     object \n",
      " 4   Profit           50 non-null     float64\n",
      "dtypes: float64(4), object(1)\n",
      "memory usage: 2.1+ KB\n"
     ]
    }
   ],
   "source": [
    "data['R&D Spend'].fillna( round(data['R&D Spend'].mean()) , inplace=True)\n",
    "data.info()"
   ]
  },
  {
   "cell_type": "code",
   "execution_count": 6,
   "metadata": {},
   "outputs": [
    {
     "name": "stdout",
     "output_type": "stream",
     "text": [
      "<class 'pandas.core.frame.DataFrame'>\n",
      "RangeIndex: 50 entries, 0 to 49\n",
      "Data columns (total 5 columns):\n",
      " #   Column           Non-Null Count  Dtype  \n",
      "---  ------           --------------  -----  \n",
      " 0   R&D Spend        50 non-null     float64\n",
      " 1   Administration   50 non-null     float64\n",
      " 2   Marketing Spend  50 non-null     float64\n",
      " 3   State            50 non-null     object \n",
      " 4   Profit           50 non-null     float64\n",
      "dtypes: float64(4), object(1)\n",
      "memory usage: 2.1+ KB\n"
     ]
    }
   ],
   "source": [
    "data['Marketing Spend'].fillna( round(data['Marketing Spend'].mean()) , inplace=True)\n",
    "data.info()"
   ]
  },
  {
   "cell_type": "code",
   "execution_count": 7,
   "metadata": {},
   "outputs": [
    {
     "name": "stdout",
     "output_type": "stream",
     "text": [
      "<class 'pandas.core.frame.DataFrame'>\n",
      "RangeIndex: 50 entries, 0 to 49\n",
      "Data columns (total 5 columns):\n",
      " #   Column           Non-Null Count  Dtype  \n",
      "---  ------           --------------  -----  \n",
      " 0   R&D Spend        50 non-null     float64\n",
      " 1   Administration   50 non-null     float64\n",
      " 2   Marketing Spend  50 non-null     float64\n",
      " 3   State            50 non-null     object \n",
      " 4   Profit           50 non-null     float64\n",
      "dtypes: float64(4), object(1)\n",
      "memory usage: 2.1+ KB\n"
     ]
    }
   ],
   "source": [
    "data['State'].fillna( data['State'].mode()[0] , inplace=True)\n",
    "data.info()"
   ]
  },
  {
   "cell_type": "code",
   "execution_count": 19,
   "metadata": {},
   "outputs": [],
   "source": [
    "# Categorical Data Handling\n",
    "\n",
    "# Using Sci-kit Package\n",
    "\n",
    "from sklearn.preprocessing import OneHotEncoder\n",
    "\n",
    "ohe = OneHotEncoder(sparse=False)\n",
    "\n",
    "fState = ohe.fit_transform( np.array(data['State']).reshape(-1,1) )\n",
    "\n",
    "\n",
    "features = np.concatenate( [fState , np.array(data.iloc[:,[0,1,2]])] , axis = 1)\n",
    "#print(features)"
   ]
  },
  {
   "cell_type": "code",
   "execution_count": 20,
   "metadata": {},
   "outputs": [],
   "source": [
    "label = data.iloc[:,[4]].values\n",
    "#print(label)"
   ]
  },
  {
   "cell_type": "markdown",
   "metadata": {},
   "source": [
    "# Implement K-Neighbors Regressor"
   ]
  },
  {
   "cell_type": "code",
   "execution_count": 21,
   "metadata": {},
   "outputs": [
    {
     "name": "stdout",
     "output_type": "stream",
     "text": [
      "Test Score 0.955833249359642, Train Score 0.8455978942730887, RandomSeed 1\n",
      "Test Score 0.9152432725356717, Train Score 0.8450600157501783, RandomSeed 2\n",
      "Test Score 0.9205222077814073, Train Score 0.844809521066878, RandomSeed 3\n",
      "Test Score 0.9503990063815226, Train Score 0.8458668403613925, RandomSeed 9\n",
      "Test Score 0.9350659791404976, Train Score 0.8431596273167298, RandomSeed 11\n",
      "Test Score 0.9080917614915126, Train Score 0.8583950730467481, RandomSeed 16\n",
      "Test Score 0.9026020881073196, Train Score 0.8512130981341051, RandomSeed 21\n",
      "Test Score 0.9712845881274329, Train Score 0.851978128828738, RandomSeed 22\n",
      "Test Score 0.9710647177256582, Train Score 0.8411316909069131, RandomSeed 26\n",
      "Test Score 0.9226471818560702, Train Score 0.8623642100459619, RandomSeed 33\n",
      "Test Score 0.9366615187756205, Train Score 0.8494501786168597, RandomSeed 38\n",
      "Test Score 0.9426072706043019, Train Score 0.8452984950399025, RandomSeed 39\n",
      "Test Score 0.906208322578222, Train Score 0.7990892129965338, RandomSeed 48\n",
      "Test Score 0.9724730782974068, Train Score 0.8672692388127128, RandomSeed 49\n",
      "Test Score 0.9087813262539721, Train Score 0.8262649754978078, RandomSeed 51\n",
      "Test Score 0.9046495352674062, Train Score 0.859695853703925, RandomSeed 57\n",
      "Test Score 0.9932009504666949, Train Score 0.8552259199416467, RandomSeed 60\n",
      "Test Score 0.969479751030397, Train Score 0.8540656062326556, RandomSeed 62\n",
      "Test Score 0.9331824264004474, Train Score 0.8419662329777052, RandomSeed 64\n",
      "Test Score 0.9144941689007672, Train Score 0.8063037108970108, RandomSeed 66\n",
      "Test Score 0.9778518155971471, Train Score 0.8546035045336076, RandomSeed 68\n",
      "Test Score 0.9707273017213194, Train Score 0.8572521047054487, RandomSeed 71\n",
      "Test Score 0.9059302870513729, Train Score 0.8491477623381531, RandomSeed 80\n",
      "Test Score 0.9105294927971632, Train Score 0.8535536062647169, RandomSeed 82\n",
      "Test Score 0.9131971479787983, Train Score 0.8265419084503073, RandomSeed 85\n",
      "Test Score 0.9594603109732808, Train Score 0.8541472047365996, RandomSeed 89\n",
      "Test Score 0.9542300655751323, Train Score 0.8571864291452517, RandomSeed 96\n",
      "Test Score 0.9003060366032816, Train Score 0.8504397848305664, RandomSeed 98\n",
      "Test Score 0.9291882346566216, Train Score 0.8028668053264599, RandomSeed 103\n",
      "Test Score 0.9614724498828737, Train Score 0.8562541892681484, RandomSeed 105\n",
      "Test Score 0.9020480504792446, Train Score 0.8471670374622758, RandomSeed 116\n",
      "Test Score 0.9289427508602849, Train Score 0.8321016800208932, RandomSeed 119\n",
      "Test Score 0.9176975018040977, Train Score 0.8407974790157565, RandomSeed 120\n",
      "Test Score 0.9545180956283044, Train Score 0.8505455070495206, RandomSeed 126\n",
      "Test Score 0.9768710801885401, Train Score 0.8481845067453913, RandomSeed 128\n",
      "Test Score 0.9239216016316251, Train Score 0.8380722802700601, RandomSeed 130\n",
      "Test Score 0.9283358215665649, Train Score 0.848799258755927, RandomSeed 151\n",
      "Test Score 0.9249610648073635, Train Score 0.8420719303501762, RandomSeed 152\n",
      "Test Score 0.9426139345746104, Train Score 0.8486719483444519, RandomSeed 153\n",
      "Test Score 0.9279549544250042, Train Score 0.8405696969130012, RandomSeed 155\n",
      "Test Score 0.9441596139312958, Train Score 0.8458839365623537, RandomSeed 159\n",
      "Test Score 0.9408574006202904, Train Score 0.8393056314570373, RandomSeed 162\n",
      "Test Score 0.901434785701847, Train Score 0.8504841306644777, RandomSeed 169\n",
      "Test Score 0.915031974313808, Train Score 0.8395283438889741, RandomSeed 180\n",
      "Test Score 0.9519787917160537, Train Score 0.8576285644083937, RandomSeed 182\n",
      "Test Score 0.9697041860567145, Train Score 0.8461268517178716, RandomSeed 184\n",
      "Test Score 0.9690549375226934, Train Score 0.8396685613052074, RandomSeed 190\n",
      "Test Score 0.9655995493598714, Train Score 0.8399832117775368, RandomSeed 195\n",
      "Test Score 0.9286212364831774, Train Score 0.8523286876686017, RandomSeed 196\n",
      "Test Score 0.9597638212431147, Train Score 0.8484290326814146, RandomSeed 197\n",
      "Test Score 0.9578876360161112, Train Score 0.8508901219210582, RandomSeed 199\n",
      "Test Score 0.9022088685611743, Train Score 0.8582355711719237, RandomSeed 203\n",
      "Test Score 0.9584655111831271, Train Score 0.8544413899542298, RandomSeed 204\n",
      "Test Score 0.9597909597137304, Train Score 0.8416456170652297, RandomSeed 209\n",
      "Test Score 0.960929763636519, Train Score 0.8530497998360496, RandomSeed 210\n",
      "Test Score 0.942883267064758, Train Score 0.8477901330299726, RandomSeed 211\n",
      "Test Score 0.9851930694467846, Train Score 0.851599471823856, RandomSeed 212\n",
      "Test Score 0.9209450993535757, Train Score 0.8356641733344531, RandomSeed 213\n",
      "Test Score 0.9257594472046518, Train Score 0.8560156150397591, RandomSeed 214\n",
      "Test Score 0.9401331837247755, Train Score 0.8422969611553122, RandomSeed 219\n",
      "Test Score 0.9216283106752112, Train Score 0.8552431388555406, RandomSeed 221\n",
      "Test Score 0.9149987833383284, Train Score 0.8514272245426373, RandomSeed 223\n",
      "Test Score 0.9218017894284201, Train Score 0.8518888551628214, RandomSeed 238\n",
      "Test Score 0.9422410552819229, Train Score 0.8324175948792604, RandomSeed 239\n",
      "Test Score 0.9345978080762504, Train Score 0.8512936750093265, RandomSeed 241\n",
      "Test Score 0.9543269414002141, Train Score 0.8500181117060615, RandomSeed 242\n",
      "Test Score 0.9123254138016822, Train Score 0.8437669149228799, RandomSeed 243\n",
      "Test Score 0.948565037090668, Train Score 0.8221638294423808, RandomSeed 246\n",
      "Test Score 0.9621895151270161, Train Score 0.8496897208363221, RandomSeed 248\n",
      "Test Score 0.9233913161432044, Train Score 0.843865267944686, RandomSeed 252\n",
      "Test Score 0.9163801436981738, Train Score 0.8492154447440006, RandomSeed 255\n",
      "Test Score 0.978120958643715, Train Score 0.8583767193668966, RandomSeed 257\n",
      "Test Score 0.9266914267989628, Train Score 0.855347677451409, RandomSeed 262\n",
      "Test Score 0.951638914241024, Train Score 0.8546774049974893, RandomSeed 265\n",
      "Test Score 0.9495747270760263, Train Score 0.8420888935427856, RandomSeed 268\n",
      "Test Score 0.9580994226310933, Train Score 0.8499209502597019, RandomSeed 270\n",
      "Test Score 0.9443644279180995, Train Score 0.8477568706468821, RandomSeed 284\n",
      "Test Score 0.9078133172196441, Train Score 0.8528539408024111, RandomSeed 285\n",
      "Test Score 0.9307963771993601, Train Score 0.8417682614897486, RandomSeed 297\n",
      "Test Score 0.9121328791140162, Train Score 0.814404528138581, RandomSeed 301\n",
      "Test Score 0.9012173355087476, Train Score 0.8309494347324247, RandomSeed 306\n",
      "Test Score 0.9527337576120899, Train Score 0.82832712075044, RandomSeed 309\n",
      "Test Score 0.9409789859690627, Train Score 0.857955814803758, RandomSeed 310\n",
      "Test Score 0.9408623390065218, Train Score 0.8616200899294353, RandomSeed 315\n",
      "Test Score 0.9625055518312685, Train Score 0.8595013892598166, RandomSeed 321\n",
      "Test Score 0.9341150336671207, Train Score 0.854619441503079, RandomSeed 322\n",
      "Test Score 0.9232207831574166, Train Score 0.8613434520330427, RandomSeed 325\n",
      "Test Score 0.9281237511191953, Train Score 0.8503310866233484, RandomSeed 334\n",
      "Test Score 0.9423692626830608, Train Score 0.8361805009228386, RandomSeed 336\n",
      "Test Score 0.9587861574140011, Train Score 0.8563714155328244, RandomSeed 338\n",
      "Test Score 0.9110316717900817, Train Score 0.8441012627656826, RandomSeed 341\n",
      "Test Score 0.9352005599076799, Train Score 0.8366805998674893, RandomSeed 342\n",
      "Test Score 0.9450162582381284, Train Score 0.8527610393078248, RandomSeed 344\n",
      "Test Score 0.965307858285594, Train Score 0.8446751013205502, RandomSeed 348\n",
      "Test Score 0.9335158986049248, Train Score 0.7991192870761129, RandomSeed 349\n",
      "Test Score 0.952536002637719, Train Score 0.8467472444854741, RandomSeed 361\n",
      "Test Score 0.9508644620247092, Train Score 0.841409839446547, RandomSeed 363\n",
      "Test Score 0.9298710302131947, Train Score 0.8296504605733958, RandomSeed 368\n",
      "Test Score 0.9364240993857866, Train Score 0.8519585172419436, RandomSeed 369\n",
      "Test Score 0.9784015815673134, Train Score 0.8334409572366098, RandomSeed 370\n",
      "Test Score 0.9408153429607445, Train Score 0.8595508128713122, RandomSeed 374\n",
      "Test Score 0.9577463411138852, Train Score 0.8511890159259186, RandomSeed 378\n",
      "Test Score 0.9162675126551922, Train Score 0.8581956498698036, RandomSeed 379\n",
      "Test Score 0.912703149319945, Train Score 0.8565048248025084, RandomSeed 385\n",
      "Test Score 0.9516566358045044, Train Score 0.8345260216593646, RandomSeed 386\n",
      "Test Score 0.9122400921340377, Train Score 0.8602614087635294, RandomSeed 387\n",
      "Test Score 0.9699231530457865, Train Score 0.8519816085433206, RandomSeed 388\n",
      "Test Score 0.905080569520931, Train Score 0.8503233384676903, RandomSeed 394\n",
      "Test Score 0.9543462881998239, Train Score 0.8423041715663733, RandomSeed 395\n",
      "Test Score 0.9041142359480456, Train Score 0.8370113261733865, RandomSeed 396\n",
      "Test Score 0.9536657346874645, Train Score 0.8344025742554226, RandomSeed 400\n"
     ]
    }
   ],
   "source": [
    "from sklearn.neighbors import KNeighborsRegressor\n",
    "from sklearn.model_selection import train_test_split\n",
    "\n",
    "SL = 0.1\n",
    "CL = 1 - SL\n",
    "for i in range(1,401):\n",
    "    X_train,X_test,y_train,y_test = train_test_split(features,label,test_size=0.1,random_state=i)\n",
    "    model = KNeighborsRegressor(n_neighbors=5)\n",
    "    model.fit(X_train,y_train)\n",
    "    train_score = model.score(X_train,y_train)\n",
    "    test_score = model.score(X_test,y_test)\n",
    "    \n",
    "    if test_score > train_score and test_score > CL:\n",
    "        print(\"Test Score {}, Train Score {}, RandomSeed {}\".format(test_score,train_score,i))"
   ]
  },
  {
   "cell_type": "code",
   "execution_count": 18,
   "metadata": {},
   "outputs": [
    {
     "name": "stdout",
     "output_type": "stream",
     "text": [
      "Train score: 0.8552259199416467\n",
      "Test score: 0.9932009504666949\n"
     ]
    }
   ],
   "source": [
    "#Final Model\n",
    "X_train,X_test,y_train,y_test = train_test_split(features,label,test_size=0.1,random_state=60)\n",
    "final_model = KNeighborsRegressor(n_neighbors=5)\n",
    "final_model.fit(X_train,y_train)\n",
    "print(\"Train score:\", final_model.score(X_train,y_train))\n",
    "print(\"Test score:\", final_model.score(X_test,y_test))"
   ]
  },
  {
   "cell_type": "code",
   "execution_count": null,
   "metadata": {},
   "outputs": [],
   "source": []
  }
 ],
 "metadata": {
  "kernelspec": {
   "display_name": "Python 3",
   "language": "python",
   "name": "python3"
  },
  "language_info": {
   "codemirror_mode": {
    "name": "ipython",
    "version": 3
   },
   "file_extension": ".py",
   "mimetype": "text/x-python",
   "name": "python",
   "nbconvert_exporter": "python",
   "pygments_lexer": "ipython3",
   "version": "3.7.6"
  }
 },
 "nbformat": 4,
 "nbformat_minor": 4
}
