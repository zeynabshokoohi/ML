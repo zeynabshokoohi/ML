{
 "cells": [
  {
   "attachments": {},
   "cell_type": "markdown",
   "metadata": {},
   "source": [
    "### Create a model that can predict the Salary of the employee based on his/her years of experiences using KNN\n",
    "### Apply kneighborsRegressor on Salary Dataset Regression (YearsExperience and Salary)"
   ]
  },
  {
   "cell_type": "code",
   "execution_count": 23,
   "metadata": {},
   "outputs": [],
   "source": [
    "import numpy as np\n",
    "import pandas as pd"
   ]
  },
  {
   "cell_type": "code",
   "execution_count": 24,
   "metadata": {},
   "outputs": [],
   "source": [
    "data = pd.read_csv('Salary_Data.csv')"
   ]
  },
  {
   "cell_type": "code",
   "execution_count": 25,
   "metadata": {},
   "outputs": [
    {
     "data": {
      "text/html": [
       "<div>\n",
       "<style scoped>\n",
       "    .dataframe tbody tr th:only-of-type {\n",
       "        vertical-align: middle;\n",
       "    }\n",
       "\n",
       "    .dataframe tbody tr th {\n",
       "        vertical-align: top;\n",
       "    }\n",
       "\n",
       "    .dataframe thead th {\n",
       "        text-align: right;\n",
       "    }\n",
       "</style>\n",
       "<table border=\"1\" class=\"dataframe\">\n",
       "  <thead>\n",
       "    <tr style=\"text-align: right;\">\n",
       "      <th></th>\n",
       "      <th>YearsExperience</th>\n",
       "      <th>Salary</th>\n",
       "    </tr>\n",
       "  </thead>\n",
       "  <tbody>\n",
       "    <tr>\n",
       "      <th>0</th>\n",
       "      <td>1.1</td>\n",
       "      <td>39343.0</td>\n",
       "    </tr>\n",
       "    <tr>\n",
       "      <th>1</th>\n",
       "      <td>1.3</td>\n",
       "      <td>46205.0</td>\n",
       "    </tr>\n",
       "    <tr>\n",
       "      <th>2</th>\n",
       "      <td>1.5</td>\n",
       "      <td>37731.0</td>\n",
       "    </tr>\n",
       "    <tr>\n",
       "      <th>3</th>\n",
       "      <td>2.0</td>\n",
       "      <td>43525.0</td>\n",
       "    </tr>\n",
       "    <tr>\n",
       "      <th>4</th>\n",
       "      <td>2.2</td>\n",
       "      <td>39891.0</td>\n",
       "    </tr>\n",
       "  </tbody>\n",
       "</table>\n",
       "</div>"
      ],
      "text/plain": [
       "   YearsExperience   Salary\n",
       "0              1.1  39343.0\n",
       "1              1.3  46205.0\n",
       "2              1.5  37731.0\n",
       "3              2.0  43525.0\n",
       "4              2.2  39891.0"
      ]
     },
     "execution_count": 25,
     "metadata": {},
     "output_type": "execute_result"
    }
   ],
   "source": [
    "data.head()"
   ]
  },
  {
   "cell_type": "code",
   "execution_count": 26,
   "metadata": {},
   "outputs": [
    {
     "name": "stdout",
     "output_type": "stream",
     "text": [
      "<class 'pandas.core.frame.DataFrame'>\n",
      "RangeIndex: 31 entries, 0 to 30\n",
      "Data columns (total 2 columns):\n",
      " #   Column           Non-Null Count  Dtype  \n",
      "---  ------           --------------  -----  \n",
      " 0   YearsExperience  30 non-null     float64\n",
      " 1   Salary           30 non-null     float64\n",
      "dtypes: float64(2)\n",
      "memory usage: 624.0 bytes\n"
     ]
    }
   ],
   "source": [
    "data.info()"
   ]
  },
  {
   "cell_type": "code",
   "execution_count": 27,
   "metadata": {},
   "outputs": [
    {
     "data": {
      "text/plain": [
       "YearsExperience    1\n",
       "Salary             1\n",
       "dtype: int64"
      ]
     },
     "execution_count": 27,
     "metadata": {},
     "output_type": "execute_result"
    }
   ],
   "source": [
    "data.isna().sum()  # we have two nulls"
   ]
  },
  {
   "cell_type": "code",
   "execution_count": 28,
   "metadata": {},
   "outputs": [],
   "source": [
    "data['YearsExperience'].fillna( round(data['YearsExperience'].mean()) , inplace=True)\n"
   ]
  },
  {
   "cell_type": "code",
   "execution_count": 29,
   "metadata": {},
   "outputs": [
    {
     "name": "stdout",
     "output_type": "stream",
     "text": [
      "<class 'pandas.core.frame.DataFrame'>\n",
      "RangeIndex: 31 entries, 0 to 30\n",
      "Data columns (total 2 columns):\n",
      " #   Column           Non-Null Count  Dtype  \n",
      "---  ------           --------------  -----  \n",
      " 0   YearsExperience  31 non-null     float64\n",
      " 1   Salary           30 non-null     float64\n",
      "dtypes: float64(2)\n",
      "memory usage: 624.0 bytes\n"
     ]
    }
   ],
   "source": [
    "data.info()"
   ]
  },
  {
   "cell_type": "code",
   "execution_count": 30,
   "metadata": {},
   "outputs": [],
   "source": [
    "data['Salary'].fillna(round(data['Salary'].mean()), inplace=True)"
   ]
  },
  {
   "cell_type": "code",
   "execution_count": 31,
   "metadata": {},
   "outputs": [
    {
     "name": "stdout",
     "output_type": "stream",
     "text": [
      "<class 'pandas.core.frame.DataFrame'>\n",
      "RangeIndex: 31 entries, 0 to 30\n",
      "Data columns (total 2 columns):\n",
      " #   Column           Non-Null Count  Dtype  \n",
      "---  ------           --------------  -----  \n",
      " 0   YearsExperience  31 non-null     float64\n",
      " 1   Salary           31 non-null     float64\n",
      "dtypes: float64(2)\n",
      "memory usage: 624.0 bytes\n"
     ]
    }
   ],
   "source": [
    "data.info()"
   ]
  },
  {
   "cell_type": "code",
   "execution_count": 33,
   "metadata": {},
   "outputs": [
    {
     "data": {
      "text/plain": [
       "YearsExperience    0\n",
       "Salary             0\n",
       "dtype: int64"
      ]
     },
     "execution_count": 33,
     "metadata": {},
     "output_type": "execute_result"
    }
   ],
   "source": [
    "data.isna().sum()  # we dont have any nulls any more "
   ]
  },
  {
   "cell_type": "code",
   "execution_count": 34,
   "metadata": {},
   "outputs": [],
   "source": [
    "features = data.iloc[:,[0]].values\n",
    "label = data.iloc[:,1].values"
   ]
  },
  {
   "cell_type": "code",
   "execution_count": 35,
   "metadata": {},
   "outputs": [
    {
     "data": {
      "text/plain": [
       "array([[ 1.1],\n",
       "       [ 1.3],\n",
       "       [ 1.5],\n",
       "       [ 2. ],\n",
       "       [ 2.2],\n",
       "       [ 2.9],\n",
       "       [ 3. ],\n",
       "       [ 3.2],\n",
       "       [ 3.2],\n",
       "       [ 3.7],\n",
       "       [ 3.9],\n",
       "       [ 4. ],\n",
       "       [ 4. ],\n",
       "       [ 4.1],\n",
       "       [ 4.5],\n",
       "       [ 4.9],\n",
       "       [ 5.1],\n",
       "       [ 5.3],\n",
       "       [ 5.9],\n",
       "       [ 6. ],\n",
       "       [ 6.8],\n",
       "       [ 7.1],\n",
       "       [ 7.9],\n",
       "       [ 8.2],\n",
       "       [ 8.7],\n",
       "       [ 9. ],\n",
       "       [ 9.5],\n",
       "       [ 9.6],\n",
       "       [10.3],\n",
       "       [10.5],\n",
       "       [ 5. ]])"
      ]
     },
     "execution_count": 35,
     "metadata": {},
     "output_type": "execute_result"
    }
   ],
   "source": [
    "features"
   ]
  },
  {
   "cell_type": "code",
   "execution_count": 36,
   "metadata": {},
   "outputs": [
    {
     "data": {
      "text/plain": [
       "array([ 39343.,  46205.,  37731.,  43525.,  39891.,  56642.,  60150.,\n",
       "        54445.,  64445.,  57189.,  63218.,  55794.,  56957.,  57081.,\n",
       "        61111.,  67938.,  66029.,  83088.,  81363.,  93940.,  91738.,\n",
       "        98273., 101302., 113812., 109431., 105582., 116969., 112635.,\n",
       "       122391., 121872.,  76003.])"
      ]
     },
     "execution_count": 36,
     "metadata": {},
     "output_type": "execute_result"
    }
   ],
   "source": [
    "label"
   ]
  },
  {
   "attachments": {},
   "cell_type": "markdown",
   "metadata": {},
   "source": [
    "# Implement K-Neighbors Regressor"
   ]
  },
  {
   "cell_type": "code",
   "execution_count": 46,
   "metadata": {},
   "outputs": [
    {
     "name": "stdout",
     "output_type": "stream",
     "text": [
      "Test Score 0.9742174128401307, Train Score 0.9667275008980118, RandomSeed 2\n",
      "Test Score 0.9793951235920916, Train Score 0.9613273476441553, RandomSeed 8\n",
      "Test Score 0.9730389259696162, Train Score 0.9681393053540235, RandomSeed 17\n",
      "Test Score 0.9745237368476906, Train Score 0.966480646029393, RandomSeed 18\n",
      "Test Score 0.9682534973273518, Train Score 0.962881039038747, RandomSeed 19\n",
      "Test Score 0.9713722312659694, Train Score 0.9661104221683089, RandomSeed 25\n",
      "Test Score 0.9923420576480022, Train Score 0.9611869310363635, RandomSeed 26\n",
      "Test Score 0.9789478042347997, Train Score 0.9664253982337746, RandomSeed 28\n",
      "Test Score 0.9722253853411862, Train Score 0.9685505690697135, RandomSeed 31\n",
      "Test Score 0.9751294331708127, Train Score 0.9619991976602045, RandomSeed 33\n",
      "Test Score 0.9686419931426428, Train Score 0.9616300910368676, RandomSeed 38\n",
      "Test Score 0.9701359339698056, Train Score 0.9652199834125378, RandomSeed 44\n",
      "Test Score 0.9692504741824286, Train Score 0.9670904570813421, RandomSeed 47\n",
      "Test Score 0.976465737034178, Train Score 0.9675459604716515, RandomSeed 48\n",
      "Test Score 0.9775378590620339, Train Score 0.9663311407062499, RandomSeed 49\n",
      "Test Score 0.9766903442790871, Train Score 0.9654473470149393, RandomSeed 54\n",
      "Test Score 0.9810007667179663, Train Score 0.9638919925343478, RandomSeed 60\n",
      "Test Score 0.9668524156735131, Train Score 0.9614636578005912, RandomSeed 61\n",
      "Test Score 0.9822549172108904, Train Score 0.9648808866567746, RandomSeed 64\n",
      "Test Score 0.9757872881874867, Train Score 0.9679976526300326, RandomSeed 67\n",
      "Test Score 0.973246373203333, Train Score 0.9656692708828496, RandomSeed 71\n",
      "Test Score 0.9703871991342877, Train Score 0.9628120708128777, RandomSeed 72\n",
      "Test Score 0.9844110611817566, Train Score 0.9620159599043044, RandomSeed 74\n",
      "Test Score 0.9788447264798695, Train Score 0.9584819262841114, RandomSeed 75\n",
      "Test Score 0.9786847156415465, Train Score 0.967198147980477, RandomSeed 80\n",
      "Test Score 0.9717917243013474, Train Score 0.9585618061954572, RandomSeed 82\n",
      "Test Score 0.9836139013107142, Train Score 0.9657885471906397, RandomSeed 87\n",
      "Test Score 0.967315903441569, Train Score 0.9644383647654089, RandomSeed 89\n",
      "Test Score 0.9730437561142751, Train Score 0.9553346694314317, RandomSeed 90\n",
      "Test Score 0.9740595799885619, Train Score 0.9598094181543405, RandomSeed 93\n",
      "Test Score 0.9761283276773703, Train Score 0.9702321943402062, RandomSeed 100\n",
      "Test Score 0.9619989342614539, Train Score 0.9609513132239796, RandomSeed 103\n",
      "Test Score 0.9768091994644771, Train Score 0.971639209024389, RandomSeed 105\n",
      "Test Score 0.9966137787979138, Train Score 0.9623967453117539, RandomSeed 111\n",
      "Test Score 0.9721577158560378, Train Score 0.9664136516838382, RandomSeed 112\n",
      "Test Score 0.9812287832193228, Train Score 0.9640384106532451, RandomSeed 119\n",
      "Test Score 0.9704730273405543, Train Score 0.9625956565843757, RandomSeed 122\n",
      "Test Score 0.9957423431085743, Train Score 0.9629870927431222, RandomSeed 131\n",
      "Test Score 0.9680738284174241, Train Score 0.9585265367999796, RandomSeed 135\n",
      "Test Score 0.9689484706847892, Train Score 0.9618051744577268, RandomSeed 138\n",
      "Test Score 0.9792960116130786, Train Score 0.9627151200461145, RandomSeed 144\n",
      "Test Score 0.9748671017732075, Train Score 0.9723790941040154, RandomSeed 148\n",
      "Test Score 0.9711466001447565, Train Score 0.9638370317433341, RandomSeed 150\n",
      "Test Score 0.9907724597968903, Train Score 0.9566541225426616, RandomSeed 151\n",
      "Test Score 0.9795939049400397, Train Score 0.9622788241827308, RandomSeed 152\n",
      "Test Score 0.9686940323494364, Train Score 0.9676720298359568, RandomSeed 153\n",
      "Test Score 0.9742301480606739, Train Score 0.9671027593720141, RandomSeed 160\n",
      "Test Score 0.9976427467124084, Train Score 0.9631198786114556, RandomSeed 166\n",
      "Test Score 0.9683576547931599, Train Score 0.9645520039434031, RandomSeed 167\n",
      "Test Score 0.967684005124293, Train Score 0.9599696480918117, RandomSeed 168\n",
      "Test Score 0.9683980352546373, Train Score 0.9622982768114625, RandomSeed 187\n",
      "Test Score 0.9729834190737707, Train Score 0.96415860878619, RandomSeed 193\n",
      "Test Score 0.9560286653123721, Train Score 0.9559338128066229, RandomSeed 195\n",
      "Test Score 0.9810402744416675, Train Score 0.9620207101745868, RandomSeed 196\n",
      "Test Score 0.9770941838891752, Train Score 0.9574243809976565, RandomSeed 198\n",
      "Test Score 0.9679503176363364, Train Score 0.9623017026679122, RandomSeed 202\n",
      "Test Score 0.9807618315587404, Train Score 0.9662404603234671, RandomSeed 204\n",
      "Test Score 0.9937585781741994, Train Score 0.9600807558010223, RandomSeed 205\n",
      "Test Score 0.9824477585200634, Train Score 0.9631237036084885, RandomSeed 208\n",
      "Test Score 0.9933439786671202, Train Score 0.9602347042781375, RandomSeed 216\n",
      "Test Score 0.9805223775145263, Train Score 0.9626969492897405, RandomSeed 223\n",
      "Test Score 0.969015338585129, Train Score 0.9683490533544116, RandomSeed 232\n",
      "Test Score 0.9829612489389387, Train Score 0.967282132556875, RandomSeed 238\n",
      "Test Score 0.9760721050985762, Train Score 0.9608438053578224, RandomSeed 241\n",
      "Test Score 0.9886109960834094, Train Score 0.9650045778747188, RandomSeed 243\n",
      "Test Score 0.9721174601059996, Train Score 0.9598872248039073, RandomSeed 244\n",
      "Test Score 0.9768457096377033, Train Score 0.9685391638892198, RandomSeed 246\n",
      "Test Score 0.9763915368271467, Train Score 0.9682420199376883, RandomSeed 247\n",
      "Test Score 0.9751242962175656, Train Score 0.9598761632220718, RandomSeed 253\n",
      "Test Score 0.9854565674972093, Train Score 0.9616336866139119, RandomSeed 255\n",
      "Test Score 0.9688971668211187, Train Score 0.9565284096206379, RandomSeed 256\n",
      "Test Score 0.9801183328054063, Train Score 0.9607817681722898, RandomSeed 257\n",
      "Test Score 0.9942539897286552, Train Score 0.9577309290865716, RandomSeed 259\n",
      "Test Score 0.9645784527940374, Train Score 0.9624530543597613, RandomSeed 270\n",
      "Test Score 0.9958786471674552, Train Score 0.9670657268138202, RandomSeed 273\n",
      "Test Score 0.9757584828088952, Train Score 0.9664060003214162, RandomSeed 276\n",
      "Test Score 0.9688540434348365, Train Score 0.9655486592802421, RandomSeed 281\n",
      "Test Score 0.9755318353691955, Train Score 0.9663997569338514, RandomSeed 284\n",
      "Test Score 0.9733656403406483, Train Score 0.9652432028375509, RandomSeed 286\n",
      "Test Score 0.9707680144182498, Train Score 0.9665875607448292, RandomSeed 294\n",
      "Test Score 0.9795560799137958, Train Score 0.9626507808430055, RandomSeed 295\n",
      "Test Score 0.9687557190693886, Train Score 0.96163004298416, RandomSeed 304\n",
      "Test Score 0.9959853902074479, Train Score 0.9578887744564532, RandomSeed 307\n",
      "Test Score 0.9655238911803461, Train Score 0.9635594299804464, RandomSeed 308\n",
      "Test Score 0.9717362780598758, Train Score 0.9624868527288848, RandomSeed 309\n",
      "Test Score 0.9909253747169282, Train Score 0.9641905638545358, RandomSeed 311\n",
      "Test Score 0.9722088511905855, Train Score 0.9681183411644612, RandomSeed 316\n",
      "Test Score 0.9757339033298232, Train Score 0.9632688017713567, RandomSeed 321\n",
      "Test Score 0.9617942335218257, Train Score 0.9608383278327054, RandomSeed 324\n",
      "Test Score 0.9856550601742314, Train Score 0.9533504921276872, RandomSeed 326\n",
      "Test Score 0.9867404270651562, Train Score 0.9620639325459361, RandomSeed 330\n",
      "Test Score 0.9702765803831118, Train Score 0.9652146946149367, RandomSeed 332\n",
      "Test Score 0.9704143561632994, Train Score 0.96093951653665, RandomSeed 334\n",
      "Test Score 0.967170914377944, Train Score 0.961982719293107, RandomSeed 341\n",
      "Test Score 0.9664634054392125, Train Score 0.9608791546094203, RandomSeed 349\n",
      "Test Score 0.978943941967695, Train Score 0.9576069179429629, RandomSeed 351\n",
      "Test Score 0.9942324116935303, Train Score 0.9597043964762669, RandomSeed 356\n",
      "Test Score 0.9856895191940921, Train Score 0.9631835520569108, RandomSeed 369\n",
      "Test Score 0.9763483479755235, Train Score 0.963057849483739, RandomSeed 371\n",
      "Test Score 0.9802451919477264, Train Score 0.9618016286717552, RandomSeed 376\n",
      "Test Score 0.9672209001913299, Train Score 0.9658614480875176, RandomSeed 379\n",
      "Test Score 0.9664576254754267, Train Score 0.9650850429025427, RandomSeed 382\n",
      "Test Score 0.9643630274085673, Train Score 0.9623686050411505, RandomSeed 400\n"
     ]
    }
   ],
   "source": [
    "from sklearn.neighbors import KNeighborsRegressor\n",
    "from sklearn.model_selection import train_test_split\n",
    "\n",
    "SL = 0.1\n",
    "CL = 1 - SL\n",
    "for i in range(1,401):\n",
    "    X_train,X_test,y_train,y_test = train_test_split(features,label,test_size=0.1,random_state=i)\n",
    "    model = KNeighborsRegressor(n_neighbors=5)\n",
    "    model.fit(X_train,y_train)\n",
    "    train_score = model.score(X_train,y_train)\n",
    "    test_score = model.score(X_test,y_test)\n",
    "    \n",
    "    if test_score > train_score and test_score > CL:\n",
    "        print(\"Test Score {}, Train Score {}, RandomSeed {}\".format(test_score,train_score,i))"
   ]
  },
  {
   "cell_type": "code",
   "execution_count": 47,
   "metadata": {},
   "outputs": [
    {
     "name": "stdout",
     "output_type": "stream",
     "text": [
      "Train score: 0.9623967453117539\n",
      "Test score: 0.9966137787979138\n"
     ]
    }
   ],
   "source": [
    "#Create Good Model\n",
    "# Finding a Generalized Model\n",
    "from sklearn.neighbors import KNeighborsRegressor\n",
    "from sklearn.model_selection import train_test_split\n",
    "\n",
    "\n",
    "\n",
    "X_train,X_test,y_train,y_test = train_test_split(features,label,test_size=0.1,random_state=111)\n",
    "model = KNeighborsRegressor(n_neighbors=5)\n",
    "model.fit(X_train,y_train)\n",
    "    \n",
    "train_score = model.score(X_train,y_train)\n",
    "test_score = model.score(X_test,y_test)\n",
    "    \n",
    "print(\"Train score:\", train_score)\n",
    "print(\"Test score:\", test_score)\n",
    "    #if test_score > train_score:\n",
    "     #   print(\"Test {} Train {} RS {}\".format(test_score,train_score,i))\n"
   ]
  },
  {
   "cell_type": "code",
   "execution_count": null,
   "metadata": {},
   "outputs": [],
   "source": []
  }
 ],
 "metadata": {
  "kernelspec": {
   "display_name": "base",
   "language": "python",
   "name": "python3"
  },
  "language_info": {
   "codemirror_mode": {
    "name": "ipython",
    "version": 3
   },
   "file_extension": ".py",
   "mimetype": "text/x-python",
   "name": "python",
   "nbconvert_exporter": "python",
   "pygments_lexer": "ipython3",
   "version": "3.10.11"
  },
  "orig_nbformat": 4
 },
 "nbformat": 4,
 "nbformat_minor": 2
}
