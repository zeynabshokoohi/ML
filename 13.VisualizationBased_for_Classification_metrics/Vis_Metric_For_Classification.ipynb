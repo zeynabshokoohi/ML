{
  "nbformat": 4,
  "nbformat_minor": 0,
  "metadata": {
    "kernelspec": {
      "display_name": "Python 3",
      "language": "python",
      "name": "python3"
    },
    "language_info": {
      "codemirror_mode": {
        "name": "ipython",
        "version": 3
      },
      "file_extension": ".py",
      "mimetype": "text/x-python",
      "name": "python",
      "nbconvert_exporter": "python",
      "pygments_lexer": "ipython3",
      "version": "3.7.6"
    },
    "colab": {
      "provenance": []
    }
  },
  "cells": [
    {
      "cell_type": "code",
      "metadata": {
        "id": "Hg_Dk-ROubX7"
      },
      "source": [
        "import numpy as np\n",
        "import pandas as pd"
      ],
      "execution_count": null,
      "outputs": []
    },
    {
      "cell_type": "code",
      "metadata": {
        "id": "vnDJbNGyubX7"
      },
      "source": [
        "data = pd.read_csv('Social_Network_Ads.csv')"
      ],
      "execution_count": null,
      "outputs": []
    },
    {
      "cell_type": "code",
      "metadata": {
        "id": "921Nch9KubX7"
      },
      "source": [
        "features = data.iloc[:,[2,3]].values\n",
        "label = data.iloc[:,4].values"
      ],
      "execution_count": null,
      "outputs": []
    },
    {
      "cell_type": "code",
      "metadata": {
        "id": "evJDbhtNubX7",
        "outputId": "c0237072-a71f-446f-d8da-8b4b44c7fd8b"
      },
      "source": [
        "data.Purchased.value_counts()"
      ],
      "execution_count": null,
      "outputs": [
        {
          "output_type": "execute_result",
          "data": {
            "text/plain": [
              "0    257\n",
              "1    143\n",
              "Name: Purchased, dtype: int64"
            ]
          },
          "metadata": {
            "tags": []
          },
          "execution_count": 8
        }
      ]
    },
    {
      "cell_type": "code",
      "metadata": {
        "id": "tDJTHjw1ubX8"
      },
      "source": [
        "from sklearn.model_selection import train_test_split\n",
        "from sklearn.linear_model import LogisticRegression\n",
        "\n",
        "X_train,X_test,y_train,y_test = train_test_split(features,\n",
        "                                                label,\n",
        "                                                test_size=0.2,\n",
        "                                                random_state=199)"
      ],
      "execution_count": null,
      "outputs": []
    },
    {
      "cell_type": "code",
      "metadata": {
        "id": "Kpc97iKsubX8",
        "outputId": "46e4c56b-1186-4934-d462-42db3f0a3204"
      },
      "source": [
        "model = LogisticRegression()\n",
        "model.fit(X_train,y_train)"
      ],
      "execution_count": null,
      "outputs": [
        {
          "output_type": "execute_result",
          "data": {
            "text/plain": [
              "LogisticRegression(C=1.0, class_weight=None, dual=False, fit_intercept=True,\n",
              "                   intercept_scaling=1, l1_ratio=None, max_iter=100,\n",
              "                   multi_class='auto', n_jobs=None, penalty='l2',\n",
              "                   random_state=None, solver='lbfgs', tol=0.0001, verbose=0,\n",
              "                   warm_start=False)"
            ]
          },
          "metadata": {
            "tags": []
          },
          "execution_count": 32
        }
      ]
    },
    {
      "cell_type": "code",
      "metadata": {
        "id": "bY8rQn-subX8",
        "outputId": "1ddfdc98-d930-443d-89cc-6f19f4dcb6f1"
      },
      "source": [
        "model.score(X_train,y_train)"
      ],
      "execution_count": null,
      "outputs": [
        {
          "output_type": "execute_result",
          "data": {
            "text/plain": [
              "0.8375"
            ]
          },
          "metadata": {
            "tags": []
          },
          "execution_count": 33
        }
      ]
    },
    {
      "cell_type": "code",
      "metadata": {
        "id": "ZEjYPYI1ubX8",
        "outputId": "8ebacecc-cd31-4d82-c6a6-27091d6d5e3c"
      },
      "source": [
        "model.score(X_test,y_test)"
      ],
      "execution_count": null,
      "outputs": [
        {
          "output_type": "execute_result",
          "data": {
            "text/plain": [
              "0.8875"
            ]
          },
          "metadata": {
            "tags": []
          },
          "execution_count": 34
        }
      ]
    },
    {
      "cell_type": "markdown",
      "metadata": {
        "id": "NNWhygv4ubX8"
      },
      "source": [
        "# ROC Curve"
      ]
    },
    {
      "cell_type": "code",
      "source": [
        "model.predict_proba(X_test)"
      ],
      "metadata": {
        "id": "jIF1OGmLd9sH"
      },
      "execution_count": null,
      "outputs": []
    },
    {
      "cell_type": "code",
      "metadata": {
        "id": "3pxfYZzEubX9",
        "outputId": "b85b01ce-94e0-4e26-d49c-220c51bd74ab"
      },
      "source": [
        "model.predict_proba(X_test)[:,1]"
      ],
      "execution_count": null,
      "outputs": [
        {
          "output_type": "execute_result",
          "data": {
            "text/plain": [
              "array([0.30836264, 0.91079273, 0.13700251, 0.00401364, 0.88616071,\n",
              "       0.26557903, 0.55949243, 0.21612017, 0.99728588, 0.19815624,\n",
              "       0.42705761, 0.87926715, 0.18204413, 0.31550988, 0.1630387 ,\n",
              "       0.969827  , 0.8154532 , 0.93892347, 0.02560173, 0.5908719 ,\n",
              "       0.99426102, 0.92376635, 0.00518353, 0.02644595, 0.0780933 ,\n",
              "       0.13476784, 0.78985382, 0.00831599, 0.98412275, 0.05254734,\n",
              "       0.00132795, 0.95645756, 0.00688454, 0.0142874 , 0.73021371,\n",
              "       0.17713787, 0.01319186, 0.90149143, 0.99146485, 0.24832158,\n",
              "       0.92737277, 0.96220317, 0.35798254, 0.01415401, 0.25640291,\n",
              "       0.00131539, 0.00388266, 0.33006896, 0.0373644 , 0.04169682,\n",
              "       0.33854344, 0.00638312, 0.00600248, 0.00117359, 0.00283913,\n",
              "       0.05827129, 0.02258472, 0.1630387 , 0.14744885, 0.99654298,\n",
              "       0.59661342, 0.00170823, 0.33854344, 0.26557903, 0.79533085,\n",
              "       0.00940094, 0.06287203, 0.17783311, 0.01900801, 0.0475731 ,\n",
              "       0.17713787, 0.20895466, 0.36567181, 0.05596516, 0.05723516,\n",
              "       0.7283332 , 0.07843621, 0.50980936, 0.59546459, 0.8767174 ])"
            ]
          },
          "metadata": {
            "tags": []
          },
          "execution_count": 35
        }
      ]
    },
    {
      "cell_type": "code",
      "metadata": {
        "id": "DL48cBNsubX9"
      },
      "source": [
        "#Plot ROC\n",
        "from sklearn.metrics import roc_curve\n",
        "from sklearn.metrics import roc_auc_score\n",
        "import matplotlib.pyplot as plt\n",
        "%matplotlib inline"
      ],
      "execution_count": null,
      "outputs": []
    },
    {
      "cell_type": "code",
      "metadata": {
        "id": "wznmU1oMubX9",
        "outputId": "d28678cd-0f15-408c-fa2c-244bcb536a6e"
      },
      "source": [
        "#Step1: Extract the prob of true value for your label (1)\n",
        "probabilityValues = model.predict_proba(X_test)[:,1]\n",
        "\n",
        "#Step2: Calc AUC\n",
        "auc = roc_auc_score(y_test, probabilityValues)\n",
        "\n",
        "#Step3: Plot the Skill line (0,0) (1,1)\n",
        "plt.plot([0,1],[0,1] , linestyle='--')\n",
        "\n",
        "#Step4: Plot ROC\n",
        "fpr,tpr,_ = roc_curve(y_test , probabilityValues)\n",
        "\n",
        "plt.plot(fpr,tpr)\n",
        "print(auc)\n",
        "\n",
        "# If the auc score >= CL , accept the model"
      ],
      "execution_count": null,
      "outputs": [
        {
          "output_type": "stream",
          "text": [
            "0.9574036511156186\n"
          ],
          "name": "stdout"
        },
        {
          "output_type": "display_data",
          "data": {
            "image/png": "[encoded data removed]",
            "text/plain": [
              "<Figure size 432x288 with 1 Axes>"
            ]
          },
          "metadata": {
            "tags": [],
            "needs_background": "light"
          }
        }
      ]
    },
    {
      "cell_type": "code",
      "metadata": {
        "id": "XrJH4ysgubX9"
      },
      "source": [
        "#Note: For this example use of ROC is invalid since the dataset is an UNBALANCED dataset."
      ],
      "execution_count": null,
      "outputs": []
    },
    {
      "cell_type": "markdown",
      "metadata": {
        "id": "mTpzC1whubX9"
      },
      "source": [
        "# PR Curve"
      ]
    },
    {
      "cell_type": "code",
      "metadata": {
        "id": "tSl8GrLLubX9",
        "outputId": "1551b3e8-b335-4e73-be66-c3b4f868d3aa"
      },
      "source": [
        "from sklearn.metrics import precision_recall_curve\n",
        "from sklearn.metrics import auc\n",
        "import matplotlib.pyplot as plt\n",
        "%matplotlib inline\n",
        "\n",
        "#Step1: Extract the prob values for label 1\n",
        "probabilityValues = model.predict_proba(X_test)[:,1]\n",
        "\n",
        "#Step2: Calc PR and AUC\n",
        "precision,recall,_ = precision_recall_curve(y_test, probabilityValues)\n",
        "aucPR = auc(recall,precision)\n",
        "print(aucPR)\n",
        "\n",
        "#Step3: Plot the Skill line (0,0.5) (1,0.5)\n",
        "plt.plot([0,1],[0.5,0.5], linestyle='--')\n",
        "\n",
        "#Step4: Plot PR Curve\n",
        "plt.plot(recall,precision)\n"
      ],
      "execution_count": null,
      "outputs": [
        {
          "output_type": "stream",
          "text": [
            "0.9164619166014315\n"
          ],
          "name": "stdout"
        },
        {
          "output_type": "execute_result",
          "data": {
            "text/plain": [
              "[<matplotlib.lines.Line2D at 0x1a21d94a90>]"
            ]
          },
          "metadata": {
            "tags": []
          },
          "execution_count": 39
        },
        {
          "output_type": "display_data",
          "data": {
            "image/png": "[encoded data removed]",
            "text/plain": [
              "<Figure size 432x288 with 1 Axes>"
            ]
          },
          "metadata": {
            "tags": [],
            "needs_background": "light"
          }
        }
      ]
    },
    {
      "cell_type": "code",
      "metadata": {
        "id": "rSh7WRVsubX9"
      },
      "source": [
        "\n",
        "# We will accept the model !!!"
      ],
      "execution_count": null,
      "outputs": []
    }
  ]
}