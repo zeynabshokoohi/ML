{
  "cells": [
    {
      "attachments": {},
      "cell_type": "markdown",
      "metadata": {
        "id": "9kXdMpte3djg"
      },
      "source": [
        "# Use-case: An invester company has assigned you a project. The goal of the project is to create a model that can predict the profit of the company based on Company's Spending Pattern and Company's Location"
      ]
    },
    {
      "cell_type": "code",
      "execution_count": 2,
      "metadata": {
        "id": "BOsdU5Zk3djj"
      },
      "outputs": [],
      "source": [
        "import numpy as np\n",
        "import pandas as pd"
      ]
    },
    {
      "cell_type": "code",
      "execution_count": 3,
      "metadata": {
        "id": "bY3Nw6p03djj"
      },
      "outputs": [],
      "source": [
        "data = pd.read_csv('50_Startups.csv')"
      ]
    },
    {
      "cell_type": "code",
      "execution_count": 4,
      "metadata": {
        "id": "Br7SmS3Z3djk",
        "outputId": "b59229c5-c3ab-45d2-fb4e-33261446fa38"
      },
      "outputs": [
        {
          "name": "stdout",
          "output_type": "stream",
          "text": [
            "<class 'pandas.core.frame.DataFrame'>\n",
            "RangeIndex: 50 entries, 0 to 49\n",
            "Data columns (total 5 columns):\n",
            " #   Column           Non-Null Count  Dtype  \n",
            "---  ------           --------------  -----  \n",
            " 0   R&D Spend        50 non-null     float64\n",
            " 1   Administration   50 non-null     float64\n",
            " 2   Marketing Spend  50 non-null     float64\n",
            " 3   State            50 non-null     object \n",
            " 4   Profit           50 non-null     float64\n",
            "dtypes: float64(4), object(1)\n",
            "memory usage: 2.1+ KB\n"
          ]
        }
      ],
      "source": [
        "data.info()"
      ]
    },
    {
      "cell_type": "code",
      "execution_count": 9,
      "metadata": {
        "id": "AbrQNeD63djk",
        "outputId": "c30d2429-c590-44f2-a9c1-8ecb0d2c124d"
      },
      "outputs": [
        {
          "data": {
            "text/html": [
              "<div>\n",
              "<style scoped>\n",
              "    .dataframe tbody tr th:only-of-type {\n",
              "        vertical-align: middle;\n",
              "    }\n",
              "\n",
              "    .dataframe tbody tr th {\n",
              "        vertical-align: top;\n",
              "    }\n",
              "\n",
              "    .dataframe thead th {\n",
              "        text-align: right;\n",
              "    }\n",
              "</style>\n",
              "<table border=\"1\" class=\"dataframe\">\n",
              "  <thead>\n",
              "    <tr style=\"text-align: right;\">\n",
              "      <th></th>\n",
              "      <th>California</th>\n",
              "      <th>Florida</th>\n",
              "      <th>New York</th>\n",
              "      <th>R&amp;D Spend</th>\n",
              "      <th>Administration</th>\n",
              "      <th>Marketing Spend</th>\n",
              "      <th>Profit</th>\n",
              "    </tr>\n",
              "  </thead>\n",
              "  <tbody>\n",
              "    <tr>\n",
              "      <th>0</th>\n",
              "      <td>0</td>\n",
              "      <td>0</td>\n",
              "      <td>1</td>\n",
              "      <td>165349.20</td>\n",
              "      <td>136897.80</td>\n",
              "      <td>471784.10</td>\n",
              "      <td>192261.83</td>\n",
              "    </tr>\n",
              "    <tr>\n",
              "      <th>1</th>\n",
              "      <td>1</td>\n",
              "      <td>0</td>\n",
              "      <td>0</td>\n",
              "      <td>162597.70</td>\n",
              "      <td>151377.59</td>\n",
              "      <td>443898.53</td>\n",
              "      <td>191792.06</td>\n",
              "    </tr>\n",
              "    <tr>\n",
              "      <th>2</th>\n",
              "      <td>0</td>\n",
              "      <td>1</td>\n",
              "      <td>0</td>\n",
              "      <td>153441.51</td>\n",
              "      <td>101145.55</td>\n",
              "      <td>407934.54</td>\n",
              "      <td>191050.39</td>\n",
              "    </tr>\n",
              "    <tr>\n",
              "      <th>3</th>\n",
              "      <td>0</td>\n",
              "      <td>0</td>\n",
              "      <td>1</td>\n",
              "      <td>144372.41</td>\n",
              "      <td>118671.85</td>\n",
              "      <td>383199.62</td>\n",
              "      <td>182901.99</td>\n",
              "    </tr>\n",
              "    <tr>\n",
              "      <th>4</th>\n",
              "      <td>0</td>\n",
              "      <td>1</td>\n",
              "      <td>0</td>\n",
              "      <td>142107.34</td>\n",
              "      <td>91391.77</td>\n",
              "      <td>366168.42</td>\n",
              "      <td>166187.94</td>\n",
              "    </tr>\n",
              "  </tbody>\n",
              "</table>\n",
              "</div>"
            ],
            "text/plain": [
              "   California  Florida  New York  R&D Spend  Administration  Marketing Spend   \n",
              "0           0        0         1  165349.20       136897.80        471784.10  \\\n",
              "1           1        0         0  162597.70       151377.59        443898.53   \n",
              "2           0        1         0  153441.51       101145.55        407934.54   \n",
              "3           0        0         1  144372.41       118671.85        383199.62   \n",
              "4           0        1         0  142107.34        91391.77        366168.42   \n",
              "\n",
              "      Profit  \n",
              "0  192261.83  \n",
              "1  191792.06  \n",
              "2  191050.39  \n",
              "3  182901.99  \n",
              "4  166187.94  "
            ]
          },
          "execution_count": 9,
          "metadata": {},
          "output_type": "execute_result"
        }
      ],
      "source": [
        "#Make the data compatible\n",
        "finalData = pd.concat([pd.get_dummies(data.State, dtype=int), data.iloc[:,[0,1,2,4]]] , axis = 1)\n",
        "finalData.head()\n",
        "#pd.get_dummies(pd.Series(list('abc')), dtype=float)"
      ]
    },
    {
      "cell_type": "code",
      "execution_count": 10,
      "metadata": {
        "id": "LTo2IvLu3djl"
      },
      "outputs": [],
      "source": [
        "features = finalData.iloc[:,:-1].values\n",
        "label = finalData.iloc[:,[-1]].values"
      ]
    },
    {
      "attachments": {},
      "cell_type": "markdown",
      "metadata": {
        "id": "-OWIcJGa3djl"
      },
      "source": [
        "# Feature Engineering Track"
      ]
    },
    {
      "attachments": {},
      "cell_type": "markdown",
      "metadata": {
        "id": "k6ztT1m03djl"
      },
      "source": [
        "# Method 1. Correlation Analysis"
      ]
    },
    {
      "cell_type": "code",
      "execution_count": 11,
      "metadata": {
        "id": "ZxIPhwQc3djm",
        "outputId": "2345f1ac-74b5-4318-f6d4-cbdb973f74be"
      },
      "outputs": [
        {
          "data": {
            "text/html": [
              "<div>\n",
              "<style scoped>\n",
              "    .dataframe tbody tr th:only-of-type {\n",
              "        vertical-align: middle;\n",
              "    }\n",
              "\n",
              "    .dataframe tbody tr th {\n",
              "        vertical-align: top;\n",
              "    }\n",
              "\n",
              "    .dataframe thead th {\n",
              "        text-align: right;\n",
              "    }\n",
              "</style>\n",
              "<table border=\"1\" class=\"dataframe\">\n",
              "  <thead>\n",
              "    <tr style=\"text-align: right;\">\n",
              "      <th></th>\n",
              "      <th>California</th>\n",
              "      <th>Florida</th>\n",
              "      <th>New York</th>\n",
              "      <th>R&amp;D Spend</th>\n",
              "      <th>Administration</th>\n",
              "      <th>Marketing Spend</th>\n",
              "      <th>Profit</th>\n",
              "    </tr>\n",
              "  </thead>\n",
              "  <tbody>\n",
              "    <tr>\n",
              "      <th>California</th>\n",
              "      <td>1.000000</td>\n",
              "      <td>-0.492366</td>\n",
              "      <td>-0.515152</td>\n",
              "      <td>-0.143165</td>\n",
              "      <td>-0.015478</td>\n",
              "      <td>-0.168875</td>\n",
              "      <td>-0.145837</td>\n",
              "    </tr>\n",
              "    <tr>\n",
              "      <th>Florida</th>\n",
              "      <td>-0.492366</td>\n",
              "      <td>1.000000</td>\n",
              "      <td>-0.492366</td>\n",
              "      <td>0.105711</td>\n",
              "      <td>0.010493</td>\n",
              "      <td>0.205685</td>\n",
              "      <td>0.116244</td>\n",
              "    </tr>\n",
              "    <tr>\n",
              "      <th>New York</th>\n",
              "      <td>-0.515152</td>\n",
              "      <td>-0.492366</td>\n",
              "      <td>1.000000</td>\n",
              "      <td>0.039068</td>\n",
              "      <td>0.005145</td>\n",
              "      <td>-0.033670</td>\n",
              "      <td>0.031368</td>\n",
              "    </tr>\n",
              "    <tr>\n",
              "      <th>R&amp;D Spend</th>\n",
              "      <td>-0.143165</td>\n",
              "      <td>0.105711</td>\n",
              "      <td>0.039068</td>\n",
              "      <td>1.000000</td>\n",
              "      <td>0.241955</td>\n",
              "      <td>0.724248</td>\n",
              "      <td>0.972900</td>\n",
              "    </tr>\n",
              "    <tr>\n",
              "      <th>Administration</th>\n",
              "      <td>-0.015478</td>\n",
              "      <td>0.010493</td>\n",
              "      <td>0.005145</td>\n",
              "      <td>0.241955</td>\n",
              "      <td>1.000000</td>\n",
              "      <td>-0.032154</td>\n",
              "      <td>0.200717</td>\n",
              "    </tr>\n",
              "    <tr>\n",
              "      <th>Marketing Spend</th>\n",
              "      <td>-0.168875</td>\n",
              "      <td>0.205685</td>\n",
              "      <td>-0.033670</td>\n",
              "      <td>0.724248</td>\n",
              "      <td>-0.032154</td>\n",
              "      <td>1.000000</td>\n",
              "      <td>0.747766</td>\n",
              "    </tr>\n",
              "    <tr>\n",
              "      <th>Profit</th>\n",
              "      <td>-0.145837</td>\n",
              "      <td>0.116244</td>\n",
              "      <td>0.031368</td>\n",
              "      <td>0.972900</td>\n",
              "      <td>0.200717</td>\n",
              "      <td>0.747766</td>\n",
              "      <td>1.000000</td>\n",
              "    </tr>\n",
              "  </tbody>\n",
              "</table>\n",
              "</div>"
            ],
            "text/plain": [
              "                 California   Florida  New York  R&D Spend  Administration   \n",
              "California         1.000000 -0.492366 -0.515152  -0.143165       -0.015478  \\\n",
              "Florida           -0.492366  1.000000 -0.492366   0.105711        0.010493   \n",
              "New York          -0.515152 -0.492366  1.000000   0.039068        0.005145   \n",
              "R&D Spend         -0.143165  0.105711  0.039068   1.000000        0.241955   \n",
              "Administration    -0.015478  0.010493  0.005145   0.241955        1.000000   \n",
              "Marketing Spend   -0.168875  0.205685 -0.033670   0.724248       -0.032154   \n",
              "Profit            -0.145837  0.116244  0.031368   0.972900        0.200717   \n",
              "\n",
              "                 Marketing Spend    Profit  \n",
              "California             -0.168875 -0.145837  \n",
              "Florida                 0.205685  0.116244  \n",
              "New York               -0.033670  0.031368  \n",
              "R&D Spend               0.724248  0.972900  \n",
              "Administration         -0.032154  0.200717  \n",
              "Marketing Spend         1.000000  0.747766  \n",
              "Profit                  0.747766  1.000000  "
            ]
          },
          "execution_count": 11,
          "metadata": {},
          "output_type": "execute_result"
        }
      ],
      "source": [
        "finalData.corr()"
      ]
    },
    {
      "cell_type": "code",
      "execution_count": null,
      "metadata": {
        "id": "rbqRga6_3djm"
      },
      "outputs": [],
      "source": [
        "#Rule By Prashant Nair:\n",
        "# Select those features who have corr val greater than 50% (0.5)\n",
        "\n",
        "# Features Selected: R&d, Mkg\n",
        "# Features Eliminated: California, Florida, NewYork, Admiinistration"
      ]
    },
    {
      "attachments": {},
      "cell_type": "markdown",
      "metadata": {
        "id": "YluyUNGj3djm"
      },
      "source": [
        "# Method 2. Backward Elimination Technique using OLS"
      ]
    },
    {
      "cell_type": "code",
      "execution_count": 12,
      "metadata": {
        "id": "tu0khKQX3djn"
      },
      "outputs": [],
      "source": [
        "#For detailed step check my whiteboard notes\n",
        "# Step1: Perform All in\n",
        "\n",
        "featuresAllIn = np.append(np.ones((50,1)).astype(int) , features, axis = 1 )"
      ]
    },
    {
      "cell_type": "code",
      "execution_count": null,
      "metadata": {
        "id": "56C3X9f93djn"
      },
      "outputs": [],
      "source": [
        "# Step2: Decide the SL\n",
        "# SL = 0.05"
      ]
    },
    {
      "cell_type": "code",
      "execution_count": 13,
      "metadata": {
        "id": "L3cAOdfk3djn",
        "outputId": "a8f6f212-d929-41ba-80b2-d1865e14c05b"
      },
      "outputs": [
        {
          "data": {
            "text/html": [
              "<table class=\"simpletable\">\n",
              "<caption>OLS Regression Results</caption>\n",
              "<tr>\n",
              "  <th>Dep. Variable:</th>            <td>y</td>        <th>  R-squared:         </th> <td>   0.951</td>\n",
              "</tr>\n",
              "<tr>\n",
              "  <th>Model:</th>                   <td>OLS</td>       <th>  Adj. R-squared:    </th> <td>   0.945</td>\n",
              "</tr>\n",
              "<tr>\n",
              "  <th>Method:</th>             <td>Least Squares</td>  <th>  F-statistic:       </th> <td>   169.9</td>\n",
              "</tr>\n",
              "<tr>\n",
              "  <th>Date:</th>             <td>Tue, 25 Jul 2023</td> <th>  Prob (F-statistic):</th> <td>1.34e-27</td>\n",
              "</tr>\n",
              "<tr>\n",
              "  <th>Time:</th>                 <td>12:49:52</td>     <th>  Log-Likelihood:    </th> <td> -525.38</td>\n",
              "</tr>\n",
              "<tr>\n",
              "  <th>No. Observations:</th>      <td>    50</td>      <th>  AIC:               </th> <td>   1063.</td>\n",
              "</tr>\n",
              "<tr>\n",
              "  <th>Df Residuals:</th>          <td>    44</td>      <th>  BIC:               </th> <td>   1074.</td>\n",
              "</tr>\n",
              "<tr>\n",
              "  <th>Df Model:</th>              <td>     5</td>      <th>                     </th>     <td> </td>   \n",
              "</tr>\n",
              "<tr>\n",
              "  <th>Covariance Type:</th>      <td>nonrobust</td>    <th>                     </th>     <td> </td>   \n",
              "</tr>\n",
              "</table>\n",
              "<table class=\"simpletable\">\n",
              "<tr>\n",
              "    <td></td>       <th>coef</th>     <th>std err</th>      <th>t</th>      <th>P>|t|</th>  <th>[0.025</th>    <th>0.975]</th>  \n",
              "</tr>\n",
              "<tr>\n",
              "  <th>const</th> <td> 3.763e+04</td> <td> 5073.636</td> <td>    7.417</td> <td> 0.000</td> <td> 2.74e+04</td> <td> 4.79e+04</td>\n",
              "</tr>\n",
              "<tr>\n",
              "  <th>x1</th>    <td> 1.249e+04</td> <td> 2449.797</td> <td>    5.099</td> <td> 0.000</td> <td> 7554.868</td> <td> 1.74e+04</td>\n",
              "</tr>\n",
              "<tr>\n",
              "  <th>x2</th>    <td> 1.269e+04</td> <td> 2726.700</td> <td>    4.654</td> <td> 0.000</td> <td> 7195.596</td> <td> 1.82e+04</td>\n",
              "</tr>\n",
              "<tr>\n",
              "  <th>x3</th>    <td> 1.245e+04</td> <td> 2486.364</td> <td>    5.007</td> <td> 0.000</td> <td> 7439.285</td> <td> 1.75e+04</td>\n",
              "</tr>\n",
              "<tr>\n",
              "  <th>x4</th>    <td>    0.8060</td> <td>    0.046</td> <td>   17.369</td> <td> 0.000</td> <td>    0.712</td> <td>    0.900</td>\n",
              "</tr>\n",
              "<tr>\n",
              "  <th>x5</th>    <td>   -0.0270</td> <td>    0.052</td> <td>   -0.517</td> <td> 0.608</td> <td>   -0.132</td> <td>    0.078</td>\n",
              "</tr>\n",
              "<tr>\n",
              "  <th>x6</th>    <td>    0.0270</td> <td>    0.017</td> <td>    1.574</td> <td> 0.123</td> <td>   -0.008</td> <td>    0.062</td>\n",
              "</tr>\n",
              "</table>\n",
              "<table class=\"simpletable\">\n",
              "<tr>\n",
              "  <th>Omnibus:</th>       <td>14.782</td> <th>  Durbin-Watson:     </th> <td>   1.283</td>\n",
              "</tr>\n",
              "<tr>\n",
              "  <th>Prob(Omnibus):</th> <td> 0.001</td> <th>  Jarque-Bera (JB):  </th> <td>  21.266</td>\n",
              "</tr>\n",
              "<tr>\n",
              "  <th>Skew:</th>          <td>-0.948</td> <th>  Prob(JB):          </th> <td>2.41e-05</td>\n",
              "</tr>\n",
              "<tr>\n",
              "  <th>Kurtosis:</th>      <td> 5.572</td> <th>  Cond. No.          </th> <td>1.72e+17</td>\n",
              "</tr>\n",
              "</table><br/><br/>Notes:<br/>[1] Standard Errors assume that the covariance matrix of the errors is correctly specified.<br/>[2] The smallest eigenvalue is 1.31e-22. This might indicate that there are<br/>strong multicollinearity problems or that the design matrix is singular."
            ],
            "text/latex": [
              "\\begin{center}\n",
              "\\begin{tabular}{lclc}\n",
              "\\toprule\n",
              "\\textbf{Dep. Variable:}    &        y         & \\textbf{  R-squared:         } &     0.951   \\\\\n",
              "\\textbf{Model:}            &       OLS        & \\textbf{  Adj. R-squared:    } &     0.945   \\\\\n",
              "\\textbf{Method:}           &  Least Squares   & \\textbf{  F-statistic:       } &     169.9   \\\\\n",
              "\\textbf{Date:}             & Tue, 25 Jul 2023 & \\textbf{  Prob (F-statistic):} &  1.34e-27   \\\\\n",
              "\\textbf{Time:}             &     12:49:52     & \\textbf{  Log-Likelihood:    } &   -525.38   \\\\\n",
              "\\textbf{No. Observations:} &          50      & \\textbf{  AIC:               } &     1063.   \\\\\n",
              "\\textbf{Df Residuals:}     &          44      & \\textbf{  BIC:               } &     1074.   \\\\\n",
              "\\textbf{Df Model:}         &           5      & \\textbf{                     } &             \\\\\n",
              "\\textbf{Covariance Type:}  &    nonrobust     & \\textbf{                     } &             \\\\\n",
              "\\bottomrule\n",
              "\\end{tabular}\n",
              "\\begin{tabular}{lcccccc}\n",
              "               & \\textbf{coef} & \\textbf{std err} & \\textbf{t} & \\textbf{P$> |$t$|$} & \\textbf{[0.025} & \\textbf{0.975]}  \\\\\n",
              "\\midrule\n",
              "\\textbf{const} &    3.763e+04  &     5073.636     &     7.417  &         0.000        &     2.74e+04    &     4.79e+04     \\\\\n",
              "\\textbf{x1}    &    1.249e+04  &     2449.797     &     5.099  &         0.000        &     7554.868    &     1.74e+04     \\\\\n",
              "\\textbf{x2}    &    1.269e+04  &     2726.700     &     4.654  &         0.000        &     7195.596    &     1.82e+04     \\\\\n",
              "\\textbf{x3}    &    1.245e+04  &     2486.364     &     5.007  &         0.000        &     7439.285    &     1.75e+04     \\\\\n",
              "\\textbf{x4}    &       0.8060  &        0.046     &    17.369  &         0.000        &        0.712    &        0.900     \\\\\n",
              "\\textbf{x5}    &      -0.0270  &        0.052     &    -0.517  &         0.608        &       -0.132    &        0.078     \\\\\n",
              "\\textbf{x6}    &       0.0270  &        0.017     &     1.574  &         0.123        &       -0.008    &        0.062     \\\\\n",
              "\\bottomrule\n",
              "\\end{tabular}\n",
              "\\begin{tabular}{lclc}\n",
              "\\textbf{Omnibus:}       & 14.782 & \\textbf{  Durbin-Watson:     } &    1.283  \\\\\n",
              "\\textbf{Prob(Omnibus):} &  0.001 & \\textbf{  Jarque-Bera (JB):  } &   21.266  \\\\\n",
              "\\textbf{Skew:}          & -0.948 & \\textbf{  Prob(JB):          } & 2.41e-05  \\\\\n",
              "\\textbf{Kurtosis:}      &  5.572 & \\textbf{  Cond. No.          } & 1.72e+17  \\\\\n",
              "\\bottomrule\n",
              "\\end{tabular}\n",
              "%\\caption{OLS Regression Results}\n",
              "\\end{center}\n",
              "\n",
              "Notes: \\newline\n",
              " [1] Standard Errors assume that the covariance matrix of the errors is correctly specified. \\newline\n",
              " [2] The smallest eigenvalue is 1.31e-22. This might indicate that there are \\newline\n",
              " strong multicollinearity problems or that the design matrix is singular."
            ],
            "text/plain": [
              "<class 'statsmodels.iolib.summary.Summary'>\n",
              "\"\"\"\n",
              "                            OLS Regression Results                            \n",
              "==============================================================================\n",
              "Dep. Variable:                      y   R-squared:                       0.951\n",
              "Model:                            OLS   Adj. R-squared:                  0.945\n",
              "Method:                 Least Squares   F-statistic:                     169.9\n",
              "Date:                Tue, 25 Jul 2023   Prob (F-statistic):           1.34e-27\n",
              "Time:                        12:49:52   Log-Likelihood:                -525.38\n",
              "No. Observations:                  50   AIC:                             1063.\n",
              "Df Residuals:                      44   BIC:                             1074.\n",
              "Df Model:                           5                                         \n",
              "Covariance Type:            nonrobust                                         \n",
              "==============================================================================\n",
              "                 coef    std err          t      P>|t|      [0.025      0.975]\n",
              "------------------------------------------------------------------------------\n",
              "const       3.763e+04   5073.636      7.417      0.000    2.74e+04    4.79e+04\n",
              "x1          1.249e+04   2449.797      5.099      0.000    7554.868    1.74e+04\n",
              "x2          1.269e+04   2726.700      4.654      0.000    7195.596    1.82e+04\n",
              "x3          1.245e+04   2486.364      5.007      0.000    7439.285    1.75e+04\n",
              "x4             0.8060      0.046     17.369      0.000       0.712       0.900\n",
              "x5            -0.0270      0.052     -0.517      0.608      -0.132       0.078\n",
              "x6             0.0270      0.017      1.574      0.123      -0.008       0.062\n",
              "==============================================================================\n",
              "Omnibus:                       14.782   Durbin-Watson:                   1.283\n",
              "Prob(Omnibus):                  0.001   Jarque-Bera (JB):               21.266\n",
              "Skew:                          -0.948   Prob(JB):                     2.41e-05\n",
              "Kurtosis:                       5.572   Cond. No.                     1.72e+17\n",
              "==============================================================================\n",
              "\n",
              "Notes:\n",
              "[1] Standard Errors assume that the covariance matrix of the errors is correctly specified.\n",
              "[2] The smallest eigenvalue is 1.31e-22. This might indicate that there are\n",
              "strong multicollinearity problems or that the design matrix is singular.\n",
              "\"\"\""
            ]
          },
          "execution_count": 13,
          "metadata": {},
          "output_type": "execute_result"
        }
      ],
      "source": [
        "#Step3: Perform OLS\n",
        "\n",
        "import statsmodels.regression.linear_model as stat\n",
        "\n",
        "# endog --- label column --- label numpy array\n",
        "# exog ---- Iteration1: All In feature column, Iteration X: New Feature Column\n",
        "# (OLS(endog,exog))\n",
        "\n",
        "#?stat.OLS\n",
        "\n",
        "\n",
        "#Iteration 1:\n",
        "\n",
        "model = stat.OLS(endog=label, exog=featuresAllIn).fit()\n",
        "model.summary()"
      ]
    },
    {
      "cell_type": "code",
      "execution_count": null,
      "metadata": {
        "id": "SnUZ75-Z3djo"
      },
      "outputs": [],
      "source": [
        "# Step4:\n",
        "\n",
        "# Const --- Intercept Feature\n",
        "# x1    --- California\n",
        "# x2.   --- Florida\n",
        "# x3    --- NY\n",
        "# x4    --- R&D\n",
        "# x5.   --- Adm\n",
        "# x6.   --- Markg\n",
        "\n",
        "# We select Admin = 0.608"
      ]
    },
    {
      "cell_type": "code",
      "execution_count": 14,
      "metadata": {
        "id": "EqxWi8YV3djo"
      },
      "outputs": [],
      "source": [
        "# Step5: Since Admin Pvalue > SL(0.05)\n",
        "# Therefore, eliminate Admin\n",
        "\n",
        "newFeatureCol = featuresAllIn[:,[0,1,2,3,4,6]]"
      ]
    },
    {
      "cell_type": "code",
      "execution_count": 15,
      "metadata": {
        "id": "toxVkydk3djo",
        "outputId": "f6615f51-85b3-4ff7-90b3-090c111c9891"
      },
      "outputs": [
        {
          "data": {
            "text/html": [
              "<table class=\"simpletable\">\n",
              "<caption>OLS Regression Results</caption>\n",
              "<tr>\n",
              "  <th>Dep. Variable:</th>            <td>y</td>        <th>  R-squared:         </th> <td>   0.950</td>\n",
              "</tr>\n",
              "<tr>\n",
              "  <th>Model:</th>                   <td>OLS</td>       <th>  Adj. R-squared:    </th> <td>   0.946</td>\n",
              "</tr>\n",
              "<tr>\n",
              "  <th>Method:</th>             <td>Least Squares</td>  <th>  F-statistic:       </th> <td>   215.8</td>\n",
              "</tr>\n",
              "<tr>\n",
              "  <th>Date:</th>             <td>Tue, 25 Jul 2023</td> <th>  Prob (F-statistic):</th> <td>9.72e-29</td>\n",
              "</tr>\n",
              "<tr>\n",
              "  <th>Time:</th>                 <td>12:50:02</td>     <th>  Log-Likelihood:    </th> <td> -525.53</td>\n",
              "</tr>\n",
              "<tr>\n",
              "  <th>No. Observations:</th>      <td>    50</td>      <th>  AIC:               </th> <td>   1061.</td>\n",
              "</tr>\n",
              "<tr>\n",
              "  <th>Df Residuals:</th>          <td>    45</td>      <th>  BIC:               </th> <td>   1071.</td>\n",
              "</tr>\n",
              "<tr>\n",
              "  <th>Df Model:</th>              <td>     4</td>      <th>                     </th>     <td> </td>   \n",
              "</tr>\n",
              "<tr>\n",
              "  <th>Covariance Type:</th>      <td>nonrobust</td>    <th>                     </th>     <td> </td>   \n",
              "</tr>\n",
              "</table>\n",
              "<table class=\"simpletable\">\n",
              "<tr>\n",
              "    <td></td>       <th>coef</th>     <th>std err</th>      <th>t</th>      <th>P>|t|</th>  <th>[0.025</th>    <th>0.975]</th>  \n",
              "</tr>\n",
              "<tr>\n",
              "  <th>const</th> <td> 3.525e+04</td> <td> 2100.376</td> <td>   16.782</td> <td> 0.000</td> <td>  3.1e+04</td> <td> 3.95e+04</td>\n",
              "</tr>\n",
              "<tr>\n",
              "  <th>x1</th>    <td> 1.171e+04</td> <td> 1910.312</td> <td>    6.130</td> <td> 0.000</td> <td> 7861.854</td> <td> 1.56e+04</td>\n",
              "</tr>\n",
              "<tr>\n",
              "  <th>x2</th>    <td> 1.185e+04</td> <td> 2170.903</td> <td>    5.459</td> <td> 0.000</td> <td> 7477.785</td> <td> 1.62e+04</td>\n",
              "</tr>\n",
              "<tr>\n",
              "  <th>x3</th>    <td> 1.169e+04</td> <td> 1988.428</td> <td>    5.879</td> <td> 0.000</td> <td> 7684.996</td> <td> 1.57e+04</td>\n",
              "</tr>\n",
              "<tr>\n",
              "  <th>x4</th>    <td>    0.7967</td> <td>    0.042</td> <td>   18.771</td> <td> 0.000</td> <td>    0.711</td> <td>    0.882</td>\n",
              "</tr>\n",
              "<tr>\n",
              "  <th>x5</th>    <td>    0.0298</td> <td>    0.016</td> <td>    1.842</td> <td> 0.072</td> <td>   -0.003</td> <td>    0.062</td>\n",
              "</tr>\n",
              "</table>\n",
              "<table class=\"simpletable\">\n",
              "<tr>\n",
              "  <th>Omnibus:</th>       <td>14.640</td> <th>  Durbin-Watson:     </th> <td>   1.257</td>\n",
              "</tr>\n",
              "<tr>\n",
              "  <th>Prob(Omnibus):</th> <td> 0.001</td> <th>  Jarque-Bera (JB):  </th> <td>  21.037</td>\n",
              "</tr>\n",
              "<tr>\n",
              "  <th>Skew:</th>          <td>-0.938</td> <th>  Prob(JB):          </th> <td>2.70e-05</td>\n",
              "</tr>\n",
              "<tr>\n",
              "  <th>Kurtosis:</th>      <td> 5.565</td> <th>  Cond. No.          </th> <td>5.05e+17</td>\n",
              "</tr>\n",
              "</table><br/><br/>Notes:<br/>[1] Standard Errors assume that the covariance matrix of the errors is correctly specified.<br/>[2] The smallest eigenvalue is 1.29e-23. This might indicate that there are<br/>strong multicollinearity problems or that the design matrix is singular."
            ],
            "text/latex": [
              "\\begin{center}\n",
              "\\begin{tabular}{lclc}\n",
              "\\toprule\n",
              "\\textbf{Dep. Variable:}    &        y         & \\textbf{  R-squared:         } &     0.950   \\\\\n",
              "\\textbf{Model:}            &       OLS        & \\textbf{  Adj. R-squared:    } &     0.946   \\\\\n",
              "\\textbf{Method:}           &  Least Squares   & \\textbf{  F-statistic:       } &     215.8   \\\\\n",
              "\\textbf{Date:}             & Tue, 25 Jul 2023 & \\textbf{  Prob (F-statistic):} &  9.72e-29   \\\\\n",
              "\\textbf{Time:}             &     12:50:02     & \\textbf{  Log-Likelihood:    } &   -525.53   \\\\\n",
              "\\textbf{No. Observations:} &          50      & \\textbf{  AIC:               } &     1061.   \\\\\n",
              "\\textbf{Df Residuals:}     &          45      & \\textbf{  BIC:               } &     1071.   \\\\\n",
              "\\textbf{Df Model:}         &           4      & \\textbf{                     } &             \\\\\n",
              "\\textbf{Covariance Type:}  &    nonrobust     & \\textbf{                     } &             \\\\\n",
              "\\bottomrule\n",
              "\\end{tabular}\n",
              "\\begin{tabular}{lcccccc}\n",
              "               & \\textbf{coef} & \\textbf{std err} & \\textbf{t} & \\textbf{P$> |$t$|$} & \\textbf{[0.025} & \\textbf{0.975]}  \\\\\n",
              "\\midrule\n",
              "\\textbf{const} &    3.525e+04  &     2100.376     &    16.782  &         0.000        &      3.1e+04    &     3.95e+04     \\\\\n",
              "\\textbf{x1}    &    1.171e+04  &     1910.312     &     6.130  &         0.000        &     7861.854    &     1.56e+04     \\\\\n",
              "\\textbf{x2}    &    1.185e+04  &     2170.903     &     5.459  &         0.000        &     7477.785    &     1.62e+04     \\\\\n",
              "\\textbf{x3}    &    1.169e+04  &     1988.428     &     5.879  &         0.000        &     7684.996    &     1.57e+04     \\\\\n",
              "\\textbf{x4}    &       0.7967  &        0.042     &    18.771  &         0.000        &        0.711    &        0.882     \\\\\n",
              "\\textbf{x5}    &       0.0298  &        0.016     &     1.842  &         0.072        &       -0.003    &        0.062     \\\\\n",
              "\\bottomrule\n",
              "\\end{tabular}\n",
              "\\begin{tabular}{lclc}\n",
              "\\textbf{Omnibus:}       & 14.640 & \\textbf{  Durbin-Watson:     } &    1.257  \\\\\n",
              "\\textbf{Prob(Omnibus):} &  0.001 & \\textbf{  Jarque-Bera (JB):  } &   21.037  \\\\\n",
              "\\textbf{Skew:}          & -0.938 & \\textbf{  Prob(JB):          } & 2.70e-05  \\\\\n",
              "\\textbf{Kurtosis:}      &  5.565 & \\textbf{  Cond. No.          } & 5.05e+17  \\\\\n",
              "\\bottomrule\n",
              "\\end{tabular}\n",
              "%\\caption{OLS Regression Results}\n",
              "\\end{center}\n",
              "\n",
              "Notes: \\newline\n",
              " [1] Standard Errors assume that the covariance matrix of the errors is correctly specified. \\newline\n",
              " [2] The smallest eigenvalue is 1.29e-23. This might indicate that there are \\newline\n",
              " strong multicollinearity problems or that the design matrix is singular."
            ],
            "text/plain": [
              "<class 'statsmodels.iolib.summary.Summary'>\n",
              "\"\"\"\n",
              "                            OLS Regression Results                            \n",
              "==============================================================================\n",
              "Dep. Variable:                      y   R-squared:                       0.950\n",
              "Model:                            OLS   Adj. R-squared:                  0.946\n",
              "Method:                 Least Squares   F-statistic:                     215.8\n",
              "Date:                Tue, 25 Jul 2023   Prob (F-statistic):           9.72e-29\n",
              "Time:                        12:50:02   Log-Likelihood:                -525.53\n",
              "No. Observations:                  50   AIC:                             1061.\n",
              "Df Residuals:                      45   BIC:                             1071.\n",
              "Df Model:                           4                                         \n",
              "Covariance Type:            nonrobust                                         \n",
              "==============================================================================\n",
              "                 coef    std err          t      P>|t|      [0.025      0.975]\n",
              "------------------------------------------------------------------------------\n",
              "const       3.525e+04   2100.376     16.782      0.000     3.1e+04    3.95e+04\n",
              "x1          1.171e+04   1910.312      6.130      0.000    7861.854    1.56e+04\n",
              "x2          1.185e+04   2170.903      5.459      0.000    7477.785    1.62e+04\n",
              "x3          1.169e+04   1988.428      5.879      0.000    7684.996    1.57e+04\n",
              "x4             0.7967      0.042     18.771      0.000       0.711       0.882\n",
              "x5             0.0298      0.016      1.842      0.072      -0.003       0.062\n",
              "==============================================================================\n",
              "Omnibus:                       14.640   Durbin-Watson:                   1.257\n",
              "Prob(Omnibus):                  0.001   Jarque-Bera (JB):               21.037\n",
              "Skew:                          -0.938   Prob(JB):                     2.70e-05\n",
              "Kurtosis:                       5.565   Cond. No.                     5.05e+17\n",
              "==============================================================================\n",
              "\n",
              "Notes:\n",
              "[1] Standard Errors assume that the covariance matrix of the errors is correctly specified.\n",
              "[2] The smallest eigenvalue is 1.29e-23. This might indicate that there are\n",
              "strong multicollinearity problems or that the design matrix is singular.\n",
              "\"\"\""
            ]
          },
          "execution_count": 15,
          "metadata": {},
          "output_type": "execute_result"
        }
      ],
      "source": [
        "#Step3: Perform OLS\n",
        "\n",
        "import statsmodels.regression.linear_model as stat\n",
        "\n",
        "# endog --- label column --- label numpy array\n",
        "# exog ---- Iteration1: All In feature column, Iteration X: New Feature Column\n",
        "# (OLS(endog,exog))\n",
        "\n",
        "#?stat.OLS\n",
        "\n",
        "\n",
        "#Iteration 2:\n",
        "\n",
        "model = stat.OLS(endog=label, exog=newFeatureCol).fit()\n",
        "model.summary()"
      ]
    },
    {
      "cell_type": "code",
      "execution_count": null,
      "metadata": {
        "id": "P7LEF7X03djp"
      },
      "outputs": [],
      "source": [
        "# Step4:\n",
        "\n",
        "# Const --- Intercept Feature\n",
        "# x1    --- California\n",
        "# x2.   --- Florida\n",
        "# x3    --- NY\n",
        "# x4    --- R&D\n",
        "# x5.   --- Markg\n",
        "\n",
        "# We select Markg = 0.072"
      ]
    },
    {
      "cell_type": "code",
      "execution_count": null,
      "metadata": {
        "id": "TADYiYOi3djp"
      },
      "outputs": [],
      "source": [
        "# Step5: Since Markg Pvalue > SL(0.05)\n",
        "# Therefore, eliminate Markg\n",
        "\n",
        "newFeatureCol1 = featuresAllIn[:,[0,1,2,3,4]]"
      ]
    },
    {
      "cell_type": "code",
      "execution_count": null,
      "metadata": {
        "id": "VKPtroCP3djp",
        "outputId": "9238d279-a5b9-447a-f1e1-ac3f81e6a8dd"
      },
      "outputs": [
        {
          "data": {
            "text/html": [
              "<table class=\"simpletable\">\n",
              "<caption>OLS Regression Results</caption>\n",
              "<tr>\n",
              "  <th>Dep. Variable:</th>            <td>y</td>        <th>  R-squared:         </th> <td>   0.947</td>\n",
              "</tr>\n",
              "<tr>\n",
              "  <th>Model:</th>                   <td>OLS</td>       <th>  Adj. R-squared:    </th> <td>   0.943</td>\n",
              "</tr>\n",
              "<tr>\n",
              "  <th>Method:</th>             <td>Least Squares</td>  <th>  F-statistic:       </th> <td>   272.4</td>\n",
              "</tr>\n",
              "<tr>\n",
              "  <th>Date:</th>             <td>Sat, 30 May 2020</td> <th>  Prob (F-statistic):</th> <td>2.76e-29</td>\n",
              "</tr>\n",
              "<tr>\n",
              "  <th>Time:</th>                 <td>16:10:00</td>     <th>  Log-Likelihood:    </th> <td> -527.35</td>\n",
              "</tr>\n",
              "<tr>\n",
              "  <th>No. Observations:</th>      <td>    50</td>      <th>  AIC:               </th> <td>   1063.</td>\n",
              "</tr>\n",
              "<tr>\n",
              "  <th>Df Residuals:</th>          <td>    46</td>      <th>  BIC:               </th> <td>   1070.</td>\n",
              "</tr>\n",
              "<tr>\n",
              "  <th>Df Model:</th>              <td>     3</td>      <th>                     </th>     <td> </td>   \n",
              "</tr>\n",
              "<tr>\n",
              "  <th>Covariance Type:</th>      <td>nonrobust</td>    <th>                     </th>     <td> </td>   \n",
              "</tr>\n",
              "</table>\n",
              "<table class=\"simpletable\">\n",
              "<tr>\n",
              "    <td></td>       <th>coef</th>     <th>std err</th>      <th>t</th>      <th>P>|t|</th>  <th>[0.025</th>    <th>0.975]</th>  \n",
              "</tr>\n",
              "<tr>\n",
              "  <th>const</th> <td> 3.686e+04</td> <td> 1959.786</td> <td>   18.806</td> <td> 0.000</td> <td> 3.29e+04</td> <td> 4.08e+04</td>\n",
              "</tr>\n",
              "<tr>\n",
              "  <th>x1</th>    <td> 1.189e+04</td> <td> 1956.677</td> <td>    6.079</td> <td> 0.000</td> <td> 7955.697</td> <td> 1.58e+04</td>\n",
              "</tr>\n",
              "<tr>\n",
              "  <th>x2</th>    <td> 1.306e+04</td> <td> 2122.665</td> <td>    6.152</td> <td> 0.000</td> <td> 8785.448</td> <td> 1.73e+04</td>\n",
              "</tr>\n",
              "<tr>\n",
              "  <th>x3</th>    <td>  1.19e+04</td> <td> 2036.022</td> <td>    5.847</td> <td> 0.000</td> <td> 7805.580</td> <td>  1.6e+04</td>\n",
              "</tr>\n",
              "<tr>\n",
              "  <th>x4</th>    <td>    0.8530</td> <td>    0.030</td> <td>   28.226</td> <td> 0.000</td> <td>    0.792</td> <td>    0.914</td>\n",
              "</tr>\n",
              "</table>\n",
              "<table class=\"simpletable\">\n",
              "<tr>\n",
              "  <th>Omnibus:</th>       <td>13.418</td> <th>  Durbin-Watson:     </th> <td>   1.122</td>\n",
              "</tr>\n",
              "<tr>\n",
              "  <th>Prob(Omnibus):</th> <td> 0.001</td> <th>  Jarque-Bera (JB):  </th> <td>  17.605</td>\n",
              "</tr>\n",
              "<tr>\n",
              "  <th>Skew:</th>          <td>-0.907</td> <th>  Prob(JB):          </th> <td>0.000150</td>\n",
              "</tr>\n",
              "<tr>\n",
              "  <th>Kurtosis:</th>      <td> 5.271</td> <th>  Cond. No.          </th> <td>3.70e+17</td>\n",
              "</tr>\n",
              "</table><br/><br/>Warnings:<br/>[1] Standard Errors assume that the covariance matrix of the errors is correctly specified.<br/>[2] The smallest eigenvalue is 2.74e-24. This might indicate that there are<br/>strong multicollinearity problems or that the design matrix is singular."
            ],
            "text/plain": [
              "<class 'statsmodels.iolib.summary.Summary'>\n",
              "\"\"\"\n",
              "                            OLS Regression Results                            \n",
              "==============================================================================\n",
              "Dep. Variable:                      y   R-squared:                       0.947\n",
              "Model:                            OLS   Adj. R-squared:                  0.943\n",
              "Method:                 Least Squares   F-statistic:                     272.4\n",
              "Date:                Sat, 30 May 2020   Prob (F-statistic):           2.76e-29\n",
              "Time:                        16:10:00   Log-Likelihood:                -527.35\n",
              "No. Observations:                  50   AIC:                             1063.\n",
              "Df Residuals:                      46   BIC:                             1070.\n",
              "Df Model:                           3                                         \n",
              "Covariance Type:            nonrobust                                         \n",
              "==============================================================================\n",
              "                 coef    std err          t      P>|t|      [0.025      0.975]\n",
              "------------------------------------------------------------------------------\n",
              "const       3.686e+04   1959.786     18.806      0.000    3.29e+04    4.08e+04\n",
              "x1          1.189e+04   1956.677      6.079      0.000    7955.697    1.58e+04\n",
              "x2          1.306e+04   2122.665      6.152      0.000    8785.448    1.73e+04\n",
              "x3           1.19e+04   2036.022      5.847      0.000    7805.580     1.6e+04\n",
              "x4             0.8530      0.030     28.226      0.000       0.792       0.914\n",
              "==============================================================================\n",
              "Omnibus:                       13.418   Durbin-Watson:                   1.122\n",
              "Prob(Omnibus):                  0.001   Jarque-Bera (JB):               17.605\n",
              "Skew:                          -0.907   Prob(JB):                     0.000150\n",
              "Kurtosis:                       5.271   Cond. No.                     3.70e+17\n",
              "==============================================================================\n",
              "\n",
              "Warnings:\n",
              "[1] Standard Errors assume that the covariance matrix of the errors is correctly specified.\n",
              "[2] The smallest eigenvalue is 2.74e-24. This might indicate that there are\n",
              "strong multicollinearity problems or that the design matrix is singular.\n",
              "\"\"\""
            ]
          },
          "execution_count": 27,
          "metadata": {},
          "output_type": "execute_result"
        }
      ],
      "source": [
        "#Step3: Perform OLS\n",
        "\n",
        "import statsmodels.regression.linear_model as stat\n",
        "\n",
        "# endog --- label column --- label numpy array\n",
        "# exog ---- Iteration1: All In feature column, Iteration X: New Feature Column\n",
        "# (OLS(endog,exog))\n",
        "\n",
        "#?stat.OLS\n",
        "\n",
        "\n",
        "#Iteration 3:\n",
        "\n",
        "model = stat.OLS(endog=label, exog=newFeatureCol1).fit()\n",
        "model.summary()"
      ]
    },
    {
      "cell_type": "code",
      "execution_count": null,
      "metadata": {
        "id": "fsunMDjq3djq"
      },
      "outputs": [],
      "source": [
        "#Step7:\n",
        "\n",
        "featuresFinal = newFeatureCol1\n"
      ]
    },
    {
      "cell_type": "code",
      "execution_count": null,
      "metadata": {
        "id": "-jz-EiQN3djq"
      },
      "outputs": [],
      "source": [
        "#The above will become input to your modelling algo!!!"
      ]
    },
    {
      "attachments": {},
      "cell_type": "markdown",
      "metadata": {
        "id": "9aMGyvIo3djq"
      },
      "source": [
        "# Method 3: RFE (Recursive Feature Elimination ) Technique"
      ]
    },
    {
      "cell_type": "code",
      "execution_count": null,
      "metadata": {
        "id": "YP7QHCje3djq"
      },
      "outputs": [],
      "source": [
        "# RFE can be applied only on some algorithms\n",
        "#\n",
        "# Regression: (Algorithm must have coeff variable output)\n",
        "# 1. LinearRegression\n",
        "# 2. SupportVectorRegression\n",
        "# 3. DecisionTreeRegressor\n",
        "# 4. RandomForestRegressor\n",
        "\n",
        "# Classification: (Algorithm must have feature importance variable)\n",
        "# 1. DecisionTreeClassifier\n",
        "# 2. RandomForestClassifier"
      ]
    },
    {
      "cell_type": "code",
      "execution_count": null,
      "metadata": {
        "id": "KR8MmOqV3djr"
      },
      "outputs": [],
      "source": [
        "# Steps to apply RFE\n",
        "# 1. Initialize the model algorithm\n",
        "# 2. Apply RFE to model (ALL FEATURES AND LABEL)\n",
        "# 3. Get Features with High Ranking (1,2,3,4,...) (Get features that has Rank 1. Sometimes Rank 2 is considered)"
      ]
    },
    {
      "cell_type": "code",
      "execution_count": null,
      "metadata": {
        "id": "H0phjPc63djr",
        "outputId": "f7bd4e64-8b7c-4cc4-eb36-21a626f8b9ba"
      },
      "outputs": [
        {
          "name": "stdout",
          "output_type": "stream",
          "text": [
            "[1 1 1 2 3 4]\n"
          ]
        },
        {
          "name": "stderr",
          "output_type": "stream",
          "text": [
            "/opt/anaconda3/lib/python3.7/site-packages/sklearn/utils/validation.py:760: DataConversionWarning: A column-vector y was passed when a 1d array was expected. Please change the shape of y to (n_samples, ), for example using ravel().\n",
            "  y = column_or_1d(y, warn=True)\n"
          ]
        }
      ],
      "source": [
        "# 1. Initialize the model algorithm\n",
        "from sklearn.linear_model import LinearRegression\n",
        "modelLR = LinearRegression()\n",
        "\n",
        "# 2. Apply RFE to model (ALL FEATURES AND LABEL)\n",
        "from sklearn.feature_selection import RFE\n",
        "selectFeaturesFromRFE = RFE(estimator=modelLR,\n",
        "                           step=1) #Suggested Step by Prashant Nair\n",
        "\n",
        "# Fit the data with RFE\n",
        "selectFeaturesFromRFE.fit(features,label)\n",
        "\n",
        "# 3. Get Features with High Ranking (1,2,3,4,...) (Get features that has Rank 1. Sometimes Rank 2 is considered)\n",
        "# California,Florida,NY,R&D,Adm,Markg\n",
        "print(selectFeaturesFromRFE.ranking_)"
      ]
    },
    {
      "cell_type": "code",
      "execution_count": null,
      "metadata": {
        "id": "tgyfoaa_3djr"
      },
      "outputs": [],
      "source": [
        "#Observation: State and R&D is shortlisted for Model Building"
      ]
    },
    {
      "attachments": {},
      "cell_type": "markdown",
      "metadata": {
        "id": "X8Vgc6wI3djs"
      },
      "source": [
        "# Method 4: Select By Model"
      ]
    },
    {
      "cell_type": "code",
      "execution_count": null,
      "metadata": {
        "id": "Fsq4ugvR3djs"
      },
      "outputs": [],
      "source": [
        "# Steps to apply SBM (All Model algo will work)\n",
        "# 1. Initialize the model algorithm\n",
        "# 2. Apply RFE to model (ALL FEATURES AND LABEL)\n",
        "# 3. Get Features with High Support (True/False) "
      ]
    },
    {
      "cell_type": "code",
      "execution_count": null,
      "metadata": {
        "id": "UKdN8VV43djs",
        "outputId": "095ea6d0-eda6-4672-f120-3cd2015abb17"
      },
      "outputs": [
        {
          "name": "stdout",
          "output_type": "stream",
          "text": [
            "[ True  True  True False False False]\n"
          ]
        }
      ],
      "source": [
        "# 1. Initialize the model algorithm\n",
        "from sklearn.linear_model import LinearRegression\n",
        "modelLR = LinearRegression()\n",
        "\n",
        "# 2. Apply SBM to model (ALL FEATURES AND LABEL)\n",
        "from sklearn.feature_selection import SelectFromModel\n",
        "selectFeaturesFromSBM = SelectFromModel(modelLR) #Suggested Step by Prashant Nair\n",
        "\n",
        "# Fit the data with SBM\n",
        "selectFeaturesFromSBM.fit(features,label)\n",
        "\n",
        "# 3. Get Features with True i.e. That has positive support (1,2,3,4,...) \n",
        "# California,Florida,NY,R&D,Adm,Markg\n",
        "print(selectFeaturesFromSBM.get_support())"
      ]
    },
    {
      "cell_type": "code",
      "execution_count": null,
      "metadata": {
        "id": "kR7dPhLC3djs"
      },
      "outputs": [],
      "source": [
        "#Observation: Select California,Floriada and NY as finalFeatures"
      ]
    },
    {
      "attachments": {},
      "cell_type": "markdown",
      "metadata": {
        "id": "9b7_xiu33djs"
      },
      "source": [
        "# Apply Outputs of Feature Engineering"
      ]
    },
    {
      "cell_type": "code",
      "execution_count": null,
      "metadata": {
        "id": "mdlh55Px3djt"
      },
      "outputs": [],
      "source": [
        "\n",
        "featureCorrAnalysis = features[:,[3,5]]\n",
        "featureBackwardEliminationOLS = features[:,[0,1,2,3]]\n",
        "featureRFERank1n2= features[:,[0,1,2,3]]\n",
        "featureRFERank1Only = features[:,[0,1,2]]\n",
        "featureSBMTrueOnly = features[:,[0,1,2]]"
      ]
    },
    {
      "cell_type": "code",
      "execution_count": null,
      "metadata": {
        "id": "z2yheTrf3djt",
        "outputId": "f756dd07-8540-414b-b4ae-fffa07a3ec9a"
      },
      "outputs": [
        {
          "name": "stdout",
          "output_type": "stream",
          "text": [
            "Test: 0.1507109998333278 , Train: -0.06593244561790113 , RS : 6\n",
            "Test: 0.12089159244307222 , Train: -0.01969795421804088 , RS : 10\n",
            "Test: 0.015080875800281057 , Train: 0.0017731552271403883 , RS : 32\n",
            "Test: 0.025328630963713517 , Train: 0.013479770737339636 , RS : 49\n"
          ]
        }
      ],
      "source": [
        "from sklearn.linear_model import LinearRegression\n",
        "from sklearn.model_selection import train_test_split\n",
        "\n",
        "for i in range(1,51):\n",
        "    X_train,X_test,y_train,y_test = train_test_split(featureCorrAnalysis, label, test_size=0.2, random_state = i)\n",
        "    model1 = LinearRegression()\n",
        "    model1.fit(X_train,y_train)\n",
        "    \n",
        "    train_score = model1.score(X_train,y_train)\n",
        "    test_score = model1.score(X_test,y_test)\n",
        "    \n",
        "    if test_score > train_score and test_score >= CL:\n",
        "        print(\"Test: {} , Train: {} , RS : {}\".format(test_score,train_score,i))"
      ]
    },
    {
      "cell_type": "code",
      "execution_count": null,
      "metadata": {
        "id": "aFKiVrlm3djt"
      },
      "outputs": [],
      "source": [
        "#Output: 99% / 0.99 achieved using Corr Analysis using LinearRegresion, RS=10\n",
        "#Output: 98% / 0.98 achieved using Backward Elimination using OLS, RS=10\n",
        "#Output: 98% achieved using RFE (Rank 1 and 2) , RS=10\n",
        "#Output: 15% achieved using RFE(Rank1) using LinearRegression algo, RS=10\n",
        "#Output: 15% achieved using SBM using LinearRegression algo, RS=10\n"
      ]
    }
  ],
  "metadata": {
    "colab": {
      "provenance": []
    },
    "kernelspec": {
      "display_name": "Python 3",
      "language": "python",
      "name": "python3"
    },
    "language_info": {
      "codemirror_mode": {
        "name": "ipython",
        "version": 3
      },
      "file_extension": ".py",
      "mimetype": "text/x-python",
      "name": "python",
      "nbconvert_exporter": "python",
      "pygments_lexer": "ipython3",
      "version": "3.10.11"
    }
  },
  "nbformat": 4,
  "nbformat_minor": 0
}
