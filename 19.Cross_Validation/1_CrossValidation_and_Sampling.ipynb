{
  "cells": [
    {
      "cell_type": "code",
      "execution_count": null,
      "metadata": {
        "id": "Qeo70ETFT12Z"
      },
      "outputs": [],
      "source": [
        "import numpy as np\n",
        "import pandas as pd"
      ]
    },
    {
      "cell_type": "code",
      "execution_count": null,
      "metadata": {
        "id": "_F9wPkflT12b"
      },
      "outputs": [],
      "source": [
        "data = pd.read_csv(\"iris.csv\")"
      ]
    },
    {
      "cell_type": "code",
      "execution_count": null,
      "metadata": {
        "id": "S4aTy633T12b"
      },
      "outputs": [],
      "source": [
        "features = data.iloc[:,:-1].values\n",
        "label = data.iloc[:,-1].values"
      ]
    },
    {
      "cell_type": "markdown",
      "metadata": {
        "id": "iKe_FcgGT12c"
      },
      "source": [
        "# Cross Validation Technique"
      ]
    },
    {
      "cell_type": "markdown",
      "metadata": {
        "id": "h4PWyfYJT12d"
      },
      "source": [
        "### Goal:\n",
        "1. To get the minimum score threshold\n",
        "2. To understand what optimal score I can achieve from the dataset\n",
        "3. To extract the best training sample that can give the best score"
      ]
    },
    {
      "cell_type": "code",
      "execution_count": null,
      "metadata": {
        "id": "B4jNodIpT12d"
      },
      "outputs": [],
      "source": [
        "# Demonstrate the score threshold with LogisticRegression\n",
        "from sklearn.linear_model import LogisticRegression\n",
        "modelAlgo = LogisticRegression()"
      ]
    },
    {
      "cell_type": "code",
      "execution_count": null,
      "metadata": {
        "id": "BXsvwY9eT12d",
        "outputId": "9f85157d-4933-4f56-d035-f7d36e8686a4"
      },
      "outputs": [
        {
          "data": {
            "text/plain": [
              "array([1.        , 0.93333333, 1.        , 1.        , 0.93333333,\n",
              "       0.93333333, 0.93333333, 1.        , 1.        , 1.        ])"
            ]
          },
          "execution_count": 8,
          "metadata": {},
          "output_type": "execute_result"
        }
      ],
      "source": [
        "from sklearn.model_selection import cross_val_score\n",
        "\n",
        "# Supress warnings\n",
        "import warnings\n",
        "warnings.filterwarnings('ignore')\n",
        "\n",
        "scores = cross_val_score(modelAlgo,\n",
        "                        features,\n",
        "                        label,\n",
        "                        cv = 10) #5 or 10\n",
        "\n",
        "scores"
      ]
    },
    {
      "cell_type": "code",
      "execution_count": null,
      "metadata": {
        "id": "U3mB-RhvT12e",
        "outputId": "5024aa8c-2c85-4643-d9e9-d010571a4a3c"
      },
      "outputs": [
        {
          "name": "stdout",
          "output_type": "stream",
          "text": [
            "Minimum Score Threshold is :  0.9733333333333334\n"
          ]
        }
      ],
      "source": [
        "# What is the minimum score threshold for this dataset?\n",
        "\n",
        "print(\"Minimum Score Threshold is : \",scores.mean())\n",
        "print(\"Suggested SL value to commit: \", 1-scores.mean())"
      ]
    },
    {
      "cell_type": "code",
      "execution_count": null,
      "metadata": {
        "id": "vyAFnomxT12e"
      },
      "outputs": [],
      "source": [
        "# LogisticR : Threshold: 0.9733333333333334"
      ]
    },
    {
      "cell_type": "code",
      "execution_count": null,
      "metadata": {
        "id": "1ksLbrrUT12e",
        "outputId": "d1296a57-cfad-4f78-9f25-012b13e72bd0"
      },
      "outputs": [
        {
          "data": {
            "text/plain": [
              "1.0"
            ]
          },
          "execution_count": 10,
          "metadata": {},
          "output_type": "execute_result"
        }
      ],
      "source": [
        "# What is the optimal score I can achieve for this dataset using LogisticRegression?\n",
        "scores.max()"
      ]
    },
    {
      "cell_type": "code",
      "execution_count": null,
      "metadata": {
        "id": "UB2FHsBHT12f",
        "outputId": "b52de3b7-d69c-4069-b5d5-5538273d8e43"
      },
      "outputs": [
        {
          "name": "stdout",
          "output_type": "stream",
          "text": [
            "Test Score 1.0 Train Score 0.9777777777777777 for Sample Split 1\n",
            "Test Score 1.0 Train Score 0.9777777777777777 for Sample Split 4\n",
            "Test Score 1.0 Train Score 0.9703703703703703 for Sample Split 7\n",
            "Test Score 1.0 Train Score 0.9703703703703703 for Sample Split 9\n"
          ]
        }
      ],
      "source": [
        "# 3. To extract the best training sample that gives the best score for LogisticRegression\n",
        "\n",
        "# Step1: Initialize the algo\n",
        "from sklearn.linear_model import LogisticRegression\n",
        "modelAlgo = LogisticRegression()\n",
        "\n",
        "# Step2: Initialize K-Fold Cross Validation function\n",
        "\n",
        "from sklearn.model_selection import KFold\n",
        "\n",
        "kfold = KFold(n_splits=10, #Use the same CV values that was applied in cross_val_score\n",
        "             shuffle=True,\n",
        "             random_state = 1) # To ensure the data is not randomized at every iteration\n",
        "\n",
        "# 3. initialize for loop to identify which sample gives the best score and which sample is the best \n",
        "#.   training sample\n",
        "\n",
        "counter = 0\n",
        "\n",
        "for train,test in kfold.split(features):\n",
        "    \n",
        "    #Counter will help you track the sample split\n",
        "    counter += 1\n",
        "    \n",
        "    #Extract the training set and testing set\n",
        "    X_train,X_test = features[train],features[test]\n",
        "    y_train,y_test = label[train] , label[test]\n",
        "    \n",
        "    #Fit the model \n",
        "    modelAlgo.fit(X_train,y_train)\n",
        "    \n",
        "    if modelAlgo.score(X_test,y_test) >= 1.0:\n",
        "        print(\"Test Score {} Train Score {} for Sample Split {}\".format(modelAlgo.score(X_test,y_test),modelAlgo.score(X_train,y_train),counter))"
      ]
    },
    {
      "cell_type": "code",
      "execution_count": null,
      "metadata": {
        "id": "an02rhjWT12f"
      },
      "outputs": [],
      "source": [
        "# Extract the samples\n",
        "# Step1: Initialize the algo\n",
        "from sklearn.linear_model import LogisticRegression\n",
        "modelAlgo = LogisticRegression()\n",
        "\n",
        "# Step2: Initialize K-Fold Cross Validation function\n",
        "\n",
        "from sklearn.model_selection import KFold\n",
        "\n",
        "kfold = KFold(n_splits=10, #Use the same CV values that was applied in cross_val_score\n",
        "             shuffle=True,\n",
        "             random_state = 1) # To ensure the data is not randomized at every iteration\n",
        "\n",
        "# 3. initialize for loop to identify which sample gives the best score and which sample is the best \n",
        "#.   training sample\n",
        "\n",
        "counter = 0\n",
        "for train,test in kfold.split(features):\n",
        "    \n",
        "    #Counter will help you track the sample split\n",
        "    counter += 1\n",
        "    \n",
        "    if counter == 1:\n",
        "        X_train,X_test,y_train,y_test = features[train],features[test],label[train] , label[test]\n",
        "    \n",
        " \n",
        "    "
      ]
    },
    {
      "cell_type": "code",
      "source": [
        "kfold.split(features)"
      ],
      "metadata": {
        "id": "2VkREk4f1rAO"
      },
      "execution_count": null,
      "outputs": []
    },
    {
      "cell_type": "code",
      "execution_count": null,
      "metadata": {
        "id": "sutyCBPLT12f",
        "outputId": "3ad063c4-fb12-4e7c-e811-abe1ed3421ac"
      },
      "outputs": [
        {
          "data": {
            "text/plain": [
              "1.0"
            ]
          },
          "execution_count": 17,
          "metadata": {},
          "output_type": "execute_result"
        }
      ],
      "source": [
        "from sklearn.linear_model import LogisticRegression\n",
        "finalModel = LogisticRegression()\n",
        "finalModel.fit(X_train,y_train)\n",
        "finalModel.score(X_test,y_test)"
      ]
    },
    {
      "cell_type": "code",
      "execution_count": null,
      "metadata": {
        "id": "p6CaesFeT12g",
        "outputId": "6edef296-a757-413e-9487-1a1fd6ac7ce1"
      },
      "outputs": [
        {
          "name": "stdout",
          "output_type": "stream",
          "text": [
            "Test Score 1.0 Train Score 0.9666666666666667 for Sample Split 3\n",
            "Test Score 1.0 Train Score 0.975 for Sample Split 7\n",
            "Test Score 1.0 Train Score 0.9583333333333334 for Sample Split 10\n"
          ]
        }
      ],
      "source": [
        "# Another method to extract best sample (Optimized Way --> Dealing with Large Data in less time)\n",
        "# StraifiedShuffleSplit\n",
        "# 3. To extract the best training sample that gives the best score for LogisticRegression\n",
        "\n",
        "# Step1: Initialize the algo\n",
        "from sklearn.linear_model import LogisticRegression\n",
        "modelAlgo = LogisticRegression()\n",
        "\n",
        "# Step2: Initialize StratifiedShuffleSplit Cross Validation function\n",
        "\n",
        "from sklearn.model_selection import StratifiedShuffleSplit\n",
        "\n",
        "ss = StratifiedShuffleSplit(n_splits=10, #Use the same CV values that was applied in cross_val_score\n",
        "             test_size=0.2,\n",
        "             random_state = 1) # To ensure the data is not randomized at every iteration\n",
        "\n",
        "# 3. initialize for loop to identify which sample gives the best score and which sample is the best \n",
        "#.   training sample\n",
        "\n",
        "counter = 0\n",
        "\n",
        "for train,test in ss.split(features,label):\n",
        "    \n",
        "    #Counter will help you track the sample split\n",
        "    counter += 1\n",
        "    \n",
        "    #Extract the training set and testing set\n",
        "    X_train,X_test = features[train],features[test]\n",
        "    y_train,y_test = label[train] , label[test]\n",
        "    \n",
        "    #Fit the model \n",
        "    modelAlgo.fit(X_train,y_train)\n",
        "    \n",
        "    if modelAlgo.score(X_test,y_test) >= 1.0:\n",
        "        print(\"Test Score {} Train Score {} for Sample Split {}\".format(modelAlgo.score(X_test,y_test),modelAlgo.score(X_train,y_train),counter))"
      ]
    },
    {
      "cell_type": "code",
      "execution_count": null,
      "metadata": {
        "id": "UxGtwuZ0T12g"
      },
      "outputs": [],
      "source": [
        "# Extract the samples\n",
        "# Step1: Initialize the algo\n",
        "from sklearn.linear_model import LogisticRegression\n",
        "modelAlgo = LogisticRegression()\n",
        "\n",
        "# Step2: Initialize K-Fold Cross Validation function\n",
        "\n",
        "from sklearn.model_selection import StratifiedShuffleSplit\n",
        "\n",
        "ss = StratifiedShuffleSplit(n_splits=10, #Use the same CV values that was applied in cross_val_score\n",
        "             test_size=0.2,\n",
        "             random_state = 1) # To ensure the data is not randomized at every iteration\n",
        "\n",
        "# 3. initialize for loop to identify which sample gives the best score and which sample is the best \n",
        "#.   training sample\n",
        "\n",
        "counter = 0\n",
        "for train,test in ss.split(features,label):\n",
        "    \n",
        "    #Counter will help you track the sample split\n",
        "    counter += 1\n",
        "    \n",
        "    if counter == 7:\n",
        "        X_trainSS,X_testSS,y_trainSS,y_testSS = features[train],features[test],label[train] , label[test]\n",
        "    \n",
        " \n",
        "    "
      ]
    },
    {
      "cell_type": "code",
      "execution_count": null,
      "metadata": {
        "id": "ENd4-X5bT12g",
        "outputId": "426bcd4f-f7eb-4456-be41-cda3411ff4d3"
      },
      "outputs": [
        {
          "data": {
            "text/plain": [
              "1.0"
            ]
          },
          "execution_count": 20,
          "metadata": {},
          "output_type": "execute_result"
        }
      ],
      "source": [
        "from sklearn.linear_model import LogisticRegression\n",
        "finalModel = LogisticRegression()\n",
        "finalModel.fit(X_trainSS,y_trainSS)\n",
        "finalModel.score(X_testSS,y_testSS)"
      ]
    },
    {
      "cell_type": "code",
      "execution_count": null,
      "metadata": {
        "id": "0vFiXYJuT12g"
      },
      "outputs": [],
      "source": []
    }
  ],
  "metadata": {
    "kernelspec": {
      "display_name": "Python 3",
      "language": "python",
      "name": "python3"
    },
    "language_info": {
      "codemirror_mode": {
        "name": "ipython",
        "version": 3
      },
      "file_extension": ".py",
      "mimetype": "text/x-python",
      "name": "python",
      "nbconvert_exporter": "python",
      "pygments_lexer": "ipython3",
      "version": "3.7.6"
    },
    "colab": {
      "provenance": []
    }
  },
  "nbformat": 4,
  "nbformat_minor": 0
}