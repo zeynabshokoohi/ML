{
  "cells": [
    {
      "cell_type": "code",
      "execution_count": null,
      "metadata": {
        "id": "gi1ZviW1T2kk"
      },
      "outputs": [],
      "source": [
        "# What is Hyperparameter?\n",
        "#\n",
        "# The parameters that we set in the model constructor during the initialization phase are hyperparameters.\n",
        "#\n",
        "# Every algo has different set of Hyperparameters\n",
        "# Our Goal is to identify the best Hyperparameters for the given dataset and model\n",
        "# This is something we can achieve using Hyperparameter Tuning\n",
        "\n",
        "# Is Hyperparameter Tuning Mandatory?\n",
        "# No, if you achieve the best model using default config\n"
      ]
    },
    {
      "cell_type": "code",
      "execution_count": null,
      "metadata": {
        "id": "99pxUAKuT2kl"
      },
      "outputs": [],
      "source": [
        "import numpy as np\n",
        "import pandas as pd"
      ]
    },
    {
      "cell_type": "code",
      "execution_count": null,
      "metadata": {
        "id": "ugMqzxkuT2km"
      },
      "outputs": [],
      "source": [
        "data = pd.read_csv(\"iris.csv\")"
      ]
    },
    {
      "cell_type": "code",
      "execution_count": null,
      "metadata": {
        "id": "Lyj9lCKhT2km"
      },
      "outputs": [],
      "source": [
        "features = data.iloc[:,:-1].values\n",
        "label = data.iloc[:,-1].values"
      ]
    },
    {
      "cell_type": "code",
      "execution_count": null,
      "metadata": {
        "id": "gD5BWJgiT2km"
      },
      "outputs": [],
      "source": [
        "from sklearn.neighbors import KNeighborsClassifier\n",
        "modeltest = KNeighborsClassifier()"
      ]
    },
    {
      "cell_type": "code",
      "execution_count": null,
      "metadata": {
        "id": "FyBYLPZiT2km",
        "outputId": "76585975-9f30-4a3d-f2ff-8f74707c899b"
      },
      "outputs": [
        {
          "data": {
            "text/plain": [
              "array([1.        , 0.93333333, 1.        , 1.        , 0.86666667,\n",
              "       0.93333333, 0.93333333, 1.        , 1.        , 1.        ])"
            ]
          },
          "execution_count": 6,
          "metadata": {},
          "output_type": "execute_result"
        }
      ],
      "source": [
        "from sklearn.model_selection import cross_val_score\n",
        "\n",
        "# Supress warnings\n",
        "import warnings\n",
        "warnings.filterwarnings('ignore')\n",
        "\n",
        "scores = cross_val_score(modeltest,\n",
        "                        features,\n",
        "                        label,\n",
        "                        cv = 10) #5 or 10\n",
        "\n",
        "scores"
      ]
    },
    {
      "cell_type": "code",
      "execution_count": null,
      "metadata": {
        "id": "OAS4Cp7_T2kn",
        "outputId": "91cea1a6-c785-4e9a-e312-fc5bf7cf485a"
      },
      "outputs": [
        {
          "data": {
            "text/plain": [
              "0.9666666666666668"
            ]
          },
          "execution_count": 7,
          "metadata": {},
          "output_type": "execute_result"
        }
      ],
      "source": [
        "scores.mean()"
      ]
    },
    {
      "cell_type": "code",
      "execution_count": null,
      "metadata": {
        "id": "tTTKf33LT2kn"
      },
      "outputs": [],
      "source": [
        "#Goal: To identify the best Hyperparamter combinations for KNN w.r.t iris dataset\n",
        "#      that can give me the score > 0.96"
      ]
    },
    {
      "cell_type": "markdown",
      "metadata": {
        "id": "M4qDk3FKT2kn"
      },
      "source": [
        "# Method 1 --- Using GridSearchCV"
      ]
    },
    {
      "cell_type": "code",
      "execution_count": null,
      "metadata": {
        "id": "e8etQbXLT2ko"
      },
      "outputs": [],
      "source": [
        "'''\n",
        "KNeighborsClassifier(\t\n",
        "n_neighbors=5,\t               Positive Integer\n",
        "weights='uniform',\t          ‘uniform’, 'distance' \n",
        "algorithm='auto',\t          'auto', 'ball_tree', 'kd_tree', 'brute'\n",
        "leaf_size=30,\t               Positive Integer\n",
        "p=2,\t                      1 (Manhattan distance),   2(Elucidean distance)\n",
        "metric='minkowski',\t          \"“euclidean”, “manhattan”, “chebyshev”, “minkowski”\n",
        "                               “wminkowski”, “seuclidean”, “mahalanobis”\"\n",
        "metric_params=None,\t          Dictionary\n",
        "n_jobs=None,\t-1,            1 or -2\n",
        "**kwargs,\t\n",
        ")\t\n",
        "\n",
        "'''\n"
      ]
    },
    {
      "cell_type": "code",
      "execution_count": null,
      "metadata": {
        "id": "7TMeKjr9T2ko"
      },
      "outputs": [],
      "source": [
        "#Step1: Design the parameter grid. In Python, you can represent parameter grid in the form of Dictionary\n",
        "\n",
        "weightsParameter = ['uniform','distance']\n",
        "n_neighborsParameter = np.arange(1,31)\n",
        "algorithmParameter = ['auto', 'ball_tree', 'kd_tree', 'brute']\n",
        "metricParameter = ['euclidean', 'manhattan', 'chebyshev' , 'minkowski', 'seuclidean', 'mahalanobis']\n",
        "\n",
        "\n",
        "paramGrid = dict(n_neighbors = n_neighborsParameter,\n",
        "                weights= weightsParameter,\n",
        "                algorithm = algorithmParameter,\n",
        "                metric=metricParameter)\n",
        "\n",
        "# Step2: Initialize the algo\n",
        "\n",
        "from sklearn.neighbors import KNeighborsClassifier\n",
        "modelGridSearch = KNeighborsClassifier()\n",
        "\n",
        "#Step3: Search the best parameter for your data\n",
        "\n",
        "#GridSearchCV\n",
        "\n",
        "\n",
        "from sklearn.model_selection import GridSearchCV\n",
        "grid = GridSearchCV(modelGridSearch,\n",
        "                   param_grid=paramGrid,\n",
        "                   cv = 10) #Same as cross_val_score"
      ]
    },
    {
      "cell_type": "code",
      "execution_count": null,
      "metadata": {
        "id": "9fazRmMbT2ko",
        "outputId": "3a8982ad-943e-4d3c-d214-fe511bdbc2bf"
      },
      "outputs": [
        {
          "data": {
            "text/plain": [
              "GridSearchCV(cv=10, error_score=nan,\n",
              "             estimator=KNeighborsClassifier(algorithm='auto', leaf_size=30,\n",
              "                                            metric='minkowski',\n",
              "                                            metric_params=None, n_jobs=None,\n",
              "                                            n_neighbors=5, p=2,\n",
              "                                            weights='uniform'),\n",
              "             iid='deprecated', n_jobs=None,\n",
              "             param_grid={'algorithm': ['auto', 'ball_tree', 'kd_tree', 'brute'],\n",
              "                         'metric': ['euclidean', 'manhattan', 'chebyshev',\n",
              "                                    'minkowski', 'seuclidean', 'mahalanobis'],\n",
              "                         'n_neighbors': array([ 1,  2,  3,  4,  5,  6,  7,  8,  9, 10, 11, 12, 13, 14, 15, 16, 17,\n",
              "       18, 19, 20, 21, 22, 23, 24, 25, 26, 27, 28, 29, 30]),\n",
              "                         'weights': ['uniform', 'distance']},\n",
              "             pre_dispatch='2*n_jobs', refit=True, return_train_score=False,\n",
              "             scoring=None, verbose=0)"
            ]
          },
          "execution_count": 12,
          "metadata": {},
          "output_type": "execute_result"
        }
      ],
      "source": [
        "# Step4: Extract Results\n",
        "\n",
        "grid.fit(features,label)"
      ]
    },
    {
      "cell_type": "code",
      "execution_count": null,
      "metadata": {
        "id": "vbtKvDETT2kp",
        "outputId": "e58b2b47-d165-4676-ae6b-116efa0b1b5a"
      },
      "outputs": [
        {
          "data": {
            "text/plain": [
              "0.9866666666666667"
            ]
          },
          "execution_count": 13,
          "metadata": {},
          "output_type": "execute_result"
        }
      ],
      "source": [
        "grid.best_score_"
      ]
    },
    {
      "cell_type": "code",
      "execution_count": null,
      "metadata": {
        "id": "Z-JWRU5fT2kp",
        "outputId": "74617d7a-0799-4294-c81d-8604cd2a7070"
      },
      "outputs": [
        {
          "data": {
            "text/plain": [
              "KNeighborsClassifier(algorithm='brute', leaf_size=30, metric='chebyshev',\n",
              "                     metric_params=None, n_jobs=None, n_neighbors=6, p=2,\n",
              "                     weights='uniform')"
            ]
          },
          "execution_count": 17,
          "metadata": {},
          "output_type": "execute_result"
        }
      ],
      "source": [
        "grid.best_estimator_"
      ]
    },
    {
      "cell_type": "code",
      "execution_count": null,
      "metadata": {
        "id": "9bmHYikmT2kp"
      },
      "outputs": [],
      "source": [
        "finalModel = KNeighborsClassifier(algorithm='brute', leaf_size=30, metric='chebyshev',\n",
        "                     metric_params=None, n_jobs=None, n_neighbors=6, p=2,\n",
        "                     weights='uniform')"
      ]
    },
    {
      "cell_type": "code",
      "execution_count": null,
      "metadata": {
        "id": "IwDnqBVQT2kp",
        "outputId": "ab0d2841-b9b8-468a-8cc0-91734eaa5e4c"
      },
      "outputs": [
        {
          "data": {
            "text/plain": [
              "{'algorithm': 'brute',\n",
              " 'metric': 'chebyshev',\n",
              " 'n_neighbors': 6,\n",
              " 'weights': 'uniform'}"
            ]
          },
          "execution_count": 15,
          "metadata": {},
          "output_type": "execute_result"
        }
      ],
      "source": [
        "grid.best_params_"
      ]
    },
    {
      "cell_type": "markdown",
      "metadata": {
        "id": "vNdv2hblT2kp"
      },
      "source": [
        "# Method 2: Using RandomizedGridSearchCV"
      ]
    },
    {
      "cell_type": "code",
      "execution_count": null,
      "metadata": {
        "id": "a8BDQMTMT2kp"
      },
      "outputs": [],
      "source": [
        "#Step1: Design the parameter grid. In Python, you can represent parameter grid in the form of Dictionary\n",
        "\n",
        "weightsParameter = ['uniform','distance']\n",
        "n_neighborsParameter = np.arange(1,31)\n",
        "algorithmParameter = ['auto', 'ball_tree', 'kd_tree', 'brute']\n",
        "metricParameter = ['euclidean', 'manhattan', 'chebyshev' , 'minkowski', 'seuclidean', 'mahalanobis']\n",
        "\n",
        "\n",
        "paramGrid = dict(n_neighbors = n_neighborsParameter,\n",
        "                weights= weightsParameter,\n",
        "                algorithm = algorithmParameter,\n",
        "                metric=metricParameter)\n",
        "\n",
        "# Step2: Initialize the algo\n",
        "\n",
        "from sklearn.neighbors import KNeighborsClassifier\n",
        "modelRGridSearch = KNeighborsClassifier()\n",
        "\n",
        "#Step3: Search the best parameter for your data\n",
        "\n",
        "#RandomizedSearchCV\n",
        "\n",
        "\n",
        "from sklearn.model_selection import RandomizedSearchCV\n",
        "rSearchgrid = RandomizedSearchCV(modelRGridSearch,\n",
        "                   param_distributions=paramGrid,\n",
        "                   cv = 10) #Same as cross_val_score"
      ]
    },
    {
      "cell_type": "code",
      "execution_count": null,
      "metadata": {
        "id": "2AdMSNlOT2kp",
        "outputId": "9c5bad4c-dd53-4593-dec4-1237f602d7e4"
      },
      "outputs": [
        {
          "data": {
            "text/plain": [
              "RandomizedSearchCV(cv=10, error_score=nan,\n",
              "                   estimator=KNeighborsClassifier(algorithm='auto',\n",
              "                                                  leaf_size=30,\n",
              "                                                  metric='minkowski',\n",
              "                                                  metric_params=None,\n",
              "                                                  n_jobs=None, n_neighbors=5,\n",
              "                                                  p=2, weights='uniform'),\n",
              "                   iid='deprecated', n_iter=10, n_jobs=None,\n",
              "                   param_distributions={'algorithm': ['auto', 'ball_tree',\n",
              "                                                      'kd_tree', 'brute'],\n",
              "                                        'metric': ['euclidean', 'manhattan',\n",
              "                                                   'chebyshev', 'minkowski',\n",
              "                                                   'seuclidean',\n",
              "                                                   'mahalanobis'],\n",
              "                                        'n_neighbors': array([ 1,  2,  3,  4,  5,  6,  7,  8,  9, 10, 11, 12, 13, 14, 15, 16, 17,\n",
              "       18, 19, 20, 21, 22, 23, 24, 25, 26, 27, 28, 29, 30]),\n",
              "                                        'weights': ['uniform', 'distance']},\n",
              "                   pre_dispatch='2*n_jobs', random_state=None, refit=True,\n",
              "                   return_train_score=False, scoring=None, verbose=0)"
            ]
          },
          "execution_count": 19,
          "metadata": {},
          "output_type": "execute_result"
        }
      ],
      "source": [
        "rSearchgrid.fit(features,label)"
      ]
    },
    {
      "cell_type": "code",
      "execution_count": null,
      "metadata": {
        "id": "dg8_JsWST2kp",
        "outputId": "1ad81713-8b33-4e13-d71e-966e564fa697"
      },
      "outputs": [
        {
          "data": {
            "text/plain": [
              "0.9733333333333334"
            ]
          },
          "execution_count": 20,
          "metadata": {},
          "output_type": "execute_result"
        }
      ],
      "source": [
        "rSearchgrid.best_score_"
      ]
    },
    {
      "cell_type": "code",
      "execution_count": null,
      "metadata": {
        "id": "kkg5pf8WT2kq",
        "outputId": "11a6bf25-d36c-475e-865c-bdc8b7df7d99"
      },
      "outputs": [
        {
          "data": {
            "text/plain": [
              "KNeighborsClassifier(algorithm='brute', leaf_size=30, metric='manhattan',\n",
              "                     metric_params=None, n_jobs=None, n_neighbors=18, p=2,\n",
              "                     weights='distance')"
            ]
          },
          "execution_count": 21,
          "metadata": {},
          "output_type": "execute_result"
        }
      ],
      "source": [
        "rSearchgrid.best_estimator_"
      ]
    },
    {
      "cell_type": "code",
      "execution_count": null,
      "metadata": {
        "id": "UY-HyMCZT2kq",
        "outputId": "2cf88b79-7fd2-4889-fdcc-efe5e6f41209"
      },
      "outputs": [
        {
          "data": {
            "text/plain": [
              "KNeighborsClassifier(algorithm='brute', leaf_size=30, metric='chebyshev',\n",
              "                     metric_params=None, n_jobs=None, n_neighbors=6, p=2,\n",
              "                     weights='uniform')"
            ]
          },
          "execution_count": 22,
          "metadata": {},
          "output_type": "execute_result"
        }
      ],
      "source": [
        "grid.best_estimator_"
      ]
    },
    {
      "cell_type": "code",
      "execution_count": null,
      "metadata": {
        "id": "_rmT_qQ6T2kq"
      },
      "outputs": [],
      "source": []
    }
  ],
  "metadata": {
    "kernelspec": {
      "display_name": "Python 3",
      "language": "python",
      "name": "python3"
    },
    "language_info": {
      "codemirror_mode": {
        "name": "ipython",
        "version": 3
      },
      "file_extension": ".py",
      "mimetype": "text/x-python",
      "name": "python",
      "nbconvert_exporter": "python",
      "pygments_lexer": "ipython3",
      "version": "3.7.6"
    },
    "colab": {
      "provenance": []
    }
  },
  "nbformat": 4,
  "nbformat_minor": 0
}