{
 "cells": [
  {
   "cell_type": "markdown",
   "metadata": {},
   "source": [
    "# Use-case: An HR company has hired you as a DS/ML engg. Your job is tocreate a model that can predict the salary of the employee based on his/her yearsexperience"
   ]
  },
  {
   "cell_type": "code",
   "execution_count": 1,
   "metadata": {},
   "outputs": [],
   "source": [
    "import numpy as np\n",
    "import pandas as pd"
   ]
  },
  {
   "cell_type": "code",
   "execution_count": 2,
   "metadata": {},
   "outputs": [],
   "source": [
    "salaryData = pd.read_csv('Salary_Data.csv')"
   ]
  },
  {
   "cell_type": "code",
   "execution_count": 9,
   "metadata": {},
   "outputs": [
    {
     "data": {
      "text/html": [
       "<div>\n",
       "<style scoped>\n",
       "    .dataframe tbody tr th:only-of-type {\n",
       "        vertical-align: middle;\n",
       "    }\n",
       "\n",
       "    .dataframe tbody tr th {\n",
       "        vertical-align: top;\n",
       "    }\n",
       "\n",
       "    .dataframe thead th {\n",
       "        text-align: right;\n",
       "    }\n",
       "</style>\n",
       "<table border=\"1\" class=\"dataframe\">\n",
       "  <thead>\n",
       "    <tr style=\"text-align: right;\">\n",
       "      <th></th>\n",
       "      <th>YearsExperience</th>\n",
       "      <th>Salary</th>\n",
       "    </tr>\n",
       "  </thead>\n",
       "  <tbody>\n",
       "    <tr>\n",
       "      <th>0</th>\n",
       "      <td>1.1</td>\n",
       "      <td>39343.0</td>\n",
       "    </tr>\n",
       "    <tr>\n",
       "      <th>1</th>\n",
       "      <td>1.3</td>\n",
       "      <td>46205.0</td>\n",
       "    </tr>\n",
       "    <tr>\n",
       "      <th>2</th>\n",
       "      <td>1.5</td>\n",
       "      <td>37731.0</td>\n",
       "    </tr>\n",
       "    <tr>\n",
       "      <th>3</th>\n",
       "      <td>2.0</td>\n",
       "      <td>43525.0</td>\n",
       "    </tr>\n",
       "    <tr>\n",
       "      <th>4</th>\n",
       "      <td>2.2</td>\n",
       "      <td>39891.0</td>\n",
       "    </tr>\n",
       "  </tbody>\n",
       "</table>\n",
       "</div>"
      ],
      "text/plain": [
       "   YearsExperience   Salary\n",
       "0              1.1  39343.0\n",
       "1              1.3  46205.0\n",
       "2              1.5  37731.0\n",
       "3              2.0  43525.0\n",
       "4              2.2  39891.0"
      ]
     },
     "execution_count": 9,
     "metadata": {},
     "output_type": "execute_result"
    }
   ],
   "source": [
    "salaryData.head()"
   ]
  },
  {
   "cell_type": "code",
   "execution_count": 5,
   "metadata": {},
   "outputs": [],
   "source": [
    "salaryData.dropna(inplace=True)"
   ]
  },
  {
   "cell_type": "code",
   "execution_count": 7,
   "metadata": {},
   "outputs": [
    {
     "data": {
      "text/html": [
       "<div>\n",
       "<style scoped>\n",
       "    .dataframe tbody tr th:only-of-type {\n",
       "        vertical-align: middle;\n",
       "    }\n",
       "\n",
       "    .dataframe tbody tr th {\n",
       "        vertical-align: top;\n",
       "    }\n",
       "\n",
       "    .dataframe thead th {\n",
       "        text-align: right;\n",
       "    }\n",
       "</style>\n",
       "<table border=\"1\" class=\"dataframe\">\n",
       "  <thead>\n",
       "    <tr style=\"text-align: right;\">\n",
       "      <th></th>\n",
       "      <th>YearsExperience</th>\n",
       "      <th>Salary</th>\n",
       "    </tr>\n",
       "  </thead>\n",
       "  <tbody>\n",
       "    <tr>\n",
       "      <th>count</th>\n",
       "      <td>30.000000</td>\n",
       "      <td>30.000000</td>\n",
       "    </tr>\n",
       "    <tr>\n",
       "      <th>mean</th>\n",
       "      <td>5.313333</td>\n",
       "      <td>76003.000000</td>\n",
       "    </tr>\n",
       "    <tr>\n",
       "      <th>std</th>\n",
       "      <td>2.837888</td>\n",
       "      <td>27414.429785</td>\n",
       "    </tr>\n",
       "    <tr>\n",
       "      <th>min</th>\n",
       "      <td>1.100000</td>\n",
       "      <td>37731.000000</td>\n",
       "    </tr>\n",
       "    <tr>\n",
       "      <th>25%</th>\n",
       "      <td>3.200000</td>\n",
       "      <td>56720.750000</td>\n",
       "    </tr>\n",
       "    <tr>\n",
       "      <th>50%</th>\n",
       "      <td>4.700000</td>\n",
       "      <td>65237.000000</td>\n",
       "    </tr>\n",
       "    <tr>\n",
       "      <th>75%</th>\n",
       "      <td>7.700000</td>\n",
       "      <td>100544.750000</td>\n",
       "    </tr>\n",
       "    <tr>\n",
       "      <th>max</th>\n",
       "      <td>10.500000</td>\n",
       "      <td>122391.000000</td>\n",
       "    </tr>\n",
       "  </tbody>\n",
       "</table>\n",
       "</div>"
      ],
      "text/plain": [
       "       YearsExperience         Salary\n",
       "count        30.000000      30.000000\n",
       "mean          5.313333   76003.000000\n",
       "std           2.837888   27414.429785\n",
       "min           1.100000   37731.000000\n",
       "25%           3.200000   56720.750000\n",
       "50%           4.700000   65237.000000\n",
       "75%           7.700000  100544.750000\n",
       "max          10.500000  122391.000000"
      ]
     },
     "execution_count": 7,
     "metadata": {},
     "output_type": "execute_result"
    }
   ],
   "source": [
    "salaryData.describe()"
   ]
  },
  {
   "cell_type": "code",
   "execution_count": 8,
   "metadata": {},
   "outputs": [],
   "source": [
    "#For Sklearn users:\n",
    "# Rules for Regression:\n",
    "# 1. Features and label must be in the form of numpy array\n",
    "# 2. Features must be in 2d array\n",
    "# 3. Label must be in 2d array"
   ]
  },
  {
   "cell_type": "code",
   "execution_count": 14,
   "metadata": {},
   "outputs": [],
   "source": [
    "#Seperate data as features and label\n",
    "features = salaryData.iloc[:,[0]].values\n",
    "label = salaryData.Salary.values.reshape(-1,1)"
   ]
  },
  {
   "cell_type": "code",
   "execution_count": 17,
   "metadata": {},
   "outputs": [],
   "source": [
    "#ML coding begins\n",
    "\n",
    "# Before you initiate the coding, you must know two things from your data scientists:\n",
    "# 1. Approved Significance level for the project\n",
    "# 2. Timeline to develop and deploy the model\n",
    "\n",
    "\n",
    "\n",
    "# 1. Create Train Test Split\n",
    "# 2. Build the model\n",
    "# 3. Check the Quality of the Model\n",
    "# 4. If Satisfied, perform Deployment ; else go to step 2"
   ]
  },
  {
   "cell_type": "code",
   "execution_count": 18,
   "metadata": {},
   "outputs": [],
   "source": [
    "# 1. Create Train Test Split\n",
    "\n",
    "from sklearn.model_selection import train_test_split\n",
    "\n",
    "X_train,X_test,y_train,y_test = train_test_split(features,\n",
    "                label,\n",
    "                test_size=0.2,\n",
    "                random_state=10)"
   ]
  },
  {
   "cell_type": "code",
   "execution_count": 19,
   "metadata": {},
   "outputs": [
    {
     "data": {
      "text/plain": [
       "LinearRegression(copy_X=True, fit_intercept=True, n_jobs=None, normalize=False)"
      ]
     },
     "execution_count": 19,
     "metadata": {},
     "output_type": "execute_result"
    }
   ],
   "source": [
    "# 2. Build the model\n",
    "\n",
    "from sklearn.linear_model import LinearRegression\n",
    "model = LinearRegression()\n",
    "model.fit(X_train,y_train)"
   ]
  },
  {
   "cell_type": "code",
   "execution_count": 20,
   "metadata": {},
   "outputs": [],
   "source": [
    "# 3. Check the Quality of the Model\n",
    "#Assume : SL = 0.05\n",
    "# Rule by Prashant Nair:\n",
    "# The best way to check the quality of the model is:\n",
    "# 1. Ensure your test score > train score (Model must be perform best on UNKNOWN DATA !!!)\n",
    "# 2. Ensure your test score >= (1 - SL)"
   ]
  },
  {
   "cell_type": "code",
   "execution_count": 21,
   "metadata": {},
   "outputs": [
    {
     "name": "stdout",
     "output_type": "stream",
     "text": [
      "0.9494673013344644\n",
      "0.9816423482070255\n"
     ]
    }
   ],
   "source": [
    "print(model.score(X_train,y_train))\n",
    "print(model.score(X_test,y_test))"
   ]
  },
  {
   "cell_type": "code",
   "execution_count": 23,
   "metadata": {},
   "outputs": [
    {
     "name": "stdout",
     "output_type": "stream",
     "text": [
      "Test S 0.9695039421049821, Train Score 0.9545249190394052, RandomSeed 3\n",
      "Test S 0.9631182154839475, Train Score 0.9528197369259258, RandomSeed 8\n",
      "Test S 0.9816423482070255, Train Score 0.9494673013344644, RandomSeed 10\n",
      "Test S 0.9606215790278543, Train Score 0.9527636176933665, RandomSeed 14\n",
      "Test S 0.9835849730044817, Train Score 0.9460054870434312, RandomSeed 26\n",
      "Test S 0.9636425773684422, Train Score 0.9527636606684406, RandomSeed 27\n",
      "Test S 0.9944092048209744, Train Score 0.9400496694274888, RandomSeed 30\n",
      "Test S 0.9778242092591887, Train Score 0.9486350116716654, RandomSeed 37\n",
      "Test S 0.9724794487377619, Train Score 0.9473317052697812, RandomSeed 38\n",
      "Test S 0.9928344802911049, Train Score 0.9492886917497556, RandomSeed 39\n",
      "Test S 0.9802519469633169, Train Score 0.9491742100347064, RandomSeed 41\n",
      "Test S 0.9789129767378081, Train Score 0.948821675263085, RandomSeed 46\n",
      "Test S 0.98399193890564, Train Score 0.9486450781125914, RandomSeed 47\n",
      "Test S 0.980277279178695, Train Score 0.9500780390200971, RandomSeed 48\n",
      "Test S 0.9608624689052039, Train Score 0.9541375225175409, RandomSeed 51\n",
      "Test S 0.9743646706957547, Train Score 0.952756273050018, RandomSeed 52\n",
      "Test S 0.9804067424885895, Train Score 0.9504872715098402, RandomSeed 56\n",
      "Test S 0.9719509793938971, Train Score 0.9473987125707488, RandomSeed 62\n",
      "Test S 0.95820089851047, Train Score 0.9505483928196958, RandomSeed 63\n",
      "Test S 0.9588832495320915, Train Score 0.9562672856609079, RandomSeed 67\n",
      "Test S 0.9791787060652751, Train Score 0.937932068950384, RandomSeed 68\n",
      "Test S 0.9694792167947474, Train Score 0.9504137960985714, RandomSeed 71\n",
      "Test S 0.9562771755752736, Train Score 0.9562030951258303, RandomSeed 72\n",
      "Test S 0.981214310330871, Train Score 0.9453900863447221, RandomSeed 73\n",
      "Test S 0.9618591691900452, Train Score 0.9553251075019685, RandomSeed 74\n",
      "Test S 0.9652242905568414, Train Score 0.9533893439783429, RandomSeed 75\n",
      "Test S 0.9782012346646264, Train Score 0.9504675637559191, RandomSeed 77\n",
      "Test S 0.9861836585536035, Train Score 0.9464278082328255, RandomSeed 78\n",
      "Test S 0.9806625667591384, Train Score 0.9490941521623282, RandomSeed 79\n",
      "Test S 0.9760426364249574, Train Score 0.9500955424260096, RandomSeed 81\n",
      "Test S 0.9771739926822539, Train Score 0.9466573106897649, RandomSeed 85\n",
      "Test S 0.9743110017459555, Train Score 0.9473439749203112, RandomSeed 86\n",
      "Test S 0.9770761663991681, Train Score 0.9423648233451756, RandomSeed 88\n",
      "Test S 0.9744265816506664, Train Score 0.946728531416641, RandomSeed 89\n",
      "Test S 0.9676701872390631, Train Score 0.9529778812782739, RandomSeed 90\n",
      "Test S 0.9793995823406391, Train Score 0.9469346629378338, RandomSeed 92\n",
      "Test S 0.9682219576297961, Train Score 0.9534166513146052, RandomSeed 93\n",
      "Test S 0.9676991009836634, Train Score 0.9514417860805683, RandomSeed 94\n"
     ]
    }
   ],
   "source": [
    "#Challenge !!!! ---> Try to get the best model with target of minimum 99% accuracy\n",
    "# Data Randomization always give different results !!!\n",
    "\n",
    "from sklearn.linear_model import LinearRegression\n",
    "from sklearn.model_selection import train_test_split\n",
    "\n",
    "for i in range(1,100):\n",
    "    X_train,X_test,y_train,y_test = train_test_split(features,label,test_size=0.2,random_state=i)\n",
    "    model = LinearRegression()\n",
    "    model.fit(X_train,y_train)\n",
    "    train_score = model.score(X_train,y_train)\n",
    "    test_score = model.score(X_test,y_test)\n",
    "    \n",
    "    if test_score > train_score:\n",
    "        print(\"Test S {}, Train Score {}, RandomSeed {}\".format(test_score,train_score,i))\n",
    "\n"
   ]
  },
  {
   "cell_type": "code",
   "execution_count": 24,
   "metadata": {},
   "outputs": [
    {
     "name": "stdout",
     "output_type": "stream",
     "text": [
      "0.9400496694274888\n",
      "0.9944092048209744\n"
     ]
    }
   ],
   "source": [
    "#Final Model\n",
    "X_train,X_test,y_train,y_test = train_test_split(features,label,test_size=0.2,random_state=30)\n",
    "finalModel = LinearRegression()\n",
    "finalModel.fit(X_train,y_train)\n",
    "print(finalModel.score(X_train,y_train))\n",
    "print(finalModel.score(X_test,y_test))"
   ]
  },
  {
   "cell_type": "code",
   "execution_count": 25,
   "metadata": {},
   "outputs": [],
   "source": [
    "# 4. If Satisfied, perform Deployment \n",
    "\n",
    "import pickle\n",
    "pickle.dump(finalModel , open('modelSalaryPredictor.nair' , 'wb') )"
   ]
  },
  {
   "cell_type": "code",
   "execution_count": null,
   "metadata": {},
   "outputs": [],
   "source": []
  }
 ],
 "metadata": {
  "kernelspec": {
   "display_name": "Python 3",
   "language": "python",
   "name": "python3"
  },
  "language_info": {
   "codemirror_mode": {
    "name": "ipython",
    "version": 3
   },
   "file_extension": ".py",
   "mimetype": "text/x-python",
   "name": "python",
   "nbconvert_exporter": "python",
   "pygments_lexer": "ipython3",
   "version": "3.7.6"
  }
 },
 "nbformat": 4,
 "nbformat_minor": 4
}
